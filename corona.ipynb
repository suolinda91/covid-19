{
 "cells": [
  {
   "cell_type": "code",
   "execution_count": null,
   "metadata": {},
   "outputs": [],
   "source": [
    "Objective: Worldwide numbers, More detail for China and Europe"
   ]
  },
  {
   "cell_type": "code",
   "execution_count": 1,
   "metadata": {},
   "outputs": [
    {
     "name": "stdout",
     "output_type": "stream",
     "text": [
      "Requirement already satisfied: plotly in c:\\users\\susi\\.conda\\envs\\geopanadasenv\\lib\\site-packages (4.5.2)\n",
      "Requirement already satisfied: six in c:\\users\\susi\\.conda\\envs\\geopanadasenv\\lib\\site-packages (from plotly) (1.14.0)\n",
      "Requirement already satisfied: retrying>=1.3.3 in c:\\users\\susi\\.conda\\envs\\geopanadasenv\\lib\\site-packages (from plotly) (1.3.3)\n"
     ]
    }
   ],
   "source": [
    "!pip install plotly"
   ]
  },
  {
   "cell_type": "code",
   "execution_count": 63,
   "metadata": {},
   "outputs": [
    {
     "data": {
      "text/html": [
       "<div>\n",
       "<style scoped>\n",
       "    .dataframe tbody tr th:only-of-type {\n",
       "        vertical-align: middle;\n",
       "    }\n",
       "\n",
       "    .dataframe tbody tr th {\n",
       "        vertical-align: top;\n",
       "    }\n",
       "\n",
       "    .dataframe thead th {\n",
       "        text-align: right;\n",
       "    }\n",
       "</style>\n",
       "<table border=\"1\" class=\"dataframe\">\n",
       "  <thead>\n",
       "    <tr style=\"text-align: right;\">\n",
       "      <th></th>\n",
       "      <th>SNo</th>\n",
       "      <th>ObservationDate</th>\n",
       "      <th>Province/State</th>\n",
       "      <th>Country</th>\n",
       "      <th>Last Update</th>\n",
       "      <th>Confirmed</th>\n",
       "      <th>Deaths</th>\n",
       "      <th>Recovered</th>\n",
       "    </tr>\n",
       "  </thead>\n",
       "  <tbody>\n",
       "    <tr>\n",
       "      <th>0</th>\n",
       "      <td>1</td>\n",
       "      <td>01/22/2020</td>\n",
       "      <td>Anhui</td>\n",
       "      <td>Mainland China</td>\n",
       "      <td>1/22/2020 17:00</td>\n",
       "      <td>1.0</td>\n",
       "      <td>0.0</td>\n",
       "      <td>0.0</td>\n",
       "    </tr>\n",
       "    <tr>\n",
       "      <th>1</th>\n",
       "      <td>2</td>\n",
       "      <td>01/22/2020</td>\n",
       "      <td>Beijing</td>\n",
       "      <td>Mainland China</td>\n",
       "      <td>1/22/2020 17:00</td>\n",
       "      <td>14.0</td>\n",
       "      <td>0.0</td>\n",
       "      <td>0.0</td>\n",
       "    </tr>\n",
       "    <tr>\n",
       "      <th>2</th>\n",
       "      <td>3</td>\n",
       "      <td>01/22/2020</td>\n",
       "      <td>Chongqing</td>\n",
       "      <td>Mainland China</td>\n",
       "      <td>1/22/2020 17:00</td>\n",
       "      <td>6.0</td>\n",
       "      <td>0.0</td>\n",
       "      <td>0.0</td>\n",
       "    </tr>\n",
       "    <tr>\n",
       "      <th>3</th>\n",
       "      <td>4</td>\n",
       "      <td>01/22/2020</td>\n",
       "      <td>Fujian</td>\n",
       "      <td>Mainland China</td>\n",
       "      <td>1/22/2020 17:00</td>\n",
       "      <td>1.0</td>\n",
       "      <td>0.0</td>\n",
       "      <td>0.0</td>\n",
       "    </tr>\n",
       "    <tr>\n",
       "      <th>4</th>\n",
       "      <td>5</td>\n",
       "      <td>01/22/2020</td>\n",
       "      <td>Gansu</td>\n",
       "      <td>Mainland China</td>\n",
       "      <td>1/22/2020 17:00</td>\n",
       "      <td>0.0</td>\n",
       "      <td>0.0</td>\n",
       "      <td>0.0</td>\n",
       "    </tr>\n",
       "  </tbody>\n",
       "</table>\n",
       "</div>"
      ],
      "text/plain": [
       "   SNo ObservationDate Province/State         Country      Last Update  \\\n",
       "0    1      01/22/2020          Anhui  Mainland China  1/22/2020 17:00   \n",
       "1    2      01/22/2020        Beijing  Mainland China  1/22/2020 17:00   \n",
       "2    3      01/22/2020      Chongqing  Mainland China  1/22/2020 17:00   \n",
       "3    4      01/22/2020         Fujian  Mainland China  1/22/2020 17:00   \n",
       "4    5      01/22/2020          Gansu  Mainland China  1/22/2020 17:00   \n",
       "\n",
       "   Confirmed  Deaths  Recovered  \n",
       "0        1.0     0.0        0.0  \n",
       "1       14.0     0.0        0.0  \n",
       "2        6.0     0.0        0.0  \n",
       "3        1.0     0.0        0.0  \n",
       "4        0.0     0.0        0.0  "
      ]
     },
     "execution_count": 63,
     "metadata": {},
     "output_type": "execute_result"
    }
   ],
   "source": [
    "import pandas as pd\n",
    "import numpy as np\n",
    "\n",
    "covid_global_df = pd.read_csv('./data/covid_19_data.csv')\n",
    "#Rename column Country/region to Country\n",
    "covid_global_df = covid_global_df.rename(columns={'Country/Region':'Country'})\n",
    "\n",
    "#Replace 'None' as NaN\n",
    "covid_global_df['Province/State'].replace(to_replace='None', value=np.nan, inplace=True)\n",
    "\n",
    "covid_global_df.head()"
   ]
  },
  {
   "cell_type": "code",
   "execution_count": 125,
   "metadata": {},
   "outputs": [],
   "source": [
    "# Sort values in order to have the newest numbers on the top\n",
    "cases_now_df = covid_global_df.copy(deep=True)\n",
    "\n",
    "cases_now_df.sort_values('ObservationDate', ascending=False, inplace=True)\n",
    "\n",
    "# Remove rows with duplicate Country Entries\n",
    "cases_now_df.drop_duplicates(subset = ['Province/State', 'Country'], keep='first', inplace=True)\n",
    "\n",
    "#cases_now_df = cases_now_df[cases_now_df['Country'] != 'US']\n",
    "#cases_now_df = cases_now_df[cases_now_df['Country'] != 'Mainland China']\n",
    "\n",
    "# Sum of all corona cases within Mainland China and the US. Original data is divided by Province/State\n",
    "cases_now_df = cases_now_df.append(cases_now_df[(cases_now_df['Country'] == 'Mainland China') |\n",
    "                                       (cases_now_df['Country'] == 'US')].groupby('Country').sum().reset_index(), sort=False, ignore_index=True)\n",
    "\n",
    "cases_now_df = cases_now_df[cases_now_df['Confirmed']>0]\n",
    "cases_now_df = cases_now_df[(cases_now_df['Province/State'].isnull())]"
   ]
  },
  {
   "cell_type": "code",
   "execution_count": 126,
   "metadata": {},
   "outputs": [
    {
     "data": {
      "text/html": [
       "<div>\n",
       "<style scoped>\n",
       "    .dataframe tbody tr th:only-of-type {\n",
       "        vertical-align: middle;\n",
       "    }\n",
       "\n",
       "    .dataframe tbody tr th {\n",
       "        vertical-align: top;\n",
       "    }\n",
       "\n",
       "    .dataframe thead th {\n",
       "        text-align: right;\n",
       "    }\n",
       "</style>\n",
       "<table border=\"1\" class=\"dataframe\">\n",
       "  <thead>\n",
       "    <tr style=\"text-align: right;\">\n",
       "      <th></th>\n",
       "      <th>SNo</th>\n",
       "      <th>ObservationDate</th>\n",
       "      <th>Province/State</th>\n",
       "      <th>Country</th>\n",
       "      <th>Last Update</th>\n",
       "      <th>Confirmed</th>\n",
       "      <th>Deaths</th>\n",
       "      <th>Recovered</th>\n",
       "    </tr>\n",
       "  </thead>\n",
       "  <tbody>\n",
       "    <tr>\n",
       "      <th>3</th>\n",
       "      <td>3292</td>\n",
       "      <td>03/04/2020</td>\n",
       "      <td>NaN</td>\n",
       "      <td>Belgium</td>\n",
       "      <td>2020-03-04T12:33:03</td>\n",
       "      <td>23.0</td>\n",
       "      <td>0.0</td>\n",
       "      <td>1.0</td>\n",
       "    </tr>\n",
       "    <tr>\n",
       "      <th>4</th>\n",
       "      <td>3291</td>\n",
       "      <td>03/04/2020</td>\n",
       "      <td>NaN</td>\n",
       "      <td>Iceland</td>\n",
       "      <td>2020-03-04T19:33:03</td>\n",
       "      <td>26.0</td>\n",
       "      <td>0.0</td>\n",
       "      <td>0.0</td>\n",
       "    </tr>\n",
       "    <tr>\n",
       "      <th>5</th>\n",
       "      <td>3290</td>\n",
       "      <td>03/04/2020</td>\n",
       "      <td>NaN</td>\n",
       "      <td>United Arab Emirates</td>\n",
       "      <td>2020-03-03T23:43:02</td>\n",
       "      <td>27.0</td>\n",
       "      <td>0.0</td>\n",
       "      <td>5.0</td>\n",
       "    </tr>\n",
       "    <tr>\n",
       "      <th>6</th>\n",
       "      <td>3289</td>\n",
       "      <td>03/04/2020</td>\n",
       "      <td>NaN</td>\n",
       "      <td>India</td>\n",
       "      <td>2020-03-04T12:33:03</td>\n",
       "      <td>28.0</td>\n",
       "      <td>0.0</td>\n",
       "      <td>3.0</td>\n",
       "    </tr>\n",
       "    <tr>\n",
       "      <th>7</th>\n",
       "      <td>3288</td>\n",
       "      <td>03/04/2020</td>\n",
       "      <td>NaN</td>\n",
       "      <td>Austria</td>\n",
       "      <td>2020-03-04T19:33:03</td>\n",
       "      <td>29.0</td>\n",
       "      <td>0.0</td>\n",
       "      <td>0.0</td>\n",
       "    </tr>\n",
       "    <tr>\n",
       "      <th>...</th>\n",
       "      <td>...</td>\n",
       "      <td>...</td>\n",
       "      <td>...</td>\n",
       "      <td>...</td>\n",
       "      <td>...</td>\n",
       "      <td>...</td>\n",
       "      <td>...</td>\n",
       "      <td>...</td>\n",
       "    </tr>\n",
       "    <tr>\n",
       "      <th>165</th>\n",
       "      <td>2664</td>\n",
       "      <td>02/28/2020</td>\n",
       "      <td>NaN</td>\n",
       "      <td>Azerbaijan</td>\n",
       "      <td>2020-02-28T15:03:26</td>\n",
       "      <td>1.0</td>\n",
       "      <td>0.0</td>\n",
       "      <td>0.0</td>\n",
       "    </tr>\n",
       "    <tr>\n",
       "      <th>177</th>\n",
       "      <td>265</td>\n",
       "      <td>01/27/2020</td>\n",
       "      <td>NaN</td>\n",
       "      <td>Ivory Coast</td>\n",
       "      <td>1/27/20 23:59</td>\n",
       "      <td>1.0</td>\n",
       "      <td>0.0</td>\n",
       "      <td>0.0</td>\n",
       "    </tr>\n",
       "    <tr>\n",
       "      <th>178</th>\n",
       "      <td>213</td>\n",
       "      <td>01/26/2020</td>\n",
       "      <td>NaN</td>\n",
       "      <td>Australia</td>\n",
       "      <td>1/26/20 16:00</td>\n",
       "      <td>4.0</td>\n",
       "      <td>0.0</td>\n",
       "      <td>0.0</td>\n",
       "    </tr>\n",
       "    <tr>\n",
       "      <th>181</th>\n",
       "      <td>101085</td>\n",
       "      <td>NaN</td>\n",
       "      <td>NaN</td>\n",
       "      <td>Mainland China</td>\n",
       "      <td>NaN</td>\n",
       "      <td>80271.0</td>\n",
       "      <td>2981.0</td>\n",
       "      <td>49955.0</td>\n",
       "    </tr>\n",
       "    <tr>\n",
       "      <th>182</th>\n",
       "      <td>137516</td>\n",
       "      <td>NaN</td>\n",
       "      <td>NaN</td>\n",
       "      <td>US</td>\n",
       "      <td>NaN</td>\n",
       "      <td>193.0</td>\n",
       "      <td>12.0</td>\n",
       "      <td>11.0</td>\n",
       "    </tr>\n",
       "  </tbody>\n",
       "</table>\n",
       "<p>84 rows × 8 columns</p>\n",
       "</div>"
      ],
      "text/plain": [
       "        SNo ObservationDate Province/State               Country  \\\n",
       "3      3292      03/04/2020            NaN               Belgium   \n",
       "4      3291      03/04/2020            NaN               Iceland   \n",
       "5      3290      03/04/2020            NaN  United Arab Emirates   \n",
       "6      3289      03/04/2020            NaN                 India   \n",
       "7      3288      03/04/2020            NaN               Austria   \n",
       "..      ...             ...            ...                   ...   \n",
       "165    2664      02/28/2020            NaN            Azerbaijan   \n",
       "177     265      01/27/2020            NaN           Ivory Coast   \n",
       "178     213      01/26/2020            NaN             Australia   \n",
       "181  101085             NaN            NaN        Mainland China   \n",
       "182  137516             NaN            NaN                    US   \n",
       "\n",
       "             Last Update  Confirmed  Deaths  Recovered  \n",
       "3    2020-03-04T12:33:03       23.0     0.0        1.0  \n",
       "4    2020-03-04T19:33:03       26.0     0.0        0.0  \n",
       "5    2020-03-03T23:43:02       27.0     0.0        5.0  \n",
       "6    2020-03-04T12:33:03       28.0     0.0        3.0  \n",
       "7    2020-03-04T19:33:03       29.0     0.0        0.0  \n",
       "..                   ...        ...     ...        ...  \n",
       "165  2020-02-28T15:03:26        1.0     0.0        0.0  \n",
       "177        1/27/20 23:59        1.0     0.0        0.0  \n",
       "178        1/26/20 16:00        4.0     0.0        0.0  \n",
       "181                  NaN    80271.0  2981.0    49955.0  \n",
       "182                  NaN      193.0    12.0       11.0  \n",
       "\n",
       "[84 rows x 8 columns]"
      ]
     },
     "execution_count": 126,
     "metadata": {},
     "output_type": "execute_result"
    }
   ],
   "source": [
    "cases_now_df"
   ]
  },
  {
   "cell_type": "code",
   "execution_count": 130,
   "metadata": {},
   "outputs": [
    {
     "data": {
      "text/html": [
       "        <script type=\"text/javascript\">\n",
       "        window.PlotlyConfig = {MathJaxConfig: 'local'};\n",
       "        if (window.MathJax) {MathJax.Hub.Config({SVG: {font: \"STIX-Web\"}});}\n",
       "        if (typeof require !== 'undefined') {\n",
       "        require.undef(\"plotly\");\n",
       "        requirejs.config({\n",
       "            paths: {\n",
       "                'plotly': ['https://cdn.plot.ly/plotly-latest.min']\n",
       "            }\n",
       "        });\n",
       "        require(['plotly'], function(Plotly) {\n",
       "            window._Plotly = Plotly;\n",
       "        });\n",
       "        }\n",
       "        </script>\n",
       "        "
      ]
     },
     "metadata": {},
     "output_type": "display_data"
    },
    {
     "data": {
      "application/vnd.plotly.v1+json": {
       "config": {
        "plotlyServerURL": "https://plot.ly"
       },
       "data": [
        {
         "autocolorscale": true,
         "colorbar": {
          "title": {
           "text": "Confirmed cases"
          }
         },
         "colorscale": [
          [
           0,
           "rgb(247,251,255)"
          ],
          [
           0.125,
           "rgb(222,235,247)"
          ],
          [
           0.25,
           "rgb(198,219,239)"
          ],
          [
           0.375,
           "rgb(158,202,225)"
          ],
          [
           0.5,
           "rgb(107,174,214)"
          ],
          [
           0.625,
           "rgb(66,146,198)"
          ],
          [
           0.75,
           "rgb(33,113,181)"
          ],
          [
           0.875,
           "rgb(8,81,156)"
          ],
          [
           1,
           "rgb(8,48,107)"
          ]
         ],
         "locationmode": "country names",
         "locations": [
          "Belgium",
          "Iceland",
          "United Arab Emirates",
          "India",
          "Austria",
          "Sweden",
          "Iraq",
          "Netherlands",
          "Thailand",
          "Malaysia",
          "Bahrain",
          "Kuwait",
          "San Marino",
          "Croatia",
          "Qatar",
          "Czech Republic",
          "Greece",
          "Ecuador",
          "Denmark",
          "Vietnam",
          "Algeria",
          "Lebanon",
          "Oman",
          "Israel",
          "UK",
          "Iran",
          "Italy",
          "South Korea",
          "Japan",
          "Switzerland",
          "Singapore",
          "Spain",
          "Germany",
          "France",
          "Norway",
          "Belarus",
          "Saudi Arabia",
          "Poland",
          "North Macedonia",
          "Nigeria",
          "Nepal",
          "Morocco",
          "Monaco",
          "Luxembourg",
          "Lithuania",
          "Liechtenstein",
          "Latvia",
          "Jordan",
          "Gibraltar",
          "Faroe Islands",
          "Dominican Republic",
          "Chile",
          "Sri Lanka",
          "Tunisia",
          "Finland",
          "Ukraine",
          "Cambodia",
          "Estonia",
          "Saint Barthelemy",
          "Russia",
          "Philippines",
          "New Zealand",
          "Georgia",
          "Azerbaijan",
          "Senegal",
          "Romania",
          "Brazil",
          "Portugal",
          "Pakistan",
          "Mexico",
          "Ireland",
          "Egypt",
          "Hungary",
          "Indonesia",
          "Armenia",
          "Argentina",
          "Andorra",
          "Afghanistan",
          "North Ireland",
          " Azerbaijan",
          "Ivory Coast",
          "Australia",
          "Mainland China",
          "US"
         ],
         "marker": {
          "line": {
           "color": "darkgray",
           "width": 0.5
          }
         },
         "reversescale": false,
         "type": "choropleth",
         "z": [
          23,
          26,
          27,
          28,
          29,
          35,
          35,
          38,
          43,
          50,
          52,
          56,
          16,
          10,
          8,
          8,
          9,
          10,
          10,
          16,
          12,
          13,
          15,
          15,
          85,
          2922,
          3089,
          5621,
          331,
          90,
          110,
          222,
          262,
          285,
          56,
          6,
          1,
          1,
          1,
          1,
          1,
          1,
          1,
          1,
          1,
          1,
          1,
          1,
          1,
          1,
          1,
          1,
          1,
          1,
          6,
          1,
          1,
          2,
          3,
          3,
          3,
          3,
          3,
          3,
          4,
          4,
          4,
          5,
          5,
          5,
          6,
          2,
          2,
          2,
          1,
          1,
          1,
          1,
          1,
          1,
          1,
          4,
          80271,
          193
         ]
        }
       ],
       "layout": {
        "annotations": [
         {
          "showarrow": false,
          "text": "Source: <a href=\"https://www.kaggle.com/sudalairajkumar/novel-corona-virus-2019-dataset\">            Kaggle: Novel Corona Virus 2019 Dataset</a>",
          "x": 0.55,
          "xref": "paper",
          "y": 0.1,
          "yref": "paper"
         }
        ],
        "geo": {
         "projection": {
          "type": "equirectangular"
         },
         "showcoastlines": false,
         "showframe": false
        },
        "template": {
         "data": {
          "bar": [
           {
            "error_x": {
             "color": "#2a3f5f"
            },
            "error_y": {
             "color": "#2a3f5f"
            },
            "marker": {
             "line": {
              "color": "#E5ECF6",
              "width": 0.5
             }
            },
            "type": "bar"
           }
          ],
          "barpolar": [
           {
            "marker": {
             "line": {
              "color": "#E5ECF6",
              "width": 0.5
             }
            },
            "type": "barpolar"
           }
          ],
          "carpet": [
           {
            "aaxis": {
             "endlinecolor": "#2a3f5f",
             "gridcolor": "white",
             "linecolor": "white",
             "minorgridcolor": "white",
             "startlinecolor": "#2a3f5f"
            },
            "baxis": {
             "endlinecolor": "#2a3f5f",
             "gridcolor": "white",
             "linecolor": "white",
             "minorgridcolor": "white",
             "startlinecolor": "#2a3f5f"
            },
            "type": "carpet"
           }
          ],
          "choropleth": [
           {
            "colorbar": {
             "outlinewidth": 0,
             "ticks": ""
            },
            "type": "choropleth"
           }
          ],
          "contour": [
           {
            "colorbar": {
             "outlinewidth": 0,
             "ticks": ""
            },
            "colorscale": [
             [
              0,
              "#0d0887"
             ],
             [
              0.1111111111111111,
              "#46039f"
             ],
             [
              0.2222222222222222,
              "#7201a8"
             ],
             [
              0.3333333333333333,
              "#9c179e"
             ],
             [
              0.4444444444444444,
              "#bd3786"
             ],
             [
              0.5555555555555556,
              "#d8576b"
             ],
             [
              0.6666666666666666,
              "#ed7953"
             ],
             [
              0.7777777777777778,
              "#fb9f3a"
             ],
             [
              0.8888888888888888,
              "#fdca26"
             ],
             [
              1,
              "#f0f921"
             ]
            ],
            "type": "contour"
           }
          ],
          "contourcarpet": [
           {
            "colorbar": {
             "outlinewidth": 0,
             "ticks": ""
            },
            "type": "contourcarpet"
           }
          ],
          "heatmap": [
           {
            "colorbar": {
             "outlinewidth": 0,
             "ticks": ""
            },
            "colorscale": [
             [
              0,
              "#0d0887"
             ],
             [
              0.1111111111111111,
              "#46039f"
             ],
             [
              0.2222222222222222,
              "#7201a8"
             ],
             [
              0.3333333333333333,
              "#9c179e"
             ],
             [
              0.4444444444444444,
              "#bd3786"
             ],
             [
              0.5555555555555556,
              "#d8576b"
             ],
             [
              0.6666666666666666,
              "#ed7953"
             ],
             [
              0.7777777777777778,
              "#fb9f3a"
             ],
             [
              0.8888888888888888,
              "#fdca26"
             ],
             [
              1,
              "#f0f921"
             ]
            ],
            "type": "heatmap"
           }
          ],
          "heatmapgl": [
           {
            "colorbar": {
             "outlinewidth": 0,
             "ticks": ""
            },
            "colorscale": [
             [
              0,
              "#0d0887"
             ],
             [
              0.1111111111111111,
              "#46039f"
             ],
             [
              0.2222222222222222,
              "#7201a8"
             ],
             [
              0.3333333333333333,
              "#9c179e"
             ],
             [
              0.4444444444444444,
              "#bd3786"
             ],
             [
              0.5555555555555556,
              "#d8576b"
             ],
             [
              0.6666666666666666,
              "#ed7953"
             ],
             [
              0.7777777777777778,
              "#fb9f3a"
             ],
             [
              0.8888888888888888,
              "#fdca26"
             ],
             [
              1,
              "#f0f921"
             ]
            ],
            "type": "heatmapgl"
           }
          ],
          "histogram": [
           {
            "marker": {
             "colorbar": {
              "outlinewidth": 0,
              "ticks": ""
             }
            },
            "type": "histogram"
           }
          ],
          "histogram2d": [
           {
            "colorbar": {
             "outlinewidth": 0,
             "ticks": ""
            },
            "colorscale": [
             [
              0,
              "#0d0887"
             ],
             [
              0.1111111111111111,
              "#46039f"
             ],
             [
              0.2222222222222222,
              "#7201a8"
             ],
             [
              0.3333333333333333,
              "#9c179e"
             ],
             [
              0.4444444444444444,
              "#bd3786"
             ],
             [
              0.5555555555555556,
              "#d8576b"
             ],
             [
              0.6666666666666666,
              "#ed7953"
             ],
             [
              0.7777777777777778,
              "#fb9f3a"
             ],
             [
              0.8888888888888888,
              "#fdca26"
             ],
             [
              1,
              "#f0f921"
             ]
            ],
            "type": "histogram2d"
           }
          ],
          "histogram2dcontour": [
           {
            "colorbar": {
             "outlinewidth": 0,
             "ticks": ""
            },
            "colorscale": [
             [
              0,
              "#0d0887"
             ],
             [
              0.1111111111111111,
              "#46039f"
             ],
             [
              0.2222222222222222,
              "#7201a8"
             ],
             [
              0.3333333333333333,
              "#9c179e"
             ],
             [
              0.4444444444444444,
              "#bd3786"
             ],
             [
              0.5555555555555556,
              "#d8576b"
             ],
             [
              0.6666666666666666,
              "#ed7953"
             ],
             [
              0.7777777777777778,
              "#fb9f3a"
             ],
             [
              0.8888888888888888,
              "#fdca26"
             ],
             [
              1,
              "#f0f921"
             ]
            ],
            "type": "histogram2dcontour"
           }
          ],
          "mesh3d": [
           {
            "colorbar": {
             "outlinewidth": 0,
             "ticks": ""
            },
            "type": "mesh3d"
           }
          ],
          "parcoords": [
           {
            "line": {
             "colorbar": {
              "outlinewidth": 0,
              "ticks": ""
             }
            },
            "type": "parcoords"
           }
          ],
          "pie": [
           {
            "automargin": true,
            "type": "pie"
           }
          ],
          "scatter": [
           {
            "marker": {
             "colorbar": {
              "outlinewidth": 0,
              "ticks": ""
             }
            },
            "type": "scatter"
           }
          ],
          "scatter3d": [
           {
            "line": {
             "colorbar": {
              "outlinewidth": 0,
              "ticks": ""
             }
            },
            "marker": {
             "colorbar": {
              "outlinewidth": 0,
              "ticks": ""
             }
            },
            "type": "scatter3d"
           }
          ],
          "scattercarpet": [
           {
            "marker": {
             "colorbar": {
              "outlinewidth": 0,
              "ticks": ""
             }
            },
            "type": "scattercarpet"
           }
          ],
          "scattergeo": [
           {
            "marker": {
             "colorbar": {
              "outlinewidth": 0,
              "ticks": ""
             }
            },
            "type": "scattergeo"
           }
          ],
          "scattergl": [
           {
            "marker": {
             "colorbar": {
              "outlinewidth": 0,
              "ticks": ""
             }
            },
            "type": "scattergl"
           }
          ],
          "scattermapbox": [
           {
            "marker": {
             "colorbar": {
              "outlinewidth": 0,
              "ticks": ""
             }
            },
            "type": "scattermapbox"
           }
          ],
          "scatterpolar": [
           {
            "marker": {
             "colorbar": {
              "outlinewidth": 0,
              "ticks": ""
             }
            },
            "type": "scatterpolar"
           }
          ],
          "scatterpolargl": [
           {
            "marker": {
             "colorbar": {
              "outlinewidth": 0,
              "ticks": ""
             }
            },
            "type": "scatterpolargl"
           }
          ],
          "scatterternary": [
           {
            "marker": {
             "colorbar": {
              "outlinewidth": 0,
              "ticks": ""
             }
            },
            "type": "scatterternary"
           }
          ],
          "surface": [
           {
            "colorbar": {
             "outlinewidth": 0,
             "ticks": ""
            },
            "colorscale": [
             [
              0,
              "#0d0887"
             ],
             [
              0.1111111111111111,
              "#46039f"
             ],
             [
              0.2222222222222222,
              "#7201a8"
             ],
             [
              0.3333333333333333,
              "#9c179e"
             ],
             [
              0.4444444444444444,
              "#bd3786"
             ],
             [
              0.5555555555555556,
              "#d8576b"
             ],
             [
              0.6666666666666666,
              "#ed7953"
             ],
             [
              0.7777777777777778,
              "#fb9f3a"
             ],
             [
              0.8888888888888888,
              "#fdca26"
             ],
             [
              1,
              "#f0f921"
             ]
            ],
            "type": "surface"
           }
          ],
          "table": [
           {
            "cells": {
             "fill": {
              "color": "#EBF0F8"
             },
             "line": {
              "color": "white"
             }
            },
            "header": {
             "fill": {
              "color": "#C8D4E3"
             },
             "line": {
              "color": "white"
             }
            },
            "type": "table"
           }
          ]
         },
         "layout": {
          "annotationdefaults": {
           "arrowcolor": "#2a3f5f",
           "arrowhead": 0,
           "arrowwidth": 1
          },
          "coloraxis": {
           "colorbar": {
            "outlinewidth": 0,
            "ticks": ""
           }
          },
          "colorscale": {
           "diverging": [
            [
             0,
             "#8e0152"
            ],
            [
             0.1,
             "#c51b7d"
            ],
            [
             0.2,
             "#de77ae"
            ],
            [
             0.3,
             "#f1b6da"
            ],
            [
             0.4,
             "#fde0ef"
            ],
            [
             0.5,
             "#f7f7f7"
            ],
            [
             0.6,
             "#e6f5d0"
            ],
            [
             0.7,
             "#b8e186"
            ],
            [
             0.8,
             "#7fbc41"
            ],
            [
             0.9,
             "#4d9221"
            ],
            [
             1,
             "#276419"
            ]
           ],
           "sequential": [
            [
             0,
             "#0d0887"
            ],
            [
             0.1111111111111111,
             "#46039f"
            ],
            [
             0.2222222222222222,
             "#7201a8"
            ],
            [
             0.3333333333333333,
             "#9c179e"
            ],
            [
             0.4444444444444444,
             "#bd3786"
            ],
            [
             0.5555555555555556,
             "#d8576b"
            ],
            [
             0.6666666666666666,
             "#ed7953"
            ],
            [
             0.7777777777777778,
             "#fb9f3a"
            ],
            [
             0.8888888888888888,
             "#fdca26"
            ],
            [
             1,
             "#f0f921"
            ]
           ],
           "sequentialminus": [
            [
             0,
             "#0d0887"
            ],
            [
             0.1111111111111111,
             "#46039f"
            ],
            [
             0.2222222222222222,
             "#7201a8"
            ],
            [
             0.3333333333333333,
             "#9c179e"
            ],
            [
             0.4444444444444444,
             "#bd3786"
            ],
            [
             0.5555555555555556,
             "#d8576b"
            ],
            [
             0.6666666666666666,
             "#ed7953"
            ],
            [
             0.7777777777777778,
             "#fb9f3a"
            ],
            [
             0.8888888888888888,
             "#fdca26"
            ],
            [
             1,
             "#f0f921"
            ]
           ]
          },
          "colorway": [
           "#636efa",
           "#EF553B",
           "#00cc96",
           "#ab63fa",
           "#FFA15A",
           "#19d3f3",
           "#FF6692",
           "#B6E880",
           "#FF97FF",
           "#FECB52"
          ],
          "font": {
           "color": "#2a3f5f"
          },
          "geo": {
           "bgcolor": "white",
           "lakecolor": "white",
           "landcolor": "#E5ECF6",
           "showlakes": true,
           "showland": true,
           "subunitcolor": "white"
          },
          "hoverlabel": {
           "align": "left"
          },
          "hovermode": "closest",
          "mapbox": {
           "style": "light"
          },
          "paper_bgcolor": "white",
          "plot_bgcolor": "#E5ECF6",
          "polar": {
           "angularaxis": {
            "gridcolor": "white",
            "linecolor": "white",
            "ticks": ""
           },
           "bgcolor": "#E5ECF6",
           "radialaxis": {
            "gridcolor": "white",
            "linecolor": "white",
            "ticks": ""
           }
          },
          "scene": {
           "xaxis": {
            "backgroundcolor": "#E5ECF6",
            "gridcolor": "white",
            "gridwidth": 2,
            "linecolor": "white",
            "showbackground": true,
            "ticks": "",
            "zerolinecolor": "white"
           },
           "yaxis": {
            "backgroundcolor": "#E5ECF6",
            "gridcolor": "white",
            "gridwidth": 2,
            "linecolor": "white",
            "showbackground": true,
            "ticks": "",
            "zerolinecolor": "white"
           },
           "zaxis": {
            "backgroundcolor": "#E5ECF6",
            "gridcolor": "white",
            "gridwidth": 2,
            "linecolor": "white",
            "showbackground": true,
            "ticks": "",
            "zerolinecolor": "white"
           }
          },
          "shapedefaults": {
           "line": {
            "color": "#2a3f5f"
           }
          },
          "ternary": {
           "aaxis": {
            "gridcolor": "white",
            "linecolor": "white",
            "ticks": ""
           },
           "baxis": {
            "gridcolor": "white",
            "linecolor": "white",
            "ticks": ""
           },
           "bgcolor": "#E5ECF6",
           "caxis": {
            "gridcolor": "white",
            "linecolor": "white",
            "ticks": ""
           }
          },
          "title": {
           "x": 0.05
          },
          "xaxis": {
           "automargin": true,
           "gridcolor": "white",
           "linecolor": "white",
           "ticks": "",
           "title": {
            "standoff": 15
           },
           "zerolinecolor": "white",
           "zerolinewidth": 2
          },
          "yaxis": {
           "automargin": true,
           "gridcolor": "white",
           "linecolor": "white",
           "ticks": "",
           "title": {
            "standoff": 15
           },
           "zerolinecolor": "white",
           "zerolinewidth": 2
          }
         }
        },
        "title": {
         "text": "Confirmed Corona Cases as of X"
        }
       }
      },
      "text/html": [
       "<div>\n",
       "        \n",
       "        \n",
       "            <div id=\"3413e59a-0ca4-49f8-997f-3402b1c33e0c\" class=\"plotly-graph-div\" style=\"height:525px; width:100%;\"></div>\n",
       "            <script type=\"text/javascript\">\n",
       "                require([\"plotly\"], function(Plotly) {\n",
       "                    window.PLOTLYENV=window.PLOTLYENV || {};\n",
       "                    \n",
       "                if (document.getElementById(\"3413e59a-0ca4-49f8-997f-3402b1c33e0c\")) {\n",
       "                    Plotly.newPlot(\n",
       "                        '3413e59a-0ca4-49f8-997f-3402b1c33e0c',\n",
       "                        [{\"autocolorscale\": true, \"colorbar\": {\"title\": {\"text\": \"Confirmed cases\"}}, \"colorscale\": [[0.0, \"rgb(247,251,255)\"], [0.125, \"rgb(222,235,247)\"], [0.25, \"rgb(198,219,239)\"], [0.375, \"rgb(158,202,225)\"], [0.5, \"rgb(107,174,214)\"], [0.625, \"rgb(66,146,198)\"], [0.75, \"rgb(33,113,181)\"], [0.875, \"rgb(8,81,156)\"], [1.0, \"rgb(8,48,107)\"]], \"locationmode\": \"country names\", \"locations\": [\"Belgium\", \"Iceland\", \"United Arab Emirates\", \"India\", \"Austria\", \"Sweden\", \"Iraq\", \"Netherlands\", \"Thailand\", \"Malaysia\", \"Bahrain\", \"Kuwait\", \"San Marino\", \"Croatia\", \"Qatar\", \"Czech Republic\", \"Greece\", \"Ecuador\", \"Denmark\", \"Vietnam\", \"Algeria\", \"Lebanon\", \"Oman\", \"Israel\", \"UK\", \"Iran\", \"Italy\", \"South Korea\", \"Japan\", \"Switzerland\", \"Singapore\", \"Spain\", \"Germany\", \"France\", \"Norway\", \"Belarus\", \"Saudi Arabia\", \"Poland\", \"North Macedonia\", \"Nigeria\", \"Nepal\", \"Morocco\", \"Monaco\", \"Luxembourg\", \"Lithuania\", \"Liechtenstein\", \"Latvia\", \"Jordan\", \"Gibraltar\", \"Faroe Islands\", \"Dominican Republic\", \"Chile\", \"Sri Lanka\", \"Tunisia\", \"Finland\", \"Ukraine\", \"Cambodia\", \"Estonia\", \"Saint Barthelemy\", \"Russia\", \"Philippines\", \"New Zealand\", \"Georgia\", \"Azerbaijan\", \"Senegal\", \"Romania\", \"Brazil\", \"Portugal\", \"Pakistan\", \"Mexico\", \"Ireland\", \"Egypt\", \"Hungary\", \"Indonesia\", \"Armenia\", \"Argentina\", \"Andorra\", \"Afghanistan\", \"North Ireland\", \" Azerbaijan\", \"Ivory Coast\", \"Australia\", \"Mainland China\", \"US\"], \"marker\": {\"line\": {\"color\": \"darkgray\", \"width\": 0.5}}, \"reversescale\": false, \"type\": \"choropleth\", \"z\": [23.0, 26.0, 27.0, 28.0, 29.0, 35.0, 35.0, 38.0, 43.0, 50.0, 52.0, 56.0, 16.0, 10.0, 8.0, 8.0, 9.0, 10.0, 10.0, 16.0, 12.0, 13.0, 15.0, 15.0, 85.0, 2922.0, 3089.0, 5621.0, 331.0, 90.0, 110.0, 222.0, 262.0, 285.0, 56.0, 6.0, 1.0, 1.0, 1.0, 1.0, 1.0, 1.0, 1.0, 1.0, 1.0, 1.0, 1.0, 1.0, 1.0, 1.0, 1.0, 1.0, 1.0, 1.0, 6.0, 1.0, 1.0, 2.0, 3.0, 3.0, 3.0, 3.0, 3.0, 3.0, 4.0, 4.0, 4.0, 5.0, 5.0, 5.0, 6.0, 2.0, 2.0, 2.0, 1.0, 1.0, 1.0, 1.0, 1.0, 1.0, 1.0, 4.0, 80271.0, 193.0]}],\n",
       "                        {\"annotations\": [{\"showarrow\": false, \"text\": \"Source: <a href=\\\"https://www.kaggle.com/sudalairajkumar/novel-corona-virus-2019-dataset\\\">            Kaggle: Novel Corona Virus 2019 Dataset</a>\", \"x\": 0.55, \"xref\": \"paper\", \"y\": 0.1, \"yref\": \"paper\"}], \"geo\": {\"projection\": {\"type\": \"equirectangular\"}, \"showcoastlines\": false, \"showframe\": false}, \"template\": {\"data\": {\"bar\": [{\"error_x\": {\"color\": \"#2a3f5f\"}, \"error_y\": {\"color\": \"#2a3f5f\"}, \"marker\": {\"line\": {\"color\": \"#E5ECF6\", \"width\": 0.5}}, \"type\": \"bar\"}], \"barpolar\": [{\"marker\": {\"line\": {\"color\": \"#E5ECF6\", \"width\": 0.5}}, \"type\": \"barpolar\"}], \"carpet\": [{\"aaxis\": {\"endlinecolor\": \"#2a3f5f\", \"gridcolor\": \"white\", \"linecolor\": \"white\", \"minorgridcolor\": \"white\", \"startlinecolor\": \"#2a3f5f\"}, \"baxis\": {\"endlinecolor\": \"#2a3f5f\", \"gridcolor\": \"white\", \"linecolor\": \"white\", \"minorgridcolor\": \"white\", \"startlinecolor\": \"#2a3f5f\"}, \"type\": \"carpet\"}], \"choropleth\": [{\"colorbar\": {\"outlinewidth\": 0, \"ticks\": \"\"}, \"type\": \"choropleth\"}], \"contour\": [{\"colorbar\": {\"outlinewidth\": 0, \"ticks\": \"\"}, \"colorscale\": [[0.0, \"#0d0887\"], [0.1111111111111111, \"#46039f\"], [0.2222222222222222, \"#7201a8\"], [0.3333333333333333, \"#9c179e\"], [0.4444444444444444, \"#bd3786\"], [0.5555555555555556, \"#d8576b\"], [0.6666666666666666, \"#ed7953\"], [0.7777777777777778, \"#fb9f3a\"], [0.8888888888888888, \"#fdca26\"], [1.0, \"#f0f921\"]], \"type\": \"contour\"}], \"contourcarpet\": [{\"colorbar\": {\"outlinewidth\": 0, \"ticks\": \"\"}, \"type\": \"contourcarpet\"}], \"heatmap\": [{\"colorbar\": {\"outlinewidth\": 0, \"ticks\": \"\"}, \"colorscale\": [[0.0, \"#0d0887\"], [0.1111111111111111, \"#46039f\"], [0.2222222222222222, \"#7201a8\"], [0.3333333333333333, \"#9c179e\"], [0.4444444444444444, \"#bd3786\"], [0.5555555555555556, \"#d8576b\"], [0.6666666666666666, \"#ed7953\"], [0.7777777777777778, \"#fb9f3a\"], [0.8888888888888888, \"#fdca26\"], [1.0, \"#f0f921\"]], \"type\": \"heatmap\"}], \"heatmapgl\": [{\"colorbar\": {\"outlinewidth\": 0, \"ticks\": \"\"}, \"colorscale\": [[0.0, \"#0d0887\"], [0.1111111111111111, \"#46039f\"], [0.2222222222222222, \"#7201a8\"], [0.3333333333333333, \"#9c179e\"], [0.4444444444444444, \"#bd3786\"], [0.5555555555555556, \"#d8576b\"], [0.6666666666666666, \"#ed7953\"], [0.7777777777777778, \"#fb9f3a\"], [0.8888888888888888, \"#fdca26\"], [1.0, \"#f0f921\"]], \"type\": \"heatmapgl\"}], \"histogram\": [{\"marker\": {\"colorbar\": {\"outlinewidth\": 0, \"ticks\": \"\"}}, \"type\": \"histogram\"}], \"histogram2d\": [{\"colorbar\": {\"outlinewidth\": 0, \"ticks\": \"\"}, \"colorscale\": [[0.0, \"#0d0887\"], [0.1111111111111111, \"#46039f\"], [0.2222222222222222, \"#7201a8\"], [0.3333333333333333, \"#9c179e\"], [0.4444444444444444, \"#bd3786\"], [0.5555555555555556, \"#d8576b\"], [0.6666666666666666, \"#ed7953\"], [0.7777777777777778, \"#fb9f3a\"], [0.8888888888888888, \"#fdca26\"], [1.0, \"#f0f921\"]], \"type\": \"histogram2d\"}], \"histogram2dcontour\": [{\"colorbar\": {\"outlinewidth\": 0, \"ticks\": \"\"}, \"colorscale\": [[0.0, \"#0d0887\"], [0.1111111111111111, \"#46039f\"], [0.2222222222222222, \"#7201a8\"], [0.3333333333333333, \"#9c179e\"], [0.4444444444444444, \"#bd3786\"], [0.5555555555555556, \"#d8576b\"], [0.6666666666666666, \"#ed7953\"], [0.7777777777777778, \"#fb9f3a\"], [0.8888888888888888, \"#fdca26\"], [1.0, \"#f0f921\"]], \"type\": \"histogram2dcontour\"}], \"mesh3d\": [{\"colorbar\": {\"outlinewidth\": 0, \"ticks\": \"\"}, \"type\": \"mesh3d\"}], \"parcoords\": [{\"line\": {\"colorbar\": {\"outlinewidth\": 0, \"ticks\": \"\"}}, \"type\": \"parcoords\"}], \"pie\": [{\"automargin\": true, \"type\": \"pie\"}], \"scatter\": [{\"marker\": {\"colorbar\": {\"outlinewidth\": 0, \"ticks\": \"\"}}, \"type\": \"scatter\"}], \"scatter3d\": [{\"line\": {\"colorbar\": {\"outlinewidth\": 0, \"ticks\": \"\"}}, \"marker\": {\"colorbar\": {\"outlinewidth\": 0, \"ticks\": \"\"}}, \"type\": \"scatter3d\"}], \"scattercarpet\": [{\"marker\": {\"colorbar\": {\"outlinewidth\": 0, \"ticks\": \"\"}}, \"type\": \"scattercarpet\"}], \"scattergeo\": [{\"marker\": {\"colorbar\": {\"outlinewidth\": 0, \"ticks\": \"\"}}, \"type\": \"scattergeo\"}], \"scattergl\": [{\"marker\": {\"colorbar\": {\"outlinewidth\": 0, \"ticks\": \"\"}}, \"type\": \"scattergl\"}], \"scattermapbox\": [{\"marker\": {\"colorbar\": {\"outlinewidth\": 0, \"ticks\": \"\"}}, \"type\": \"scattermapbox\"}], \"scatterpolar\": [{\"marker\": {\"colorbar\": {\"outlinewidth\": 0, \"ticks\": \"\"}}, \"type\": \"scatterpolar\"}], \"scatterpolargl\": [{\"marker\": {\"colorbar\": {\"outlinewidth\": 0, \"ticks\": \"\"}}, \"type\": \"scatterpolargl\"}], \"scatterternary\": [{\"marker\": {\"colorbar\": {\"outlinewidth\": 0, \"ticks\": \"\"}}, \"type\": \"scatterternary\"}], \"surface\": [{\"colorbar\": {\"outlinewidth\": 0, \"ticks\": \"\"}, \"colorscale\": [[0.0, \"#0d0887\"], [0.1111111111111111, \"#46039f\"], [0.2222222222222222, \"#7201a8\"], [0.3333333333333333, \"#9c179e\"], [0.4444444444444444, \"#bd3786\"], [0.5555555555555556, \"#d8576b\"], [0.6666666666666666, \"#ed7953\"], [0.7777777777777778, \"#fb9f3a\"], [0.8888888888888888, \"#fdca26\"], [1.0, \"#f0f921\"]], \"type\": \"surface\"}], \"table\": [{\"cells\": {\"fill\": {\"color\": \"#EBF0F8\"}, \"line\": {\"color\": \"white\"}}, \"header\": {\"fill\": {\"color\": \"#C8D4E3\"}, \"line\": {\"color\": \"white\"}}, \"type\": \"table\"}]}, \"layout\": {\"annotationdefaults\": {\"arrowcolor\": \"#2a3f5f\", \"arrowhead\": 0, \"arrowwidth\": 1}, \"coloraxis\": {\"colorbar\": {\"outlinewidth\": 0, \"ticks\": \"\"}}, \"colorscale\": {\"diverging\": [[0, \"#8e0152\"], [0.1, \"#c51b7d\"], [0.2, \"#de77ae\"], [0.3, \"#f1b6da\"], [0.4, \"#fde0ef\"], [0.5, \"#f7f7f7\"], [0.6, \"#e6f5d0\"], [0.7, \"#b8e186\"], [0.8, \"#7fbc41\"], [0.9, \"#4d9221\"], [1, \"#276419\"]], \"sequential\": [[0.0, \"#0d0887\"], [0.1111111111111111, \"#46039f\"], [0.2222222222222222, \"#7201a8\"], [0.3333333333333333, \"#9c179e\"], [0.4444444444444444, \"#bd3786\"], [0.5555555555555556, \"#d8576b\"], [0.6666666666666666, \"#ed7953\"], [0.7777777777777778, \"#fb9f3a\"], [0.8888888888888888, \"#fdca26\"], [1.0, \"#f0f921\"]], \"sequentialminus\": [[0.0, \"#0d0887\"], [0.1111111111111111, \"#46039f\"], [0.2222222222222222, \"#7201a8\"], [0.3333333333333333, \"#9c179e\"], [0.4444444444444444, \"#bd3786\"], [0.5555555555555556, \"#d8576b\"], [0.6666666666666666, \"#ed7953\"], [0.7777777777777778, \"#fb9f3a\"], [0.8888888888888888, \"#fdca26\"], [1.0, \"#f0f921\"]]}, \"colorway\": [\"#636efa\", \"#EF553B\", \"#00cc96\", \"#ab63fa\", \"#FFA15A\", \"#19d3f3\", \"#FF6692\", \"#B6E880\", \"#FF97FF\", \"#FECB52\"], \"font\": {\"color\": \"#2a3f5f\"}, \"geo\": {\"bgcolor\": \"white\", \"lakecolor\": \"white\", \"landcolor\": \"#E5ECF6\", \"showlakes\": true, \"showland\": true, \"subunitcolor\": \"white\"}, \"hoverlabel\": {\"align\": \"left\"}, \"hovermode\": \"closest\", \"mapbox\": {\"style\": \"light\"}, \"paper_bgcolor\": \"white\", \"plot_bgcolor\": \"#E5ECF6\", \"polar\": {\"angularaxis\": {\"gridcolor\": \"white\", \"linecolor\": \"white\", \"ticks\": \"\"}, \"bgcolor\": \"#E5ECF6\", \"radialaxis\": {\"gridcolor\": \"white\", \"linecolor\": \"white\", \"ticks\": \"\"}}, \"scene\": {\"xaxis\": {\"backgroundcolor\": \"#E5ECF6\", \"gridcolor\": \"white\", \"gridwidth\": 2, \"linecolor\": \"white\", \"showbackground\": true, \"ticks\": \"\", \"zerolinecolor\": \"white\"}, \"yaxis\": {\"backgroundcolor\": \"#E5ECF6\", \"gridcolor\": \"white\", \"gridwidth\": 2, \"linecolor\": \"white\", \"showbackground\": true, \"ticks\": \"\", \"zerolinecolor\": \"white\"}, \"zaxis\": {\"backgroundcolor\": \"#E5ECF6\", \"gridcolor\": \"white\", \"gridwidth\": 2, \"linecolor\": \"white\", \"showbackground\": true, \"ticks\": \"\", \"zerolinecolor\": \"white\"}}, \"shapedefaults\": {\"line\": {\"color\": \"#2a3f5f\"}}, \"ternary\": {\"aaxis\": {\"gridcolor\": \"white\", \"linecolor\": \"white\", \"ticks\": \"\"}, \"baxis\": {\"gridcolor\": \"white\", \"linecolor\": \"white\", \"ticks\": \"\"}, \"bgcolor\": \"#E5ECF6\", \"caxis\": {\"gridcolor\": \"white\", \"linecolor\": \"white\", \"ticks\": \"\"}}, \"title\": {\"x\": 0.05}, \"xaxis\": {\"automargin\": true, \"gridcolor\": \"white\", \"linecolor\": \"white\", \"ticks\": \"\", \"title\": {\"standoff\": 15}, \"zerolinecolor\": \"white\", \"zerolinewidth\": 2}, \"yaxis\": {\"automargin\": true, \"gridcolor\": \"white\", \"linecolor\": \"white\", \"ticks\": \"\", \"title\": {\"standoff\": 15}, \"zerolinecolor\": \"white\", \"zerolinewidth\": 2}}}, \"title\": {\"text\": \"Confirmed Corona Cases as of X\"}},\n",
       "                        {\"responsive\": true}\n",
       "                    ).then(function(){\n",
       "                            \n",
       "var gd = document.getElementById('3413e59a-0ca4-49f8-997f-3402b1c33e0c');\n",
       "var x = new MutationObserver(function (mutations, observer) {{\n",
       "        var display = window.getComputedStyle(gd).display;\n",
       "        if (!display || display === 'none') {{\n",
       "            console.log([gd, 'removed!']);\n",
       "            Plotly.purge(gd);\n",
       "            observer.disconnect();\n",
       "        }}\n",
       "}});\n",
       "\n",
       "// Listen for the removal of the full notebook cells\n",
       "var notebookContainer = gd.closest('#notebook-container');\n",
       "if (notebookContainer) {{\n",
       "    x.observe(notebookContainer, {childList: true});\n",
       "}}\n",
       "\n",
       "// Listen for the clearing of the current output cell\n",
       "var outputEl = gd.closest('.output');\n",
       "if (outputEl) {{\n",
       "    x.observe(outputEl, {childList: true});\n",
       "}}\n",
       "\n",
       "                        })\n",
       "                };\n",
       "                });\n",
       "            </script>\n",
       "        </div>"
      ]
     },
     "metadata": {},
     "output_type": "display_data"
    }
   ],
   "source": [
    "import plotly as py\n",
    "import plotly.graph_objects as go\n",
    "#from plotly.subplots import make_subplots\n",
    "from plotly.offline import download_plotlyjs, init_notebook_mode, plot, iplot\n",
    "init_notebook_mode(connected=True) \n",
    "\n",
    "fig = go.Figure(data=go.Choropleth(\n",
    "    locations = cases_now_df['Country'],\n",
    "    locationmode = 'country names',\n",
    "    z = cases_now_df['Confirmed'],\n",
    "    #text = '%s: %s', cases_now_df['Country'], cases_now_df['Confirmed'],\n",
    "    colorscale = 'Blues',\n",
    "    autocolorscale=True,\n",
    "    reversescale=False,\n",
    "    marker_line_color='darkgray',\n",
    "    marker_line_width=0.5,\n",
    "    #colorbar_tickprefix = '$',\n",
    "    colorbar_title = 'Confirmed cases',\n",
    "))\n",
    "\n",
    "fig.update_layout(\n",
    "    title_text='Confirmed Corona Cases as of X',\n",
    "    geo=dict(\n",
    "        showframe=False,\n",
    "        showcoastlines=False,\n",
    "        projection_type='equirectangular'\n",
    "    ),\n",
    "    annotations = [dict(\n",
    "        x=0.55,\n",
    "        y=0.1,\n",
    "        xref='paper',\n",
    "        yref='paper',\n",
    "        text='Source: <a href=\"https://www.kaggle.com/sudalairajkumar/novel-corona-virus-2019-dataset\">\\\n",
    "            Kaggle: Novel Corona Virus 2019 Dataset</a>',\n",
    "        showarrow = False\n",
    "    )]\n",
    ")\n",
    "\n",
    "fig.show()"
   ]
  },
  {
   "cell_type": "code",
   "execution_count": 129,
   "metadata": {},
   "outputs": [
    {
     "data": {
      "application/vnd.plotly.v1+json": {
       "config": {
        "plotlyServerURL": "https://plot.ly"
       },
       "data": [
        {
         "autocolorscale": true,
         "colorbar": {
          "title": {
           "text": "Confirmed cases"
          }
         },
         "colorscale": [
          [
           0,
           "rgb(247,251,255)"
          ],
          [
           0.125,
           "rgb(222,235,247)"
          ],
          [
           0.25,
           "rgb(198,219,239)"
          ],
          [
           0.375,
           "rgb(158,202,225)"
          ],
          [
           0.5,
           "rgb(107,174,214)"
          ],
          [
           0.625,
           "rgb(66,146,198)"
          ],
          [
           0.75,
           "rgb(33,113,181)"
          ],
          [
           0.875,
           "rgb(8,81,156)"
          ],
          [
           1,
           "rgb(8,48,107)"
          ]
         ],
         "locationmode": "country names",
         "locations": [
          "Belgium",
          "Iceland",
          "United Arab Emirates",
          "India",
          "Austria",
          "Sweden",
          "Iraq",
          "Netherlands",
          "Thailand",
          "Malaysia",
          "Bahrain",
          "Kuwait",
          "San Marino",
          "Croatia",
          "Qatar",
          "Czech Republic",
          "Greece",
          "Ecuador",
          "Denmark",
          "Vietnam",
          "Algeria",
          "Lebanon",
          "Oman",
          "Israel",
          "UK",
          "Iran",
          "Italy",
          "South Korea",
          "Japan",
          "Switzerland",
          "Singapore",
          "Spain",
          "Germany",
          "France",
          "Norway",
          "Belarus",
          "Saudi Arabia",
          "Poland",
          "North Macedonia",
          "Nigeria",
          "Nepal",
          "Morocco",
          "Monaco",
          "Luxembourg",
          "Lithuania",
          "Liechtenstein",
          "Latvia",
          "Jordan",
          "Gibraltar",
          "Faroe Islands",
          "Dominican Republic",
          "Chile",
          "Sri Lanka",
          "Tunisia",
          "Finland",
          "Ukraine",
          "Cambodia",
          "Estonia",
          "Saint Barthelemy",
          "Russia",
          "Philippines",
          "New Zealand",
          "Georgia",
          "Azerbaijan",
          "Senegal",
          "Romania",
          "Brazil",
          "Portugal",
          "Pakistan",
          "Mexico",
          "Ireland",
          "Egypt",
          "Hungary",
          "Indonesia",
          "Armenia",
          "Argentina",
          "Andorra",
          "Afghanistan",
          "North Ireland",
          " Azerbaijan",
          "Ivory Coast",
          "Australia",
          "US"
         ],
         "marker": {
          "line": {
           "color": "darkgray",
           "width": 0.5
          }
         },
         "reversescale": false,
         "type": "choropleth",
         "z": [
          23,
          26,
          27,
          28,
          29,
          35,
          35,
          38,
          43,
          50,
          52,
          56,
          16,
          10,
          8,
          8,
          9,
          10,
          10,
          16,
          12,
          13,
          15,
          15,
          85,
          2922,
          3089,
          5621,
          331,
          90,
          110,
          222,
          262,
          285,
          56,
          6,
          1,
          1,
          1,
          1,
          1,
          1,
          1,
          1,
          1,
          1,
          1,
          1,
          1,
          1,
          1,
          1,
          1,
          1,
          6,
          1,
          1,
          2,
          3,
          3,
          3,
          3,
          3,
          3,
          4,
          4,
          4,
          5,
          5,
          5,
          6,
          2,
          2,
          2,
          1,
          1,
          1,
          1,
          1,
          1,
          1,
          4,
          193
         ]
        }
       ],
       "layout": {
        "annotations": [
         {
          "showarrow": false,
          "text": "Source: <a href=\"https://www.kaggle.com/sudalairajkumar/novel-corona-virus-2019-dataset\">            Kaggle: Novel Corona Virus 2019 Dataset</a>",
          "x": 0.55,
          "xref": "paper",
          "y": 0.1,
          "yref": "paper"
         }
        ],
        "geo": {
         "projection": {
          "type": "equirectangular"
         },
         "showcoastlines": false,
         "showframe": false
        },
        "template": {
         "data": {
          "bar": [
           {
            "error_x": {
             "color": "#2a3f5f"
            },
            "error_y": {
             "color": "#2a3f5f"
            },
            "marker": {
             "line": {
              "color": "#E5ECF6",
              "width": 0.5
             }
            },
            "type": "bar"
           }
          ],
          "barpolar": [
           {
            "marker": {
             "line": {
              "color": "#E5ECF6",
              "width": 0.5
             }
            },
            "type": "barpolar"
           }
          ],
          "carpet": [
           {
            "aaxis": {
             "endlinecolor": "#2a3f5f",
             "gridcolor": "white",
             "linecolor": "white",
             "minorgridcolor": "white",
             "startlinecolor": "#2a3f5f"
            },
            "baxis": {
             "endlinecolor": "#2a3f5f",
             "gridcolor": "white",
             "linecolor": "white",
             "minorgridcolor": "white",
             "startlinecolor": "#2a3f5f"
            },
            "type": "carpet"
           }
          ],
          "choropleth": [
           {
            "colorbar": {
             "outlinewidth": 0,
             "ticks": ""
            },
            "type": "choropleth"
           }
          ],
          "contour": [
           {
            "colorbar": {
             "outlinewidth": 0,
             "ticks": ""
            },
            "colorscale": [
             [
              0,
              "#0d0887"
             ],
             [
              0.1111111111111111,
              "#46039f"
             ],
             [
              0.2222222222222222,
              "#7201a8"
             ],
             [
              0.3333333333333333,
              "#9c179e"
             ],
             [
              0.4444444444444444,
              "#bd3786"
             ],
             [
              0.5555555555555556,
              "#d8576b"
             ],
             [
              0.6666666666666666,
              "#ed7953"
             ],
             [
              0.7777777777777778,
              "#fb9f3a"
             ],
             [
              0.8888888888888888,
              "#fdca26"
             ],
             [
              1,
              "#f0f921"
             ]
            ],
            "type": "contour"
           }
          ],
          "contourcarpet": [
           {
            "colorbar": {
             "outlinewidth": 0,
             "ticks": ""
            },
            "type": "contourcarpet"
           }
          ],
          "heatmap": [
           {
            "colorbar": {
             "outlinewidth": 0,
             "ticks": ""
            },
            "colorscale": [
             [
              0,
              "#0d0887"
             ],
             [
              0.1111111111111111,
              "#46039f"
             ],
             [
              0.2222222222222222,
              "#7201a8"
             ],
             [
              0.3333333333333333,
              "#9c179e"
             ],
             [
              0.4444444444444444,
              "#bd3786"
             ],
             [
              0.5555555555555556,
              "#d8576b"
             ],
             [
              0.6666666666666666,
              "#ed7953"
             ],
             [
              0.7777777777777778,
              "#fb9f3a"
             ],
             [
              0.8888888888888888,
              "#fdca26"
             ],
             [
              1,
              "#f0f921"
             ]
            ],
            "type": "heatmap"
           }
          ],
          "heatmapgl": [
           {
            "colorbar": {
             "outlinewidth": 0,
             "ticks": ""
            },
            "colorscale": [
             [
              0,
              "#0d0887"
             ],
             [
              0.1111111111111111,
              "#46039f"
             ],
             [
              0.2222222222222222,
              "#7201a8"
             ],
             [
              0.3333333333333333,
              "#9c179e"
             ],
             [
              0.4444444444444444,
              "#bd3786"
             ],
             [
              0.5555555555555556,
              "#d8576b"
             ],
             [
              0.6666666666666666,
              "#ed7953"
             ],
             [
              0.7777777777777778,
              "#fb9f3a"
             ],
             [
              0.8888888888888888,
              "#fdca26"
             ],
             [
              1,
              "#f0f921"
             ]
            ],
            "type": "heatmapgl"
           }
          ],
          "histogram": [
           {
            "marker": {
             "colorbar": {
              "outlinewidth": 0,
              "ticks": ""
             }
            },
            "type": "histogram"
           }
          ],
          "histogram2d": [
           {
            "colorbar": {
             "outlinewidth": 0,
             "ticks": ""
            },
            "colorscale": [
             [
              0,
              "#0d0887"
             ],
             [
              0.1111111111111111,
              "#46039f"
             ],
             [
              0.2222222222222222,
              "#7201a8"
             ],
             [
              0.3333333333333333,
              "#9c179e"
             ],
             [
              0.4444444444444444,
              "#bd3786"
             ],
             [
              0.5555555555555556,
              "#d8576b"
             ],
             [
              0.6666666666666666,
              "#ed7953"
             ],
             [
              0.7777777777777778,
              "#fb9f3a"
             ],
             [
              0.8888888888888888,
              "#fdca26"
             ],
             [
              1,
              "#f0f921"
             ]
            ],
            "type": "histogram2d"
           }
          ],
          "histogram2dcontour": [
           {
            "colorbar": {
             "outlinewidth": 0,
             "ticks": ""
            },
            "colorscale": [
             [
              0,
              "#0d0887"
             ],
             [
              0.1111111111111111,
              "#46039f"
             ],
             [
              0.2222222222222222,
              "#7201a8"
             ],
             [
              0.3333333333333333,
              "#9c179e"
             ],
             [
              0.4444444444444444,
              "#bd3786"
             ],
             [
              0.5555555555555556,
              "#d8576b"
             ],
             [
              0.6666666666666666,
              "#ed7953"
             ],
             [
              0.7777777777777778,
              "#fb9f3a"
             ],
             [
              0.8888888888888888,
              "#fdca26"
             ],
             [
              1,
              "#f0f921"
             ]
            ],
            "type": "histogram2dcontour"
           }
          ],
          "mesh3d": [
           {
            "colorbar": {
             "outlinewidth": 0,
             "ticks": ""
            },
            "type": "mesh3d"
           }
          ],
          "parcoords": [
           {
            "line": {
             "colorbar": {
              "outlinewidth": 0,
              "ticks": ""
             }
            },
            "type": "parcoords"
           }
          ],
          "pie": [
           {
            "automargin": true,
            "type": "pie"
           }
          ],
          "scatter": [
           {
            "marker": {
             "colorbar": {
              "outlinewidth": 0,
              "ticks": ""
             }
            },
            "type": "scatter"
           }
          ],
          "scatter3d": [
           {
            "line": {
             "colorbar": {
              "outlinewidth": 0,
              "ticks": ""
             }
            },
            "marker": {
             "colorbar": {
              "outlinewidth": 0,
              "ticks": ""
             }
            },
            "type": "scatter3d"
           }
          ],
          "scattercarpet": [
           {
            "marker": {
             "colorbar": {
              "outlinewidth": 0,
              "ticks": ""
             }
            },
            "type": "scattercarpet"
           }
          ],
          "scattergeo": [
           {
            "marker": {
             "colorbar": {
              "outlinewidth": 0,
              "ticks": ""
             }
            },
            "type": "scattergeo"
           }
          ],
          "scattergl": [
           {
            "marker": {
             "colorbar": {
              "outlinewidth": 0,
              "ticks": ""
             }
            },
            "type": "scattergl"
           }
          ],
          "scattermapbox": [
           {
            "marker": {
             "colorbar": {
              "outlinewidth": 0,
              "ticks": ""
             }
            },
            "type": "scattermapbox"
           }
          ],
          "scatterpolar": [
           {
            "marker": {
             "colorbar": {
              "outlinewidth": 0,
              "ticks": ""
             }
            },
            "type": "scatterpolar"
           }
          ],
          "scatterpolargl": [
           {
            "marker": {
             "colorbar": {
              "outlinewidth": 0,
              "ticks": ""
             }
            },
            "type": "scatterpolargl"
           }
          ],
          "scatterternary": [
           {
            "marker": {
             "colorbar": {
              "outlinewidth": 0,
              "ticks": ""
             }
            },
            "type": "scatterternary"
           }
          ],
          "surface": [
           {
            "colorbar": {
             "outlinewidth": 0,
             "ticks": ""
            },
            "colorscale": [
             [
              0,
              "#0d0887"
             ],
             [
              0.1111111111111111,
              "#46039f"
             ],
             [
              0.2222222222222222,
              "#7201a8"
             ],
             [
              0.3333333333333333,
              "#9c179e"
             ],
             [
              0.4444444444444444,
              "#bd3786"
             ],
             [
              0.5555555555555556,
              "#d8576b"
             ],
             [
              0.6666666666666666,
              "#ed7953"
             ],
             [
              0.7777777777777778,
              "#fb9f3a"
             ],
             [
              0.8888888888888888,
              "#fdca26"
             ],
             [
              1,
              "#f0f921"
             ]
            ],
            "type": "surface"
           }
          ],
          "table": [
           {
            "cells": {
             "fill": {
              "color": "#EBF0F8"
             },
             "line": {
              "color": "white"
             }
            },
            "header": {
             "fill": {
              "color": "#C8D4E3"
             },
             "line": {
              "color": "white"
             }
            },
            "type": "table"
           }
          ]
         },
         "layout": {
          "annotationdefaults": {
           "arrowcolor": "#2a3f5f",
           "arrowhead": 0,
           "arrowwidth": 1
          },
          "coloraxis": {
           "colorbar": {
            "outlinewidth": 0,
            "ticks": ""
           }
          },
          "colorscale": {
           "diverging": [
            [
             0,
             "#8e0152"
            ],
            [
             0.1,
             "#c51b7d"
            ],
            [
             0.2,
             "#de77ae"
            ],
            [
             0.3,
             "#f1b6da"
            ],
            [
             0.4,
             "#fde0ef"
            ],
            [
             0.5,
             "#f7f7f7"
            ],
            [
             0.6,
             "#e6f5d0"
            ],
            [
             0.7,
             "#b8e186"
            ],
            [
             0.8,
             "#7fbc41"
            ],
            [
             0.9,
             "#4d9221"
            ],
            [
             1,
             "#276419"
            ]
           ],
           "sequential": [
            [
             0,
             "#0d0887"
            ],
            [
             0.1111111111111111,
             "#46039f"
            ],
            [
             0.2222222222222222,
             "#7201a8"
            ],
            [
             0.3333333333333333,
             "#9c179e"
            ],
            [
             0.4444444444444444,
             "#bd3786"
            ],
            [
             0.5555555555555556,
             "#d8576b"
            ],
            [
             0.6666666666666666,
             "#ed7953"
            ],
            [
             0.7777777777777778,
             "#fb9f3a"
            ],
            [
             0.8888888888888888,
             "#fdca26"
            ],
            [
             1,
             "#f0f921"
            ]
           ],
           "sequentialminus": [
            [
             0,
             "#0d0887"
            ],
            [
             0.1111111111111111,
             "#46039f"
            ],
            [
             0.2222222222222222,
             "#7201a8"
            ],
            [
             0.3333333333333333,
             "#9c179e"
            ],
            [
             0.4444444444444444,
             "#bd3786"
            ],
            [
             0.5555555555555556,
             "#d8576b"
            ],
            [
             0.6666666666666666,
             "#ed7953"
            ],
            [
             0.7777777777777778,
             "#fb9f3a"
            ],
            [
             0.8888888888888888,
             "#fdca26"
            ],
            [
             1,
             "#f0f921"
            ]
           ]
          },
          "colorway": [
           "#636efa",
           "#EF553B",
           "#00cc96",
           "#ab63fa",
           "#FFA15A",
           "#19d3f3",
           "#FF6692",
           "#B6E880",
           "#FF97FF",
           "#FECB52"
          ],
          "font": {
           "color": "#2a3f5f"
          },
          "geo": {
           "bgcolor": "white",
           "lakecolor": "white",
           "landcolor": "#E5ECF6",
           "showlakes": true,
           "showland": true,
           "subunitcolor": "white"
          },
          "hoverlabel": {
           "align": "left"
          },
          "hovermode": "closest",
          "mapbox": {
           "style": "light"
          },
          "paper_bgcolor": "white",
          "plot_bgcolor": "#E5ECF6",
          "polar": {
           "angularaxis": {
            "gridcolor": "white",
            "linecolor": "white",
            "ticks": ""
           },
           "bgcolor": "#E5ECF6",
           "radialaxis": {
            "gridcolor": "white",
            "linecolor": "white",
            "ticks": ""
           }
          },
          "scene": {
           "xaxis": {
            "backgroundcolor": "#E5ECF6",
            "gridcolor": "white",
            "gridwidth": 2,
            "linecolor": "white",
            "showbackground": true,
            "ticks": "",
            "zerolinecolor": "white"
           },
           "yaxis": {
            "backgroundcolor": "#E5ECF6",
            "gridcolor": "white",
            "gridwidth": 2,
            "linecolor": "white",
            "showbackground": true,
            "ticks": "",
            "zerolinecolor": "white"
           },
           "zaxis": {
            "backgroundcolor": "#E5ECF6",
            "gridcolor": "white",
            "gridwidth": 2,
            "linecolor": "white",
            "showbackground": true,
            "ticks": "",
            "zerolinecolor": "white"
           }
          },
          "shapedefaults": {
           "line": {
            "color": "#2a3f5f"
           }
          },
          "ternary": {
           "aaxis": {
            "gridcolor": "white",
            "linecolor": "white",
            "ticks": ""
           },
           "baxis": {
            "gridcolor": "white",
            "linecolor": "white",
            "ticks": ""
           },
           "bgcolor": "#E5ECF6",
           "caxis": {
            "gridcolor": "white",
            "linecolor": "white",
            "ticks": ""
           }
          },
          "title": {
           "x": 0.05
          },
          "xaxis": {
           "automargin": true,
           "gridcolor": "white",
           "linecolor": "white",
           "ticks": "",
           "title": {
            "standoff": 15
           },
           "zerolinecolor": "white",
           "zerolinewidth": 2
          },
          "yaxis": {
           "automargin": true,
           "gridcolor": "white",
           "linecolor": "white",
           "ticks": "",
           "title": {
            "standoff": 15
           },
           "zerolinecolor": "white",
           "zerolinewidth": 2
          }
         }
        },
        "title": {
         "text": "Confirmed Corona Cases as of X (without China)"
        }
       }
      },
      "text/html": [
       "<div>\n",
       "        \n",
       "        \n",
       "            <div id=\"78fca66f-76b1-4d45-a11a-79638a053ef1\" class=\"plotly-graph-div\" style=\"height:525px; width:100%;\"></div>\n",
       "            <script type=\"text/javascript\">\n",
       "                require([\"plotly\"], function(Plotly) {\n",
       "                    window.PLOTLYENV=window.PLOTLYENV || {};\n",
       "                    \n",
       "                if (document.getElementById(\"78fca66f-76b1-4d45-a11a-79638a053ef1\")) {\n",
       "                    Plotly.newPlot(\n",
       "                        '78fca66f-76b1-4d45-a11a-79638a053ef1',\n",
       "                        [{\"autocolorscale\": true, \"colorbar\": {\"title\": {\"text\": \"Confirmed cases\"}}, \"colorscale\": [[0.0, \"rgb(247,251,255)\"], [0.125, \"rgb(222,235,247)\"], [0.25, \"rgb(198,219,239)\"], [0.375, \"rgb(158,202,225)\"], [0.5, \"rgb(107,174,214)\"], [0.625, \"rgb(66,146,198)\"], [0.75, \"rgb(33,113,181)\"], [0.875, \"rgb(8,81,156)\"], [1.0, \"rgb(8,48,107)\"]], \"locationmode\": \"country names\", \"locations\": [\"Belgium\", \"Iceland\", \"United Arab Emirates\", \"India\", \"Austria\", \"Sweden\", \"Iraq\", \"Netherlands\", \"Thailand\", \"Malaysia\", \"Bahrain\", \"Kuwait\", \"San Marino\", \"Croatia\", \"Qatar\", \"Czech Republic\", \"Greece\", \"Ecuador\", \"Denmark\", \"Vietnam\", \"Algeria\", \"Lebanon\", \"Oman\", \"Israel\", \"UK\", \"Iran\", \"Italy\", \"South Korea\", \"Japan\", \"Switzerland\", \"Singapore\", \"Spain\", \"Germany\", \"France\", \"Norway\", \"Belarus\", \"Saudi Arabia\", \"Poland\", \"North Macedonia\", \"Nigeria\", \"Nepal\", \"Morocco\", \"Monaco\", \"Luxembourg\", \"Lithuania\", \"Liechtenstein\", \"Latvia\", \"Jordan\", \"Gibraltar\", \"Faroe Islands\", \"Dominican Republic\", \"Chile\", \"Sri Lanka\", \"Tunisia\", \"Finland\", \"Ukraine\", \"Cambodia\", \"Estonia\", \"Saint Barthelemy\", \"Russia\", \"Philippines\", \"New Zealand\", \"Georgia\", \"Azerbaijan\", \"Senegal\", \"Romania\", \"Brazil\", \"Portugal\", \"Pakistan\", \"Mexico\", \"Ireland\", \"Egypt\", \"Hungary\", \"Indonesia\", \"Armenia\", \"Argentina\", \"Andorra\", \"Afghanistan\", \"North Ireland\", \" Azerbaijan\", \"Ivory Coast\", \"Australia\", \"US\"], \"marker\": {\"line\": {\"color\": \"darkgray\", \"width\": 0.5}}, \"reversescale\": false, \"type\": \"choropleth\", \"z\": [23.0, 26.0, 27.0, 28.0, 29.0, 35.0, 35.0, 38.0, 43.0, 50.0, 52.0, 56.0, 16.0, 10.0, 8.0, 8.0, 9.0, 10.0, 10.0, 16.0, 12.0, 13.0, 15.0, 15.0, 85.0, 2922.0, 3089.0, 5621.0, 331.0, 90.0, 110.0, 222.0, 262.0, 285.0, 56.0, 6.0, 1.0, 1.0, 1.0, 1.0, 1.0, 1.0, 1.0, 1.0, 1.0, 1.0, 1.0, 1.0, 1.0, 1.0, 1.0, 1.0, 1.0, 1.0, 6.0, 1.0, 1.0, 2.0, 3.0, 3.0, 3.0, 3.0, 3.0, 3.0, 4.0, 4.0, 4.0, 5.0, 5.0, 5.0, 6.0, 2.0, 2.0, 2.0, 1.0, 1.0, 1.0, 1.0, 1.0, 1.0, 1.0, 4.0, 193.0]}],\n",
       "                        {\"annotations\": [{\"showarrow\": false, \"text\": \"Source: <a href=\\\"https://www.kaggle.com/sudalairajkumar/novel-corona-virus-2019-dataset\\\">            Kaggle: Novel Corona Virus 2019 Dataset</a>\", \"x\": 0.55, \"xref\": \"paper\", \"y\": 0.1, \"yref\": \"paper\"}], \"geo\": {\"projection\": {\"type\": \"equirectangular\"}, \"showcoastlines\": false, \"showframe\": false}, \"template\": {\"data\": {\"bar\": [{\"error_x\": {\"color\": \"#2a3f5f\"}, \"error_y\": {\"color\": \"#2a3f5f\"}, \"marker\": {\"line\": {\"color\": \"#E5ECF6\", \"width\": 0.5}}, \"type\": \"bar\"}], \"barpolar\": [{\"marker\": {\"line\": {\"color\": \"#E5ECF6\", \"width\": 0.5}}, \"type\": \"barpolar\"}], \"carpet\": [{\"aaxis\": {\"endlinecolor\": \"#2a3f5f\", \"gridcolor\": \"white\", \"linecolor\": \"white\", \"minorgridcolor\": \"white\", \"startlinecolor\": \"#2a3f5f\"}, \"baxis\": {\"endlinecolor\": \"#2a3f5f\", \"gridcolor\": \"white\", \"linecolor\": \"white\", \"minorgridcolor\": \"white\", \"startlinecolor\": \"#2a3f5f\"}, \"type\": \"carpet\"}], \"choropleth\": [{\"colorbar\": {\"outlinewidth\": 0, \"ticks\": \"\"}, \"type\": \"choropleth\"}], \"contour\": [{\"colorbar\": {\"outlinewidth\": 0, \"ticks\": \"\"}, \"colorscale\": [[0.0, \"#0d0887\"], [0.1111111111111111, \"#46039f\"], [0.2222222222222222, \"#7201a8\"], [0.3333333333333333, \"#9c179e\"], [0.4444444444444444, \"#bd3786\"], [0.5555555555555556, \"#d8576b\"], [0.6666666666666666, \"#ed7953\"], [0.7777777777777778, \"#fb9f3a\"], [0.8888888888888888, \"#fdca26\"], [1.0, \"#f0f921\"]], \"type\": \"contour\"}], \"contourcarpet\": [{\"colorbar\": {\"outlinewidth\": 0, \"ticks\": \"\"}, \"type\": \"contourcarpet\"}], \"heatmap\": [{\"colorbar\": {\"outlinewidth\": 0, \"ticks\": \"\"}, \"colorscale\": [[0.0, \"#0d0887\"], [0.1111111111111111, \"#46039f\"], [0.2222222222222222, \"#7201a8\"], [0.3333333333333333, \"#9c179e\"], [0.4444444444444444, \"#bd3786\"], [0.5555555555555556, \"#d8576b\"], [0.6666666666666666, \"#ed7953\"], [0.7777777777777778, \"#fb9f3a\"], [0.8888888888888888, \"#fdca26\"], [1.0, \"#f0f921\"]], \"type\": \"heatmap\"}], \"heatmapgl\": [{\"colorbar\": {\"outlinewidth\": 0, \"ticks\": \"\"}, \"colorscale\": [[0.0, \"#0d0887\"], [0.1111111111111111, \"#46039f\"], [0.2222222222222222, \"#7201a8\"], [0.3333333333333333, \"#9c179e\"], [0.4444444444444444, \"#bd3786\"], [0.5555555555555556, \"#d8576b\"], [0.6666666666666666, \"#ed7953\"], [0.7777777777777778, \"#fb9f3a\"], [0.8888888888888888, \"#fdca26\"], [1.0, \"#f0f921\"]], \"type\": \"heatmapgl\"}], \"histogram\": [{\"marker\": {\"colorbar\": {\"outlinewidth\": 0, \"ticks\": \"\"}}, \"type\": \"histogram\"}], \"histogram2d\": [{\"colorbar\": {\"outlinewidth\": 0, \"ticks\": \"\"}, \"colorscale\": [[0.0, \"#0d0887\"], [0.1111111111111111, \"#46039f\"], [0.2222222222222222, \"#7201a8\"], [0.3333333333333333, \"#9c179e\"], [0.4444444444444444, \"#bd3786\"], [0.5555555555555556, \"#d8576b\"], [0.6666666666666666, \"#ed7953\"], [0.7777777777777778, \"#fb9f3a\"], [0.8888888888888888, \"#fdca26\"], [1.0, \"#f0f921\"]], \"type\": \"histogram2d\"}], \"histogram2dcontour\": [{\"colorbar\": {\"outlinewidth\": 0, \"ticks\": \"\"}, \"colorscale\": [[0.0, \"#0d0887\"], [0.1111111111111111, \"#46039f\"], [0.2222222222222222, \"#7201a8\"], [0.3333333333333333, \"#9c179e\"], [0.4444444444444444, \"#bd3786\"], [0.5555555555555556, \"#d8576b\"], [0.6666666666666666, \"#ed7953\"], [0.7777777777777778, \"#fb9f3a\"], [0.8888888888888888, \"#fdca26\"], [1.0, \"#f0f921\"]], \"type\": \"histogram2dcontour\"}], \"mesh3d\": [{\"colorbar\": {\"outlinewidth\": 0, \"ticks\": \"\"}, \"type\": \"mesh3d\"}], \"parcoords\": [{\"line\": {\"colorbar\": {\"outlinewidth\": 0, \"ticks\": \"\"}}, \"type\": \"parcoords\"}], \"pie\": [{\"automargin\": true, \"type\": \"pie\"}], \"scatter\": [{\"marker\": {\"colorbar\": {\"outlinewidth\": 0, \"ticks\": \"\"}}, \"type\": \"scatter\"}], \"scatter3d\": [{\"line\": {\"colorbar\": {\"outlinewidth\": 0, \"ticks\": \"\"}}, \"marker\": {\"colorbar\": {\"outlinewidth\": 0, \"ticks\": \"\"}}, \"type\": \"scatter3d\"}], \"scattercarpet\": [{\"marker\": {\"colorbar\": {\"outlinewidth\": 0, \"ticks\": \"\"}}, \"type\": \"scattercarpet\"}], \"scattergeo\": [{\"marker\": {\"colorbar\": {\"outlinewidth\": 0, \"ticks\": \"\"}}, \"type\": \"scattergeo\"}], \"scattergl\": [{\"marker\": {\"colorbar\": {\"outlinewidth\": 0, \"ticks\": \"\"}}, \"type\": \"scattergl\"}], \"scattermapbox\": [{\"marker\": {\"colorbar\": {\"outlinewidth\": 0, \"ticks\": \"\"}}, \"type\": \"scattermapbox\"}], \"scatterpolar\": [{\"marker\": {\"colorbar\": {\"outlinewidth\": 0, \"ticks\": \"\"}}, \"type\": \"scatterpolar\"}], \"scatterpolargl\": [{\"marker\": {\"colorbar\": {\"outlinewidth\": 0, \"ticks\": \"\"}}, \"type\": \"scatterpolargl\"}], \"scatterternary\": [{\"marker\": {\"colorbar\": {\"outlinewidth\": 0, \"ticks\": \"\"}}, \"type\": \"scatterternary\"}], \"surface\": [{\"colorbar\": {\"outlinewidth\": 0, \"ticks\": \"\"}, \"colorscale\": [[0.0, \"#0d0887\"], [0.1111111111111111, \"#46039f\"], [0.2222222222222222, \"#7201a8\"], [0.3333333333333333, \"#9c179e\"], [0.4444444444444444, \"#bd3786\"], [0.5555555555555556, \"#d8576b\"], [0.6666666666666666, \"#ed7953\"], [0.7777777777777778, \"#fb9f3a\"], [0.8888888888888888, \"#fdca26\"], [1.0, \"#f0f921\"]], \"type\": \"surface\"}], \"table\": [{\"cells\": {\"fill\": {\"color\": \"#EBF0F8\"}, \"line\": {\"color\": \"white\"}}, \"header\": {\"fill\": {\"color\": \"#C8D4E3\"}, \"line\": {\"color\": \"white\"}}, \"type\": \"table\"}]}, \"layout\": {\"annotationdefaults\": {\"arrowcolor\": \"#2a3f5f\", \"arrowhead\": 0, \"arrowwidth\": 1}, \"coloraxis\": {\"colorbar\": {\"outlinewidth\": 0, \"ticks\": \"\"}}, \"colorscale\": {\"diverging\": [[0, \"#8e0152\"], [0.1, \"#c51b7d\"], [0.2, \"#de77ae\"], [0.3, \"#f1b6da\"], [0.4, \"#fde0ef\"], [0.5, \"#f7f7f7\"], [0.6, \"#e6f5d0\"], [0.7, \"#b8e186\"], [0.8, \"#7fbc41\"], [0.9, \"#4d9221\"], [1, \"#276419\"]], \"sequential\": [[0.0, \"#0d0887\"], [0.1111111111111111, \"#46039f\"], [0.2222222222222222, \"#7201a8\"], [0.3333333333333333, \"#9c179e\"], [0.4444444444444444, \"#bd3786\"], [0.5555555555555556, \"#d8576b\"], [0.6666666666666666, \"#ed7953\"], [0.7777777777777778, \"#fb9f3a\"], [0.8888888888888888, \"#fdca26\"], [1.0, \"#f0f921\"]], \"sequentialminus\": [[0.0, \"#0d0887\"], [0.1111111111111111, \"#46039f\"], [0.2222222222222222, \"#7201a8\"], [0.3333333333333333, \"#9c179e\"], [0.4444444444444444, \"#bd3786\"], [0.5555555555555556, \"#d8576b\"], [0.6666666666666666, \"#ed7953\"], [0.7777777777777778, \"#fb9f3a\"], [0.8888888888888888, \"#fdca26\"], [1.0, \"#f0f921\"]]}, \"colorway\": [\"#636efa\", \"#EF553B\", \"#00cc96\", \"#ab63fa\", \"#FFA15A\", \"#19d3f3\", \"#FF6692\", \"#B6E880\", \"#FF97FF\", \"#FECB52\"], \"font\": {\"color\": \"#2a3f5f\"}, \"geo\": {\"bgcolor\": \"white\", \"lakecolor\": \"white\", \"landcolor\": \"#E5ECF6\", \"showlakes\": true, \"showland\": true, \"subunitcolor\": \"white\"}, \"hoverlabel\": {\"align\": \"left\"}, \"hovermode\": \"closest\", \"mapbox\": {\"style\": \"light\"}, \"paper_bgcolor\": \"white\", \"plot_bgcolor\": \"#E5ECF6\", \"polar\": {\"angularaxis\": {\"gridcolor\": \"white\", \"linecolor\": \"white\", \"ticks\": \"\"}, \"bgcolor\": \"#E5ECF6\", \"radialaxis\": {\"gridcolor\": \"white\", \"linecolor\": \"white\", \"ticks\": \"\"}}, \"scene\": {\"xaxis\": {\"backgroundcolor\": \"#E5ECF6\", \"gridcolor\": \"white\", \"gridwidth\": 2, \"linecolor\": \"white\", \"showbackground\": true, \"ticks\": \"\", \"zerolinecolor\": \"white\"}, \"yaxis\": {\"backgroundcolor\": \"#E5ECF6\", \"gridcolor\": \"white\", \"gridwidth\": 2, \"linecolor\": \"white\", \"showbackground\": true, \"ticks\": \"\", \"zerolinecolor\": \"white\"}, \"zaxis\": {\"backgroundcolor\": \"#E5ECF6\", \"gridcolor\": \"white\", \"gridwidth\": 2, \"linecolor\": \"white\", \"showbackground\": true, \"ticks\": \"\", \"zerolinecolor\": \"white\"}}, \"shapedefaults\": {\"line\": {\"color\": \"#2a3f5f\"}}, \"ternary\": {\"aaxis\": {\"gridcolor\": \"white\", \"linecolor\": \"white\", \"ticks\": \"\"}, \"baxis\": {\"gridcolor\": \"white\", \"linecolor\": \"white\", \"ticks\": \"\"}, \"bgcolor\": \"#E5ECF6\", \"caxis\": {\"gridcolor\": \"white\", \"linecolor\": \"white\", \"ticks\": \"\"}}, \"title\": {\"x\": 0.05}, \"xaxis\": {\"automargin\": true, \"gridcolor\": \"white\", \"linecolor\": \"white\", \"ticks\": \"\", \"title\": {\"standoff\": 15}, \"zerolinecolor\": \"white\", \"zerolinewidth\": 2}, \"yaxis\": {\"automargin\": true, \"gridcolor\": \"white\", \"linecolor\": \"white\", \"ticks\": \"\", \"title\": {\"standoff\": 15}, \"zerolinecolor\": \"white\", \"zerolinewidth\": 2}}}, \"title\": {\"text\": \"Confirmed Corona Cases as of X (without China)\"}},\n",
       "                        {\"responsive\": true}\n",
       "                    ).then(function(){\n",
       "                            \n",
       "var gd = document.getElementById('78fca66f-76b1-4d45-a11a-79638a053ef1');\n",
       "var x = new MutationObserver(function (mutations, observer) {{\n",
       "        var display = window.getComputedStyle(gd).display;\n",
       "        if (!display || display === 'none') {{\n",
       "            console.log([gd, 'removed!']);\n",
       "            Plotly.purge(gd);\n",
       "            observer.disconnect();\n",
       "        }}\n",
       "}});\n",
       "\n",
       "// Listen for the removal of the full notebook cells\n",
       "var notebookContainer = gd.closest('#notebook-container');\n",
       "if (notebookContainer) {{\n",
       "    x.observe(notebookContainer, {childList: true});\n",
       "}}\n",
       "\n",
       "// Listen for the clearing of the current output cell\n",
       "var outputEl = gd.closest('.output');\n",
       "if (outputEl) {{\n",
       "    x.observe(outputEl, {childList: true});\n",
       "}}\n",
       "\n",
       "                        })\n",
       "                };\n",
       "                });\n",
       "            </script>\n",
       "        </div>"
      ]
     },
     "metadata": {},
     "output_type": "display_data"
    }
   ],
   "source": [
    "cases_now_without_china_df = cases_now_df[cases_now_df['Country']!= 'Mainland China']\n",
    "\n",
    "fig = go.Figure(data=go.Choropleth(\n",
    "    locations = cases_now_without_china_df['Country'],\n",
    "    locationmode = 'country names',\n",
    "    z = cases_now_without_china_df['Confirmed'],\n",
    "    #text = '%s: %s', cases_now_df['Country'], cases_now_df['Confirmed'],\n",
    "    colorscale = 'Blues',\n",
    "    autocolorscale=True,\n",
    "    reversescale=False,\n",
    "    marker_line_color='darkgray',\n",
    "    marker_line_width=0.5,\n",
    "    colorbar_title = 'Confirmed cases',\n",
    "))\n",
    "\n",
    "fig.update_layout(\n",
    "    title_text='Confirmed Corona Cases as of X (without China)',\n",
    "    geo=dict(\n",
    "        showframe=False,\n",
    "        showcoastlines=False,\n",
    "        projection_type='equirectangular'\n",
    "    ),\n",
    "    annotations = [dict(\n",
    "        x=0.55,\n",
    "        y=0.1,\n",
    "        xref='paper',\n",
    "        yref='paper',\n",
    "        text='Source: <a href=\"https://www.kaggle.com/sudalairajkumar/novel-corona-virus-2019-dataset\">\\\n",
    "            Kaggle: Novel Corona Virus 2019 Dataset</a>',\n",
    "        showarrow = False\n",
    "    )]\n",
    ")\n",
    "\n",
    "fig.show()"
   ]
  },
  {
   "cell_type": "code",
   "execution_count": 135,
   "metadata": {},
   "outputs": [
    {
     "data": {
      "text/html": [
       "<div>\n",
       "<style scoped>\n",
       "    .dataframe tbody tr th:only-of-type {\n",
       "        vertical-align: middle;\n",
       "    }\n",
       "\n",
       "    .dataframe tbody tr th {\n",
       "        vertical-align: top;\n",
       "    }\n",
       "\n",
       "    .dataframe thead th {\n",
       "        text-align: right;\n",
       "    }\n",
       "</style>\n",
       "<table border=\"1\" class=\"dataframe\">\n",
       "  <thead>\n",
       "    <tr style=\"text-align: right;\">\n",
       "      <th></th>\n",
       "      <th>ObservationDate</th>\n",
       "      <th>Country</th>\n",
       "      <th>SNo</th>\n",
       "      <th>Confirmed</th>\n",
       "      <th>Deaths</th>\n",
       "      <th>Recovered</th>\n",
       "    </tr>\n",
       "  </thead>\n",
       "  <tbody>\n",
       "    <tr>\n",
       "      <th>0</th>\n",
       "      <td>01/22/2020</td>\n",
       "      <td>Japan</td>\n",
       "      <td>36</td>\n",
       "      <td>2.0</td>\n",
       "      <td>0.0</td>\n",
       "      <td>0.0</td>\n",
       "    </tr>\n",
       "    <tr>\n",
       "      <th>1</th>\n",
       "      <td>01/22/2020</td>\n",
       "      <td>Macau</td>\n",
       "      <td>21</td>\n",
       "      <td>1.0</td>\n",
       "      <td>0.0</td>\n",
       "      <td>0.0</td>\n",
       "    </tr>\n",
       "    <tr>\n",
       "      <th>2</th>\n",
       "      <td>01/22/2020</td>\n",
       "      <td>Mainland China</td>\n",
       "      <td>373</td>\n",
       "      <td>547.0</td>\n",
       "      <td>17.0</td>\n",
       "      <td>28.0</td>\n",
       "    </tr>\n",
       "    <tr>\n",
       "      <th>3</th>\n",
       "      <td>01/22/2020</td>\n",
       "      <td>South Korea</td>\n",
       "      <td>38</td>\n",
       "      <td>1.0</td>\n",
       "      <td>0.0</td>\n",
       "      <td>0.0</td>\n",
       "    </tr>\n",
       "    <tr>\n",
       "      <th>4</th>\n",
       "      <td>01/22/2020</td>\n",
       "      <td>Taiwan</td>\n",
       "      <td>29</td>\n",
       "      <td>1.0</td>\n",
       "      <td>0.0</td>\n",
       "      <td>0.0</td>\n",
       "    </tr>\n",
       "    <tr>\n",
       "      <th>...</th>\n",
       "      <td>...</td>\n",
       "      <td>...</td>\n",
       "      <td>...</td>\n",
       "      <td>...</td>\n",
       "      <td>...</td>\n",
       "      <td>...</td>\n",
       "    </tr>\n",
       "    <tr>\n",
       "      <th>1449</th>\n",
       "      <td>03/04/2020</td>\n",
       "      <td>UK</td>\n",
       "      <td>3273</td>\n",
       "      <td>85.0</td>\n",
       "      <td>0.0</td>\n",
       "      <td>8.0</td>\n",
       "    </tr>\n",
       "    <tr>\n",
       "      <th>1450</th>\n",
       "      <td>03/04/2020</td>\n",
       "      <td>US</td>\n",
       "      <td>107274</td>\n",
       "      <td>153.0</td>\n",
       "      <td>11.0</td>\n",
       "      <td>8.0</td>\n",
       "    </tr>\n",
       "    <tr>\n",
       "      <th>1451</th>\n",
       "      <td>03/04/2020</td>\n",
       "      <td>Ukraine</td>\n",
       "      <td>3391</td>\n",
       "      <td>1.0</td>\n",
       "      <td>0.0</td>\n",
       "      <td>0.0</td>\n",
       "    </tr>\n",
       "    <tr>\n",
       "      <th>1452</th>\n",
       "      <td>03/04/2020</td>\n",
       "      <td>United Arab Emirates</td>\n",
       "      <td>3290</td>\n",
       "      <td>27.0</td>\n",
       "      <td>0.0</td>\n",
       "      <td>5.0</td>\n",
       "    </tr>\n",
       "    <tr>\n",
       "      <th>1453</th>\n",
       "      <td>03/04/2020</td>\n",
       "      <td>Vietnam</td>\n",
       "      <td>3297</td>\n",
       "      <td>16.0</td>\n",
       "      <td>0.0</td>\n",
       "      <td>16.0</td>\n",
       "    </tr>\n",
       "  </tbody>\n",
       "</table>\n",
       "<p>1454 rows × 6 columns</p>\n",
       "</div>"
      ],
      "text/plain": [
       "     ObservationDate               Country     SNo  Confirmed  Deaths  \\\n",
       "0         01/22/2020                 Japan      36        2.0     0.0   \n",
       "1         01/22/2020                 Macau      21        1.0     0.0   \n",
       "2         01/22/2020        Mainland China     373      547.0    17.0   \n",
       "3         01/22/2020           South Korea      38        1.0     0.0   \n",
       "4         01/22/2020                Taiwan      29        1.0     0.0   \n",
       "...              ...                   ...     ...        ...     ...   \n",
       "1449      03/04/2020                    UK    3273       85.0     0.0   \n",
       "1450      03/04/2020                    US  107274      153.0    11.0   \n",
       "1451      03/04/2020               Ukraine    3391        1.0     0.0   \n",
       "1452      03/04/2020  United Arab Emirates    3290       27.0     0.0   \n",
       "1453      03/04/2020               Vietnam    3297       16.0     0.0   \n",
       "\n",
       "      Recovered  \n",
       "0           0.0  \n",
       "1           0.0  \n",
       "2          28.0  \n",
       "3           0.0  \n",
       "4           0.0  \n",
       "...         ...  \n",
       "1449        8.0  \n",
       "1450        8.0  \n",
       "1451        0.0  \n",
       "1452        5.0  \n",
       "1453       16.0  \n",
       "\n",
       "[1454 rows x 6 columns]"
      ]
     },
     "execution_count": 135,
     "metadata": {},
     "output_type": "execute_result"
    }
   ],
   "source": [
    "df_country_date = covid_global_df[covid_global_df['Confirmed']>0].copy(deep=True)\n",
    "df_country_date = df_country_date.groupby(['ObservationDate', 'Country']).sum().reset_index()\n",
    "df_country_date"
   ]
  },
  {
   "cell_type": "code",
   "execution_count": 148,
   "metadata": {},
   "outputs": [
    {
     "data": {
      "application/vnd.plotly.v1+json": {
       "config": {
        "plotlyServerURL": "https://plot.ly"
       },
       "data": [
        {
         "coloraxis": "coloraxis",
         "geo": "geo",
         "hoverlabel": {
          "namelength": 0
         },
         "hovertemplate": "ObservationDate=01/22/2020<br>Country=%{location}<br>Confirmed=%{z}",
         "locationmode": "country names",
         "locations": [
          "Japan",
          "Macau",
          "Mainland China",
          "South Korea",
          "Taiwan",
          "Thailand",
          "US"
         ],
         "name": "",
         "type": "choropleth",
         "z": [
          2,
          1,
          547,
          1,
          1,
          2,
          1
         ]
        }
       ],
       "frames": [
        {
         "data": [
          {
           "coloraxis": "coloraxis",
           "geo": "geo",
           "hoverlabel": {
            "namelength": 0
           },
           "hovertemplate": "ObservationDate=01/22/2020<br>Country=%{location}<br>Confirmed=%{z}",
           "locationmode": "country names",
           "locations": [
            "Japan",
            "Macau",
            "Mainland China",
            "South Korea",
            "Taiwan",
            "Thailand",
            "US"
           ],
           "name": "",
           "type": "choropleth",
           "z": [
            2,
            1,
            547,
            1,
            1,
            2,
            1
           ]
          }
         ],
         "name": "01/22/2020"
        },
        {
         "data": [
          {
           "coloraxis": "coloraxis",
           "geo": "geo",
           "hoverlabel": {
            "namelength": 0
           },
           "hovertemplate": "ObservationDate=01/23/2020<br>Country=%{location}<br>Confirmed=%{z}",
           "locationmode": "country names",
           "locations": [
            "Hong Kong",
            "Japan",
            "Macau",
            "Mainland China",
            "Singapore",
            "South Korea",
            "Taiwan",
            "Thailand",
            "US",
            "Vietnam"
           ],
           "name": "",
           "type": "choropleth",
           "z": [
            2,
            1,
            2,
            639,
            1,
            1,
            1,
            3,
            1,
            2
           ]
          }
         ],
         "name": "01/23/2020"
        },
        {
         "data": [
          {
           "coloraxis": "coloraxis",
           "geo": "geo",
           "hoverlabel": {
            "namelength": 0
           },
           "hovertemplate": "ObservationDate=01/24/2020<br>Country=%{location}<br>Confirmed=%{z}",
           "locationmode": "country names",
           "locations": [
            "France",
            "Hong Kong",
            "Japan",
            "Macau",
            "Mainland China",
            "Singapore",
            "South Korea",
            "Taiwan",
            "Thailand",
            "US",
            "Vietnam"
           ],
           "name": "",
           "type": "choropleth",
           "z": [
            2,
            2,
            2,
            2,
            916,
            3,
            2,
            3,
            5,
            2,
            2
           ]
          }
         ],
         "name": "01/24/2020"
        },
        {
         "data": [
          {
           "coloraxis": "coloraxis",
           "geo": "geo",
           "hoverlabel": {
            "namelength": 0
           },
           "hovertemplate": "ObservationDate=01/25/2020<br>Country=%{location}<br>Confirmed=%{z}",
           "locationmode": "country names",
           "locations": [
            "Australia",
            "France",
            "Hong Kong",
            "Japan",
            "Macau",
            "Mainland China",
            "Malaysia",
            "Nepal",
            "Singapore",
            "South Korea",
            "Taiwan",
            "Thailand",
            "US",
            "Vietnam"
           ],
           "name": "",
           "type": "choropleth",
           "z": [
            4,
            3,
            5,
            2,
            2,
            1399,
            3,
            1,
            3,
            2,
            3,
            7,
            2,
            2
           ]
          }
         ],
         "name": "01/25/2020"
        },
        {
         "data": [
          {
           "coloraxis": "coloraxis",
           "geo": "geo",
           "hoverlabel": {
            "namelength": 0
           },
           "hovertemplate": "ObservationDate=01/26/2020<br>Country=%{location}<br>Confirmed=%{z}",
           "locationmode": "country names",
           "locations": [
            "Australia",
            "Canada",
            "France",
            "Hong Kong",
            "Japan",
            "Macau",
            "Mainland China",
            "Malaysia",
            "Nepal",
            "Singapore",
            "South Korea",
            "Taiwan",
            "Thailand",
            "US",
            "Vietnam"
           ],
           "name": "",
           "type": "choropleth",
           "z": [
            4,
            1,
            3,
            8,
            4,
            5,
            2062,
            4,
            1,
            4,
            3,
            4,
            8,
            5,
            2
           ]
          }
         ],
         "name": "01/26/2020"
        },
        {
         "data": [
          {
           "coloraxis": "coloraxis",
           "geo": "geo",
           "hoverlabel": {
            "namelength": 0
           },
           "hovertemplate": "ObservationDate=01/27/2020<br>Country=%{location}<br>Confirmed=%{z}",
           "locationmode": "country names",
           "locations": [
            "Australia",
            "Cambodia",
            "Canada",
            "France",
            "Hong Kong",
            "Ivory Coast",
            "Japan",
            "Macau",
            "Mainland China",
            "Malaysia",
            "Nepal",
            "Singapore",
            "South Korea",
            "Sri Lanka",
            "Taiwan",
            "Thailand",
            "US",
            "Vietnam"
           ],
           "name": "",
           "type": "choropleth",
           "z": [
            5,
            1,
            1,
            3,
            8,
            1,
            4,
            6,
            2863,
            4,
            1,
            5,
            4,
            1,
            5,
            8,
            5,
            2
           ]
          }
         ],
         "name": "01/27/2020"
        },
        {
         "data": [
          {
           "coloraxis": "coloraxis",
           "geo": "geo",
           "hoverlabel": {
            "namelength": 0
           },
           "hovertemplate": "ObservationDate=01/28/2020<br>Country=%{location}<br>Confirmed=%{z}",
           "locationmode": "country names",
           "locations": [
            "Australia",
            "Cambodia",
            "Canada",
            "France",
            "Germany",
            "Hong Kong",
            "Japan",
            "Macau",
            "Mainland China",
            "Malaysia",
            "Nepal",
            "Singapore",
            "South Korea",
            "Sri Lanka",
            "Taiwan",
            "Thailand",
            "US",
            "Vietnam"
           ],
           "name": "",
           "type": "choropleth",
           "z": [
            5,
            1,
            2,
            4,
            4,
            8,
            7,
            7,
            5494,
            4,
            1,
            7,
            4,
            1,
            8,
            14,
            5,
            2
           ]
          }
         ],
         "name": "01/28/2020"
        },
        {
         "data": [
          {
           "coloraxis": "coloraxis",
           "geo": "geo",
           "hoverlabel": {
            "namelength": 0
           },
           "hovertemplate": "ObservationDate=01/29/2020<br>Country=%{location}<br>Confirmed=%{z}",
           "locationmode": "country names",
           "locations": [
            "Australia",
            "Cambodia",
            "Canada",
            "Finland",
            "France",
            "Germany",
            "Hong Kong",
            "Japan",
            "Macau",
            "Mainland China",
            "Malaysia",
            "Nepal",
            "Singapore",
            "South Korea",
            "Sri Lanka",
            "Taiwan",
            "Thailand",
            "US",
            "United Arab Emirates",
            "Vietnam"
           ],
           "name": "",
           "type": "choropleth",
           "z": [
            5,
            1,
            2,
            1,
            5,
            4,
            10,
            7,
            7,
            6070,
            7,
            1,
            7,
            4,
            1,
            8,
            14,
            5,
            4,
            2
           ]
          }
         ],
         "name": "01/29/2020"
        },
        {
         "data": [
          {
           "coloraxis": "coloraxis",
           "geo": "geo",
           "hoverlabel": {
            "namelength": 0
           },
           "hovertemplate": "ObservationDate=01/30/2020<br>Country=%{location}<br>Confirmed=%{z}",
           "locationmode": "country names",
           "locations": [
            "Australia",
            "Cambodia",
            "Canada",
            "Finland",
            "France",
            "Germany",
            "Hong Kong",
            "India",
            "Japan",
            "Macau",
            "Mainland China",
            "Malaysia",
            "Nepal",
            "Philippines",
            "Singapore",
            "South Korea",
            "Sri Lanka",
            "Taiwan",
            "Thailand",
            "US",
            "United Arab Emirates",
            "Vietnam"
           ],
           "name": "",
           "type": "choropleth",
           "z": [
            9,
            1,
            3,
            1,
            5,
            4,
            10,
            1,
            11,
            7,
            8124,
            8,
            1,
            1,
            10,
            4,
            1,
            9,
            14,
            5,
            4,
            2
           ]
          }
         ],
         "name": "01/30/2020"
        },
        {
         "data": [
          {
           "coloraxis": "coloraxis",
           "geo": "geo",
           "hoverlabel": {
            "namelength": 0
           },
           "hovertemplate": "ObservationDate=01/31/2020<br>Country=%{location}<br>Confirmed=%{z}",
           "locationmode": "country names",
           "locations": [
            "Australia",
            "Cambodia",
            "Canada",
            "Finland",
            "France",
            "Germany",
            "Hong Kong",
            "India",
            "Italy",
            "Japan",
            "Macau",
            "Mainland China",
            "Malaysia",
            "Nepal",
            "Philippines",
            "Russia",
            "Singapore",
            "South Korea",
            "Sri Lanka",
            "Sweden",
            "Taiwan",
            "Thailand",
            "UK",
            "US",
            "United Arab Emirates",
            "Vietnam"
           ],
           "name": "",
           "type": "choropleth",
           "z": [
            9,
            1,
            3,
            1,
            5,
            5,
            12,
            1,
            2,
            15,
            7,
            9783,
            8,
            1,
            1,
            2,
            13,
            11,
            1,
            1,
            10,
            19,
            2,
            6,
            4,
            2
           ]
          }
         ],
         "name": "01/31/2020"
        },
        {
         "data": [
          {
           "coloraxis": "coloraxis",
           "geo": "geo",
           "hoverlabel": {
            "namelength": 0
           },
           "hovertemplate": "ObservationDate=02/01/2020<br>Country=%{location}<br>Confirmed=%{z}",
           "locationmode": "country names",
           "locations": [
            "Australia",
            "Cambodia",
            "Canada",
            "Finland",
            "France",
            "Germany",
            "Hong Kong",
            "India",
            "Italy",
            "Japan",
            "Macau",
            "Mainland China",
            "Malaysia",
            "Nepal",
            "Philippines",
            "Russia",
            "Singapore",
            "South Korea",
            "Spain",
            "Sri Lanka",
            "Sweden",
            "Taiwan",
            "Thailand",
            "UK",
            "US",
            "United Arab Emirates",
            "Vietnam"
           ],
           "name": "",
           "type": "choropleth",
           "z": [
            12,
            1,
            4,
            1,
            6,
            8,
            13,
            1,
            2,
            20,
            7,
            11871,
            8,
            1,
            1,
            2,
            16,
            12,
            1,
            1,
            1,
            10,
            19,
            2,
            8,
            4,
            6
           ]
          }
         ],
         "name": "02/01/2020"
        },
        {
         "data": [
          {
           "coloraxis": "coloraxis",
           "geo": "geo",
           "hoverlabel": {
            "namelength": 0
           },
           "hovertemplate": "ObservationDate=02/02/2020<br>Country=%{location}<br>Confirmed=%{z}",
           "locationmode": "country names",
           "locations": [
            "Australia",
            "Cambodia",
            "Canada",
            "Finland",
            "France",
            "Germany",
            "Hong Kong",
            "India",
            "Italy",
            "Japan",
            "Macau",
            "Mainland China",
            "Malaysia",
            "Nepal",
            "Philippines",
            "Russia",
            "Singapore",
            "South Korea",
            "Spain",
            "Sri Lanka",
            "Sweden",
            "Taiwan",
            "Thailand",
            "UK",
            "US",
            "United Arab Emirates",
            "Vietnam"
           ],
           "name": "",
           "type": "choropleth",
           "z": [
            12,
            1,
            4,
            1,
            6,
            10,
            15,
            2,
            2,
            20,
            8,
            16607,
            8,
            1,
            2,
            2,
            18,
            15,
            1,
            1,
            1,
            10,
            19,
            2,
            8,
            5,
            6
           ]
          }
         ],
         "name": "02/02/2020"
        },
        {
         "data": [
          {
           "coloraxis": "coloraxis",
           "geo": "geo",
           "hoverlabel": {
            "namelength": 0
           },
           "hovertemplate": "ObservationDate=02/03/2020<br>Country=%{location}<br>Confirmed=%{z}",
           "locationmode": "country names",
           "locations": [
            "Australia",
            "Cambodia",
            "Canada",
            "Finland",
            "France",
            "Germany",
            "Hong Kong",
            "India",
            "Italy",
            "Japan",
            "Macau",
            "Mainland China",
            "Malaysia",
            "Nepal",
            "Philippines",
            "Russia",
            "Singapore",
            "South Korea",
            "Spain",
            "Sri Lanka",
            "Sweden",
            "Taiwan",
            "Thailand",
            "UK",
            "US",
            "United Arab Emirates",
            "Vietnam"
           ],
           "name": "",
           "type": "choropleth",
           "z": [
            12,
            1,
            4,
            1,
            6,
            12,
            15,
            3,
            2,
            20,
            8,
            19693,
            8,
            1,
            2,
            2,
            18,
            15,
            1,
            1,
            1,
            10,
            19,
            2,
            11,
            5,
            8
           ]
          }
         ],
         "name": "02/03/2020"
        },
        {
         "data": [
          {
           "coloraxis": "coloraxis",
           "geo": "geo",
           "hoverlabel": {
            "namelength": 0
           },
           "hovertemplate": "ObservationDate=02/04/2020<br>Country=%{location}<br>Confirmed=%{z}",
           "locationmode": "country names",
           "locations": [
            "Australia",
            "Belgium",
            "Cambodia",
            "Canada",
            "Finland",
            "France",
            "Germany",
            "Hong Kong",
            "India",
            "Italy",
            "Japan",
            "Macau",
            "Mainland China",
            "Malaysia",
            "Nepal",
            "Philippines",
            "Russia",
            "Singapore",
            "South Korea",
            "Spain",
            "Sri Lanka",
            "Sweden",
            "Taiwan",
            "Thailand",
            "UK",
            "US",
            "United Arab Emirates",
            "Vietnam"
           ],
           "name": "",
           "type": "choropleth",
           "z": [
            13,
            1,
            1,
            4,
            1,
            6,
            12,
            17,
            3,
            2,
            22,
            10,
            23680,
            10,
            1,
            2,
            2,
            24,
            16,
            1,
            1,
            1,
            11,
            25,
            2,
            11,
            5,
            8
           ]
          }
         ],
         "name": "02/04/2020"
        },
        {
         "data": [
          {
           "coloraxis": "coloraxis",
           "geo": "geo",
           "hoverlabel": {
            "namelength": 0
           },
           "hovertemplate": "ObservationDate=02/05/2020<br>Country=%{location}<br>Confirmed=%{z}",
           "locationmode": "country names",
           "locations": [
            "Australia",
            "Belgium",
            "Cambodia",
            "Canada",
            "Finland",
            "France",
            "Germany",
            "Hong Kong",
            "India",
            "Italy",
            "Japan",
            "Macau",
            "Mainland China",
            "Malaysia",
            "Nepal",
            "Philippines",
            "Russia",
            "Singapore",
            "South Korea",
            "Spain",
            "Sri Lanka",
            "Sweden",
            "Taiwan",
            "Thailand",
            "UK",
            "US",
            "United Arab Emirates",
            "Vietnam"
           ],
           "name": "",
           "type": "choropleth",
           "z": [
            13,
            1,
            1,
            5,
            1,
            6,
            12,
            21,
            3,
            2,
            22,
            10,
            27409,
            12,
            1,
            2,
            2,
            28,
            19,
            1,
            1,
            1,
            11,
            25,
            2,
            12,
            5,
            8
           ]
          }
         ],
         "name": "02/05/2020"
        },
        {
         "data": [
          {
           "coloraxis": "coloraxis",
           "geo": "geo",
           "hoverlabel": {
            "namelength": 0
           },
           "hovertemplate": "ObservationDate=02/06/2020<br>Country=%{location}<br>Confirmed=%{z}",
           "locationmode": "country names",
           "locations": [
            "Australia",
            "Belgium",
            "Cambodia",
            "Canada",
            "Finland",
            "France",
            "Germany",
            "Hong Kong",
            "India",
            "Italy",
            "Japan",
            "Macau",
            "Mainland China",
            "Malaysia",
            "Nepal",
            "Philippines",
            "Russia",
            "Singapore",
            "South Korea",
            "Spain",
            "Sri Lanka",
            "Sweden",
            "Taiwan",
            "Thailand",
            "UK",
            "US",
            "United Arab Emirates",
            "Vietnam"
           ],
           "name": "",
           "type": "choropleth",
           "z": [
            14,
            1,
            1,
            5,
            1,
            6,
            12,
            24,
            3,
            2,
            45,
            10,
            30553,
            12,
            1,
            2,
            2,
            28,
            23,
            1,
            1,
            1,
            16,
            25,
            2,
            12,
            5,
            10
           ]
          }
         ],
         "name": "02/06/2020"
        },
        {
         "data": [
          {
           "coloraxis": "coloraxis",
           "geo": "geo",
           "hoverlabel": {
            "namelength": 0
           },
           "hovertemplate": "ObservationDate=02/07/2020<br>Country=%{location}<br>Confirmed=%{z}",
           "locationmode": "country names",
           "locations": [
            "Australia",
            "Belgium",
            "Cambodia",
            "Canada",
            "Finland",
            "France",
            "Germany",
            "Hong Kong",
            "India",
            "Italy",
            "Japan",
            "Macau",
            "Mainland China",
            "Malaysia",
            "Nepal",
            "Others",
            "Philippines",
            "Russia",
            "Singapore",
            "South Korea",
            "Spain",
            "Sri Lanka",
            "Sweden",
            "Taiwan",
            "Thailand",
            "UK",
            "US",
            "United Arab Emirates",
            "Vietnam"
           ],
           "name": "",
           "type": "choropleth",
           "z": [
            15,
            1,
            1,
            7,
            1,
            6,
            13,
            25,
            3,
            3,
            25,
            10,
            34075,
            12,
            1,
            61,
            3,
            2,
            30,
            24,
            1,
            1,
            1,
            16,
            25,
            3,
            12,
            5,
            10
           ]
          }
         ],
         "name": "02/07/2020"
        },
        {
         "data": [
          {
           "coloraxis": "coloraxis",
           "geo": "geo",
           "hoverlabel": {
            "namelength": 0
           },
           "hovertemplate": "ObservationDate=02/08/2020<br>Country=%{location}<br>Confirmed=%{z}",
           "locationmode": "country names",
           "locations": [
            "Australia",
            "Belgium",
            "Cambodia",
            "Canada",
            "Finland",
            "France",
            "Germany",
            "Hong Kong",
            "India",
            "Italy",
            "Japan",
            "Macau",
            "Mainland China",
            "Malaysia",
            "Nepal",
            "Others",
            "Philippines",
            "Russia",
            "Singapore",
            "South Korea",
            "Spain",
            "Sri Lanka",
            "Sweden",
            "Taiwan",
            "Thailand",
            "UK",
            "US",
            "United Arab Emirates",
            "Vietnam"
           ],
           "name": "",
           "type": "choropleth",
           "z": [
            15,
            1,
            1,
            7,
            1,
            11,
            13,
            26,
            3,
            3,
            25,
            10,
            36778,
            16,
            1,
            61,
            3,
            2,
            33,
            24,
            1,
            1,
            1,
            17,
            32,
            3,
            12,
            7,
            13
           ]
          }
         ],
         "name": "02/08/2020"
        },
        {
         "data": [
          {
           "coloraxis": "coloraxis",
           "geo": "geo",
           "hoverlabel": {
            "namelength": 0
           },
           "hovertemplate": "ObservationDate=02/09/2020<br>Country=%{location}<br>Confirmed=%{z}",
           "locationmode": "country names",
           "locations": [
            "Australia",
            "Belgium",
            "Cambodia",
            "Canada",
            "Finland",
            "France",
            "Germany",
            "Hong Kong",
            "India",
            "Italy",
            "Japan",
            "Macau",
            "Mainland China",
            "Malaysia",
            "Nepal",
            "Others",
            "Philippines",
            "Russia",
            "Singapore",
            "South Korea",
            "Spain",
            "Sri Lanka",
            "Sweden",
            "Taiwan",
            "Thailand",
            "UK",
            "US",
            "United Arab Emirates",
            "Vietnam"
           ],
           "name": "",
           "type": "choropleth",
           "z": [
            15,
            1,
            1,
            7,
            1,
            11,
            14,
            29,
            3,
            3,
            26,
            10,
            39790,
            16,
            1,
            64,
            3,
            2,
            40,
            25,
            2,
            1,
            1,
            18,
            32,
            3,
            12,
            7,
            13
           ]
          }
         ],
         "name": "02/09/2020"
        },
        {
         "data": [
          {
           "coloraxis": "coloraxis",
           "geo": "geo",
           "hoverlabel": {
            "namelength": 0
           },
           "hovertemplate": "ObservationDate=02/10/2020<br>Country=%{location}<br>Confirmed=%{z}",
           "locationmode": "country names",
           "locations": [
            "Australia",
            "Belgium",
            "Cambodia",
            "Canada",
            "Finland",
            "France",
            "Germany",
            "Hong Kong",
            "India",
            "Italy",
            "Japan",
            "Macau",
            "Mainland China",
            "Malaysia",
            "Nepal",
            "Others",
            "Philippines",
            "Russia",
            "Singapore",
            "South Korea",
            "Spain",
            "Sri Lanka",
            "Sweden",
            "Taiwan",
            "Thailand",
            "UK",
            "US",
            "United Arab Emirates",
            "Vietnam"
           ],
           "name": "",
           "type": "choropleth",
           "z": [
            15,
            1,
            1,
            7,
            1,
            11,
            14,
            38,
            3,
            3,
            26,
            10,
            42306,
            18,
            1,
            135,
            3,
            2,
            45,
            27,
            2,
            1,
            1,
            18,
            32,
            8,
            12,
            8,
            14
           ]
          }
         ],
         "name": "02/10/2020"
        },
        {
         "data": [
          {
           "coloraxis": "coloraxis",
           "geo": "geo",
           "hoverlabel": {
            "namelength": 0
           },
           "hovertemplate": "ObservationDate=02/11/2020<br>Country=%{location}<br>Confirmed=%{z}",
           "locationmode": "country names",
           "locations": [
            "Australia",
            "Belgium",
            "Cambodia",
            "Canada",
            "Finland",
            "France",
            "Germany",
            "Hong Kong",
            "India",
            "Italy",
            "Japan",
            "Macau",
            "Mainland China",
            "Malaysia",
            "Nepal",
            "Others",
            "Philippines",
            "Russia",
            "Singapore",
            "South Korea",
            "Spain",
            "Sri Lanka",
            "Sweden",
            "Taiwan",
            "Thailand",
            "UK",
            "US",
            "United Arab Emirates",
            "Vietnam"
           ],
           "name": "",
           "type": "choropleth",
           "z": [
            15,
            1,
            1,
            7,
            1,
            11,
            16,
            49,
            3,
            3,
            26,
            10,
            44327,
            18,
            1,
            135,
            3,
            2,
            47,
            28,
            2,
            1,
            1,
            18,
            33,
            8,
            13,
            8,
            15
           ]
          }
         ],
         "name": "02/11/2020"
        },
        {
         "data": [
          {
           "coloraxis": "coloraxis",
           "geo": "geo",
           "hoverlabel": {
            "namelength": 0
           },
           "hovertemplate": "ObservationDate=02/12/2020<br>Country=%{location}<br>Confirmed=%{z}",
           "locationmode": "country names",
           "locations": [
            "Australia",
            "Belgium",
            "Cambodia",
            "Canada",
            "Finland",
            "France",
            "Germany",
            "Hong Kong",
            "India",
            "Italy",
            "Japan",
            "Macau",
            "Mainland China",
            "Malaysia",
            "Nepal",
            "Others",
            "Philippines",
            "Russia",
            "Singapore",
            "South Korea",
            "Spain",
            "Sri Lanka",
            "Sweden",
            "Taiwan",
            "Thailand",
            "UK",
            "US",
            "United Arab Emirates",
            "Vietnam"
           ],
           "name": "",
           "type": "choropleth",
           "z": [
            15,
            1,
            1,
            7,
            1,
            11,
            16,
            50,
            3,
            3,
            28,
            10,
            44699,
            18,
            1,
            175,
            3,
            2,
            50,
            28,
            2,
            1,
            1,
            18,
            33,
            9,
            13,
            8,
            15
           ]
          }
         ],
         "name": "02/12/2020"
        },
        {
         "data": [
          {
           "coloraxis": "coloraxis",
           "geo": "geo",
           "hoverlabel": {
            "namelength": 0
           },
           "hovertemplate": "ObservationDate=02/13/2020<br>Country=%{location}<br>Confirmed=%{z}",
           "locationmode": "country names",
           "locations": [
            "Australia",
            "Belgium",
            "Cambodia",
            "Canada",
            "Finland",
            "France",
            "Germany",
            "Hong Kong",
            "India",
            "Italy",
            "Japan",
            "Macau",
            "Mainland China",
            "Malaysia",
            "Nepal",
            "Others",
            "Philippines",
            "Russia",
            "Singapore",
            "South Korea",
            "Spain",
            "Sri Lanka",
            "Sweden",
            "Taiwan",
            "Thailand",
            "UK",
            "US",
            "United Arab Emirates",
            "Vietnam"
           ],
           "name": "",
           "type": "choropleth",
           "z": [
            15,
            1,
            1,
            7,
            1,
            11,
            16,
            53,
            3,
            3,
            28,
            10,
            59832,
            19,
            1,
            175,
            3,
            2,
            58,
            28,
            2,
            1,
            1,
            18,
            33,
            9,
            15,
            8,
            16
           ]
          }
         ],
         "name": "02/13/2020"
        },
        {
         "data": [
          {
           "coloraxis": "coloraxis",
           "geo": "geo",
           "hoverlabel": {
            "namelength": 0
           },
           "hovertemplate": "ObservationDate=02/14/2020<br>Country=%{location}<br>Confirmed=%{z}",
           "locationmode": "country names",
           "locations": [
            "Australia",
            "Belgium",
            "Cambodia",
            "Canada",
            "Egypt",
            "Finland",
            "France",
            "Germany",
            "Hong Kong",
            "India",
            "Italy",
            "Japan",
            "Macau",
            "Mainland China",
            "Malaysia",
            "Nepal",
            "Others",
            "Philippines",
            "Russia",
            "Singapore",
            "South Korea",
            "Spain",
            "Sri Lanka",
            "Sweden",
            "Taiwan",
            "Thailand",
            "UK",
            "US",
            "United Arab Emirates",
            "Vietnam"
           ],
           "name": "",
           "type": "choropleth",
           "z": [
            15,
            1,
            1,
            7,
            1,
            1,
            11,
            16,
            56,
            3,
            3,
            29,
            10,
            66292,
            19,
            1,
            218,
            3,
            2,
            67,
            28,
            2,
            1,
            1,
            18,
            33,
            9,
            15,
            8,
            16
           ]
          }
         ],
         "name": "02/14/2020"
        },
        {
         "data": [
          {
           "coloraxis": "coloraxis",
           "geo": "geo",
           "hoverlabel": {
            "namelength": 0
           },
           "hovertemplate": "ObservationDate=02/15/2020<br>Country=%{location}<br>Confirmed=%{z}",
           "locationmode": "country names",
           "locations": [
            "Australia",
            "Belgium",
            "Cambodia",
            "Canada",
            "Egypt",
            "Finland",
            "France",
            "Germany",
            "Hong Kong",
            "India",
            "Italy",
            "Japan",
            "Macau",
            "Mainland China",
            "Malaysia",
            "Nepal",
            "Others",
            "Philippines",
            "Russia",
            "Singapore",
            "South Korea",
            "Spain",
            "Sri Lanka",
            "Sweden",
            "Taiwan",
            "Thailand",
            "UK",
            "US",
            "United Arab Emirates",
            "Vietnam"
           ],
           "name": "",
           "type": "choropleth",
           "z": [
            15,
            1,
            1,
            7,
            1,
            1,
            12,
            16,
            56,
            3,
            3,
            43,
            10,
            68347,
            22,
            1,
            285,
            3,
            2,
            72,
            28,
            2,
            1,
            1,
            18,
            33,
            9,
            15,
            8,
            16
           ]
          }
         ],
         "name": "02/15/2020"
        },
        {
         "data": [
          {
           "coloraxis": "coloraxis",
           "geo": "geo",
           "hoverlabel": {
            "namelength": 0
           },
           "hovertemplate": "ObservationDate=02/16/2020<br>Country=%{location}<br>Confirmed=%{z}",
           "locationmode": "country names",
           "locations": [
            "Australia",
            "Belgium",
            "Cambodia",
            "Canada",
            "Egypt",
            "Finland",
            "France",
            "Germany",
            "Hong Kong",
            "India",
            "Italy",
            "Japan",
            "Macau",
            "Mainland China",
            "Malaysia",
            "Nepal",
            "Others",
            "Philippines",
            "Russia",
            "Singapore",
            "South Korea",
            "Spain",
            "Sri Lanka",
            "Sweden",
            "Taiwan",
            "Thailand",
            "UK",
            "US",
            "United Arab Emirates",
            "Vietnam"
           ],
           "name": "",
           "type": "choropleth",
           "z": [
            15,
            1,
            1,
            7,
            1,
            1,
            12,
            16,
            57,
            3,
            3,
            59,
            10,
            70446,
            22,
            1,
            355,
            3,
            2,
            75,
            29,
            2,
            1,
            1,
            20,
            34,
            9,
            15,
            9,
            16
           ]
          }
         ],
         "name": "02/16/2020"
        },
        {
         "data": [
          {
           "coloraxis": "coloraxis",
           "geo": "geo",
           "hoverlabel": {
            "namelength": 0
           },
           "hovertemplate": "ObservationDate=02/17/2020<br>Country=%{location}<br>Confirmed=%{z}",
           "locationmode": "country names",
           "locations": [
            "Australia",
            "Belgium",
            "Cambodia",
            "Canada",
            "Egypt",
            "Finland",
            "France",
            "Germany",
            "Hong Kong",
            "India",
            "Italy",
            "Japan",
            "Macau",
            "Mainland China",
            "Malaysia",
            "Nepal",
            "Others",
            "Philippines",
            "Russia",
            "Singapore",
            "South Korea",
            "Spain",
            "Sri Lanka",
            "Sweden",
            "Taiwan",
            "Thailand",
            "UK",
            "US",
            "United Arab Emirates",
            "Vietnam"
           ],
           "name": "",
           "type": "choropleth",
           "z": [
            15,
            1,
            1,
            8,
            1,
            1,
            12,
            16,
            60,
            3,
            3,
            66,
            10,
            72364,
            22,
            1,
            454,
            3,
            2,
            77,
            30,
            2,
            1,
            1,
            22,
            35,
            9,
            15,
            9,
            16
           ]
          }
         ],
         "name": "02/17/2020"
        },
        {
         "data": [
          {
           "coloraxis": "coloraxis",
           "geo": "geo",
           "hoverlabel": {
            "namelength": 0
           },
           "hovertemplate": "ObservationDate=02/18/2020<br>Country=%{location}<br>Confirmed=%{z}",
           "locationmode": "country names",
           "locations": [
            "Australia",
            "Belgium",
            "Cambodia",
            "Canada",
            "Egypt",
            "Finland",
            "France",
            "Germany",
            "Hong Kong",
            "India",
            "Italy",
            "Japan",
            "Macau",
            "Mainland China",
            "Malaysia",
            "Nepal",
            "Others",
            "Philippines",
            "Russia",
            "Singapore",
            "South Korea",
            "Spain",
            "Sri Lanka",
            "Sweden",
            "Taiwan",
            "Thailand",
            "UK",
            "US",
            "United Arab Emirates",
            "Vietnam"
           ],
           "name": "",
           "type": "choropleth",
           "z": [
            15,
            1,
            1,
            8,
            1,
            1,
            12,
            16,
            62,
            3,
            3,
            74,
            10,
            74139,
            22,
            1,
            542,
            3,
            2,
            81,
            31,
            2,
            1,
            1,
            22,
            35,
            9,
            15,
            9,
            16
           ]
          }
         ],
         "name": "02/18/2020"
        },
        {
         "data": [
          {
           "coloraxis": "coloraxis",
           "geo": "geo",
           "hoverlabel": {
            "namelength": 0
           },
           "hovertemplate": "ObservationDate=02/19/2020<br>Country=%{location}<br>Confirmed=%{z}",
           "locationmode": "country names",
           "locations": [
            "Australia",
            "Belgium",
            "Cambodia",
            "Canada",
            "Egypt",
            "Finland",
            "France",
            "Germany",
            "Hong Kong",
            "India",
            "Iran",
            "Italy",
            "Japan",
            "Macau",
            "Mainland China",
            "Malaysia",
            "Nepal",
            "Others",
            "Philippines",
            "Russia",
            "Singapore",
            "South Korea",
            "Spain",
            "Sri Lanka",
            "Sweden",
            "Taiwan",
            "Thailand",
            "UK",
            "US",
            "United Arab Emirates",
            "Vietnam"
           ],
           "name": "",
           "type": "choropleth",
           "z": [
            15,
            1,
            1,
            8,
            1,
            1,
            12,
            16,
            63,
            3,
            2,
            3,
            84,
            10,
            74546,
            22,
            1,
            621,
            3,
            2,
            84,
            31,
            2,
            1,
            1,
            23,
            35,
            9,
            15,
            9,
            16
           ]
          }
         ],
         "name": "02/19/2020"
        },
        {
         "data": [
          {
           "coloraxis": "coloraxis",
           "geo": "geo",
           "hoverlabel": {
            "namelength": 0
           },
           "hovertemplate": "ObservationDate=02/20/2020<br>Country=%{location}<br>Confirmed=%{z}",
           "locationmode": "country names",
           "locations": [
            "Australia",
            "Belgium",
            "Cambodia",
            "Canada",
            "Egypt",
            "Finland",
            "France",
            "Germany",
            "Hong Kong",
            "India",
            "Iran",
            "Italy",
            "Japan",
            "Macau",
            "Mainland China",
            "Malaysia",
            "Nepal",
            "Others",
            "Philippines",
            "Russia",
            "Singapore",
            "South Korea",
            "Spain",
            "Sri Lanka",
            "Sweden",
            "Taiwan",
            "Thailand",
            "UK",
            "US",
            "United Arab Emirates",
            "Vietnam"
           ],
           "name": "",
           "type": "choropleth",
           "z": [
            15,
            1,
            1,
            8,
            1,
            1,
            12,
            16,
            68,
            3,
            5,
            3,
            94,
            10,
            74999,
            22,
            1,
            634,
            3,
            2,
            84,
            104,
            2,
            1,
            1,
            24,
            35,
            9,
            15,
            9,
            16
           ]
          }
         ],
         "name": "02/20/2020"
        },
        {
         "data": [
          {
           "coloraxis": "coloraxis",
           "geo": "geo",
           "hoverlabel": {
            "namelength": 0
           },
           "hovertemplate": "ObservationDate=02/21/2020<br>Country=%{location}<br>Confirmed=%{z}",
           "locationmode": "country names",
           "locations": [
            "Australia",
            "Belgium",
            "Cambodia",
            "Canada",
            "Egypt",
            "Finland",
            "France",
            "Germany",
            "Hong Kong",
            "India",
            "Iran",
            "Israel",
            "Italy",
            "Japan",
            "Lebanon",
            "Macau",
            "Mainland China",
            "Malaysia",
            "Nepal",
            "Others",
            "Philippines",
            "Russia",
            "Singapore",
            "South Korea",
            "Spain",
            "Sri Lanka",
            "Sweden",
            "Taiwan",
            "Thailand",
            "UK",
            "US",
            "United Arab Emirates",
            "Vietnam"
           ],
           "name": "",
           "type": "choropleth",
           "z": [
            19,
            1,
            1,
            9,
            1,
            1,
            12,
            16,
            68,
            3,
            18,
            1,
            20,
            105,
            1,
            10,
            75472,
            22,
            1,
            634,
            3,
            2,
            85,
            204,
            2,
            1,
            1,
            26,
            35,
            9,
            35,
            9,
            16
           ]
          }
         ],
         "name": "02/21/2020"
        },
        {
         "data": [
          {
           "coloraxis": "coloraxis",
           "geo": "geo",
           "hoverlabel": {
            "namelength": 0
           },
           "hovertemplate": "ObservationDate=02/22/2020<br>Country=%{location}<br>Confirmed=%{z}",
           "locationmode": "country names",
           "locations": [
            "Australia",
            "Belgium",
            "Cambodia",
            "Canada",
            "Egypt",
            "Finland",
            "France",
            "Germany",
            "Hong Kong",
            "India",
            "Iran",
            "Israel",
            "Italy",
            "Japan",
            "Lebanon",
            "Macau",
            "Mainland China",
            "Malaysia",
            "Nepal",
            "Others",
            "Philippines",
            "Russia",
            "Singapore",
            "South Korea",
            "Spain",
            "Sri Lanka",
            "Sweden",
            "Taiwan",
            "Thailand",
            "UK",
            "US",
            "United Arab Emirates",
            "Vietnam"
           ],
           "name": "",
           "type": "choropleth",
           "z": [
            22,
            1,
            1,
            9,
            1,
            1,
            12,
            16,
            69,
            3,
            28,
            1,
            62,
            122,
            1,
            10,
            76922,
            22,
            1,
            634,
            3,
            2,
            85,
            433,
            2,
            1,
            1,
            26,
            35,
            9,
            35,
            13,
            16
           ]
          }
         ],
         "name": "02/22/2020"
        },
        {
         "data": [
          {
           "coloraxis": "coloraxis",
           "geo": "geo",
           "hoverlabel": {
            "namelength": 0
           },
           "hovertemplate": "ObservationDate=02/23/2020<br>Country=%{location}<br>Confirmed=%{z}",
           "locationmode": "country names",
           "locations": [
            "Australia",
            "Belgium",
            "Cambodia",
            "Canada",
            "Egypt",
            "Finland",
            "France",
            "Germany",
            "Hong Kong",
            "India",
            "Iran",
            "Israel",
            "Italy",
            "Japan",
            "Lebanon",
            "Macau",
            "Mainland China",
            "Malaysia",
            "Nepal",
            "Others",
            "Philippines",
            "Russia",
            "Singapore",
            "South Korea",
            "Spain",
            "Sri Lanka",
            "Sweden",
            "Taiwan",
            "Thailand",
            "UK",
            "US",
            "United Arab Emirates",
            "Vietnam"
           ],
           "name": "",
           "type": "choropleth",
           "z": [
            22,
            1,
            1,
            9,
            1,
            1,
            12,
            16,
            74,
            3,
            43,
            1,
            155,
            147,
            1,
            10,
            76938,
            22,
            1,
            691,
            3,
            2,
            89,
            602,
            2,
            1,
            1,
            28,
            35,
            9,
            35,
            13,
            16
           ]
          }
         ],
         "name": "02/23/2020"
        },
        {
         "data": [
          {
           "coloraxis": "coloraxis",
           "geo": "geo",
           "hoverlabel": {
            "namelength": 0
           },
           "hovertemplate": "ObservationDate=02/24/2020<br>Country=%{location}<br>Confirmed=%{z}",
           "locationmode": "country names",
           "locations": [
            "Afghanistan",
            "Australia",
            "Bahrain",
            "Belgium",
            "Cambodia",
            "Canada",
            "Egypt",
            "Finland",
            "France",
            "Germany",
            "Hong Kong",
            "India",
            "Iran",
            "Iraq",
            "Israel",
            "Italy",
            "Japan",
            "Kuwait",
            "Lebanon",
            "Macau",
            "Mainland China",
            "Malaysia",
            "Nepal",
            "Oman",
            "Others",
            "Philippines",
            "Russia",
            "Singapore",
            "South Korea",
            "Spain",
            "Sri Lanka",
            "Sweden",
            "Taiwan",
            "Thailand",
            "UK",
            "US",
            "United Arab Emirates",
            "Vietnam"
           ],
           "name": "",
           "type": "choropleth",
           "z": [
            1,
            22,
            1,
            1,
            1,
            10,
            1,
            1,
            12,
            16,
            79,
            3,
            61,
            1,
            1,
            229,
            159,
            1,
            1,
            10,
            77152,
            22,
            1,
            2,
            691,
            3,
            2,
            89,
            833,
            2,
            1,
            1,
            30,
            35,
            13,
            53,
            13,
            16
           ]
          }
         ],
         "name": "02/24/2020"
        },
        {
         "data": [
          {
           "coloraxis": "coloraxis",
           "geo": "geo",
           "hoverlabel": {
            "namelength": 0
           },
           "hovertemplate": "ObservationDate=02/25/2020<br>Country=%{location}<br>Confirmed=%{z}",
           "locationmode": "country names",
           "locations": [
            "Afghanistan",
            "Algeria",
            "Australia",
            "Austria",
            "Bahrain",
            "Belgium",
            "Cambodia",
            "Canada",
            "Croatia",
            "Egypt",
            "Finland",
            "France",
            "Germany",
            "Hong Kong",
            "India",
            "Iran",
            "Iraq",
            "Israel",
            "Italy",
            "Japan",
            "Kuwait",
            "Lebanon",
            "Macau",
            "Mainland China",
            "Malaysia",
            "Nepal",
            "Oman",
            "Others",
            "Philippines",
            "Russia",
            "Singapore",
            "South Korea",
            "Spain",
            "Sri Lanka",
            "Sweden",
            "Switzerland",
            "Taiwan",
            "Thailand",
            "UK",
            "US",
            "United Arab Emirates",
            "Vietnam"
           ],
           "name": "",
           "type": "choropleth",
           "z": [
            1,
            1,
            22,
            2,
            23,
            1,
            1,
            11,
            1,
            1,
            1,
            14,
            17,
            84,
            3,
            95,
            1,
            1,
            322,
            170,
            11,
            1,
            10,
            77660,
            22,
            1,
            2,
            691,
            3,
            2,
            91,
            977,
            6,
            1,
            1,
            1,
            31,
            37,
            13,
            53,
            13,
            16
           ]
          }
         ],
         "name": "02/25/2020"
        },
        {
         "data": [
          {
           "coloraxis": "coloraxis",
           "geo": "geo",
           "hoverlabel": {
            "namelength": 0
           },
           "hovertemplate": "ObservationDate=02/26/2020<br>Country=%{location}<br>Confirmed=%{z}",
           "locationmode": "country names",
           "locations": [
            "Afghanistan",
            "Algeria",
            "Australia",
            "Austria",
            "Bahrain",
            "Belgium",
            "Brazil",
            "Cambodia",
            "Canada",
            "Croatia",
            "Egypt",
            "Finland",
            "France",
            "Georgia",
            "Germany",
            "Greece",
            "Hong Kong",
            "India",
            "Iran",
            "Iraq",
            "Israel",
            "Italy",
            "Japan",
            "Kuwait",
            "Lebanon",
            "Macau",
            "Mainland China",
            "Malaysia",
            "Nepal",
            "North Macedonia",
            "Norway",
            "Oman",
            "Others",
            "Pakistan",
            "Philippines",
            "Romania",
            "Russia",
            "Singapore",
            "South Korea",
            "Spain",
            "Sri Lanka",
            "Sweden",
            "Switzerland",
            "Taiwan",
            "Thailand",
            "UK",
            "US",
            "United Arab Emirates",
            "Vietnam"
           ],
           "name": "",
           "type": "choropleth",
           "z": [
            1,
            1,
            22,
            2,
            33,
            1,
            1,
            1,
            11,
            3,
            1,
            2,
            18,
            1,
            27,
            1,
            91,
            3,
            139,
            5,
            2,
            453,
            189,
            26,
            2,
            10,
            78065,
            22,
            1,
            1,
            1,
            4,
            705,
            2,
            3,
            1,
            2,
            93,
            1261,
            13,
            1,
            2,
            1,
            32,
            40,
            13,
            59,
            13,
            16
           ]
          }
         ],
         "name": "02/26/2020"
        },
        {
         "data": [
          {
           "coloraxis": "coloraxis",
           "geo": "geo",
           "hoverlabel": {
            "namelength": 0
           },
           "hovertemplate": "ObservationDate=02/27/2020<br>Country=%{location}<br>Confirmed=%{z}",
           "locationmode": "country names",
           "locations": [
            "Afghanistan",
            "Algeria",
            "Australia",
            "Austria",
            "Bahrain",
            "Belgium",
            "Brazil",
            "Cambodia",
            "Canada",
            "Croatia",
            "Denmark",
            "Egypt",
            "Estonia",
            "Finland",
            "France",
            "Georgia",
            "Germany",
            "Greece",
            "Hong Kong",
            "India",
            "Iran",
            "Iraq",
            "Israel",
            "Italy",
            "Japan",
            "Kuwait",
            "Lebanon",
            "Macau",
            "Mainland China",
            "Malaysia",
            "Nepal",
            "Netherlands",
            "North Macedonia",
            "Norway",
            "Oman",
            "Others",
            "Pakistan",
            "Philippines",
            "Romania",
            "Russia",
            "San Marino",
            "Singapore",
            "South Korea",
            "Spain",
            "Sri Lanka",
            "Sweden",
            "Switzerland",
            "Taiwan",
            "Thailand",
            "UK",
            "US",
            "United Arab Emirates",
            "Vietnam"
           ],
           "name": "",
           "type": "choropleth",
           "z": [
            1,
            1,
            23,
            3,
            33,
            1,
            1,
            1,
            13,
            3,
            1,
            1,
            1,
            2,
            38,
            1,
            46,
            3,
            92,
            3,
            245,
            7,
            3,
            655,
            214,
            43,
            2,
            10,
            78498,
            23,
            1,
            1,
            1,
            1,
            4,
            705,
            2,
            3,
            1,
            2,
            1,
            93,
            1766,
            15,
            1,
            7,
            8,
            32,
            40,
            15,
            60,
            13,
            16
           ]
          }
         ],
         "name": "02/27/2020"
        },
        {
         "data": [
          {
           "coloraxis": "coloraxis",
           "geo": "geo",
           "hoverlabel": {
            "namelength": 0
           },
           "hovertemplate": "ObservationDate=02/28/2020<br>Country=%{location}<br>Confirmed=%{z}",
           "locationmode": "country names",
           "locations": [
            " Azerbaijan",
            "Afghanistan",
            "Algeria",
            "Australia",
            "Austria",
            "Bahrain",
            "Belarus",
            "Belgium",
            "Brazil",
            "Cambodia",
            "Canada",
            "Croatia",
            "Denmark",
            "Egypt",
            "Estonia",
            "Finland",
            "France",
            "Georgia",
            "Germany",
            "Greece",
            "Hong Kong",
            "Iceland",
            "India",
            "Iran",
            "Iraq",
            "Israel",
            "Italy",
            "Japan",
            "Kuwait",
            "Lebanon",
            "Lithuania",
            "Macau",
            "Mainland China",
            "Malaysia",
            "Mexico",
            "Nepal",
            "Netherlands",
            "New Zealand",
            "Nigeria",
            "North Ireland",
            "North Macedonia",
            "Norway",
            "Oman",
            "Others",
            "Pakistan",
            "Philippines",
            "Romania",
            "Russia",
            "San Marino",
            "Singapore",
            "South Korea",
            "Spain",
            "Sri Lanka",
            "Sweden",
            "Switzerland",
            "Taiwan",
            "Thailand",
            "UK",
            "US",
            "United Arab Emirates",
            "Vietnam"
           ],
           "name": "",
           "type": "choropleth",
           "z": [
            1,
            1,
            1,
            23,
            3,
            36,
            1,
            1,
            1,
            1,
            14,
            5,
            1,
            1,
            1,
            2,
            57,
            1,
            48,
            4,
            94,
            1,
            3,
            388,
            7,
            4,
            888,
            228,
            45,
            2,
            1,
            10,
            78824,
            23,
            1,
            1,
            1,
            1,
            1,
            1,
            1,
            6,
            4,
            705,
            2,
            3,
            3,
            2,
            1,
            93,
            2337,
            32,
            1,
            7,
            8,
            34,
            41,
            20,
            62,
            19,
            16
           ]
          }
         ],
         "name": "02/28/2020"
        },
        {
         "data": [
          {
           "coloraxis": "coloraxis",
           "geo": "geo",
           "hoverlabel": {
            "namelength": 0
           },
           "hovertemplate": "ObservationDate=02/29/2020<br>Country=%{location}<br>Confirmed=%{z}",
           "locationmode": "country names",
           "locations": [
            "Afghanistan",
            "Algeria",
            "Australia",
            "Austria",
            "Bahrain",
            "Belarus",
            "Belgium",
            "Brazil",
            "Cambodia",
            "Canada",
            "Croatia",
            "Denmark",
            "Egypt",
            "Estonia",
            "Finland",
            "France",
            "Georgia",
            "Germany",
            "Greece",
            "Hong Kong",
            "Iceland",
            "India",
            "Iran",
            "Iraq",
            "Ireland",
            "Israel",
            "Italy",
            "Japan",
            "Kuwait",
            "Lebanon",
            "Lithuania",
            "Luxembourg",
            "Macau",
            "Mainland China",
            "Malaysia",
            "Mexico",
            "Monaco",
            "Nepal",
            "Netherlands",
            "New Zealand",
            "Nigeria",
            "North Macedonia",
            "Norway",
            "Oman",
            "Others",
            "Pakistan",
            "Philippines",
            "Qatar",
            "Romania",
            "Russia",
            "San Marino",
            "Singapore",
            "South Korea",
            "Spain",
            "Sri Lanka",
            "Sweden",
            "Switzerland",
            "Taiwan",
            "Thailand",
            "UK",
            "US",
            "United Arab Emirates",
            "Vietnam"
           ],
           "name": "",
           "type": "choropleth",
           "z": [
            1,
            1,
            25,
            9,
            41,
            1,
            1,
            2,
            1,
            20,
            6,
            3,
            1,
            1,
            3,
            100,
            1,
            79,
            4,
            95,
            1,
            3,
            593,
            13,
            1,
            7,
            1128,
            241,
            45,
            4,
            1,
            1,
            10,
            79251,
            25,
            4,
            1,
            1,
            6,
            1,
            1,
            1,
            15,
            6,
            705,
            4,
            3,
            1,
            3,
            2,
            1,
            102,
            3150,
            45,
            1,
            12,
            18,
            39,
            42,
            23,
            70,
            21,
            16
           ]
          }
         ],
         "name": "02/29/2020"
        },
        {
         "data": [
          {
           "coloraxis": "coloraxis",
           "geo": "geo",
           "hoverlabel": {
            "namelength": 0
           },
           "hovertemplate": "ObservationDate=03/01/2020<br>Country=%{location}<br>Confirmed=%{z}",
           "locationmode": "country names",
           "locations": [
            "Afghanistan",
            "Algeria",
            "Armenia",
            "Australia",
            "Austria",
            "Azerbaijan",
            "Bahrain",
            "Belarus",
            "Belgium",
            "Brazil",
            "Cambodia",
            "Canada",
            "Croatia",
            "Czech Republic",
            "Denmark",
            "Dominican Republic",
            "Ecuador",
            "Egypt",
            "Estonia",
            "Finland",
            "France",
            "Georgia",
            "Germany",
            "Greece",
            "Hong Kong",
            "Iceland",
            "India",
            "Iran",
            "Iraq",
            "Ireland",
            "Israel",
            "Italy",
            "Japan",
            "Kuwait",
            "Lebanon",
            "Lithuania",
            "Luxembourg",
            "Macau",
            "Mainland China",
            "Malaysia",
            "Mexico",
            "Monaco",
            "Nepal",
            "Netherlands",
            "New Zealand",
            "Nigeria",
            "North Macedonia",
            "Norway",
            "Oman",
            "Others",
            "Pakistan",
            "Philippines",
            "Qatar",
            "Romania",
            "Russia",
            "San Marino",
            "Singapore",
            "South Korea",
            "Spain",
            "Sri Lanka",
            "Sweden",
            "Switzerland",
            "Taiwan",
            "Thailand",
            "UK",
            "US",
            "United Arab Emirates",
            "Vietnam"
           ],
           "name": "",
           "type": "choropleth",
           "z": [
            1,
            1,
            1,
            27,
            14,
            3,
            47,
            1,
            2,
            2,
            1,
            24,
            7,
            3,
            4,
            1,
            6,
            2,
            1,
            6,
            130,
            3,
            130,
            7,
            96,
            3,
            3,
            978,
            19,
            1,
            10,
            1694,
            256,
            45,
            10,
            1,
            1,
            10,
            79826,
            29,
            5,
            1,
            1,
            10,
            1,
            1,
            1,
            19,
            6,
            705,
            4,
            3,
            3,
            3,
            2,
            1,
            106,
            3736,
            84,
            1,
            14,
            27,
            40,
            42,
            36,
            76,
            21,
            16
           ]
          }
         ],
         "name": "03/01/2020"
        },
        {
         "data": [
          {
           "coloraxis": "coloraxis",
           "geo": "geo",
           "hoverlabel": {
            "namelength": 0
           },
           "hovertemplate": "ObservationDate=03/02/2020<br>Country=%{location}<br>Confirmed=%{z}",
           "locationmode": "country names",
           "locations": [
            "Afghanistan",
            "Algeria",
            "Andorra",
            "Armenia",
            "Australia",
            "Austria",
            "Azerbaijan",
            "Bahrain",
            "Belarus",
            "Belgium",
            "Brazil",
            "Cambodia",
            "Canada",
            "Croatia",
            "Czech Republic",
            "Denmark",
            "Dominican Republic",
            "Ecuador",
            "Egypt",
            "Estonia",
            "Finland",
            "France",
            "Georgia",
            "Germany",
            "Greece",
            "Hong Kong",
            "Iceland",
            "India",
            "Indonesia",
            "Iran",
            "Iraq",
            "Ireland",
            "Israel",
            "Italy",
            "Japan",
            "Kuwait",
            "Latvia",
            "Lebanon",
            "Lithuania",
            "Luxembourg",
            "Macau",
            "Mainland China",
            "Malaysia",
            "Mexico",
            "Monaco",
            "Morocco",
            "Nepal",
            "Netherlands",
            "New Zealand",
            "Nigeria",
            "North Macedonia",
            "Norway",
            "Oman",
            "Others",
            "Pakistan",
            "Philippines",
            "Portugal",
            "Qatar",
            "Romania",
            "Russia",
            "San Marino",
            "Saudi Arabia",
            "Senegal",
            "Singapore",
            "South Korea",
            "Spain",
            "Sri Lanka",
            "Sweden",
            "Switzerland",
            "Taiwan",
            "Thailand",
            "UK",
            "US",
            "United Arab Emirates",
            "Vietnam"
           ],
           "name": "",
           "type": "choropleth",
           "z": [
            1,
            3,
            1,
            1,
            30,
            18,
            3,
            49,
            1,
            8,
            2,
            1,
            27,
            7,
            3,
            4,
            1,
            6,
            2,
            1,
            6,
            191,
            3,
            159,
            7,
            100,
            6,
            5,
            2,
            1501,
            26,
            1,
            10,
            2036,
            274,
            56,
            1,
            13,
            1,
            1,
            10,
            80026,
            29,
            5,
            1,
            1,
            1,
            18,
            1,
            1,
            1,
            25,
            6,
            705,
            4,
            3,
            2,
            3,
            3,
            3,
            8,
            1,
            1,
            108,
            4335,
            120,
            1,
            15,
            42,
            41,
            43,
            40,
            101,
            21,
            16
           ]
          }
         ],
         "name": "03/02/2020"
        },
        {
         "data": [
          {
           "coloraxis": "coloraxis",
           "geo": "geo",
           "hoverlabel": {
            "namelength": 0
           },
           "hovertemplate": "ObservationDate=03/03/2020<br>Country=%{location}<br>Confirmed=%{z}",
           "locationmode": "country names",
           "locations": [
            "Afghanistan",
            "Algeria",
            "Andorra",
            "Argentina",
            "Armenia",
            "Australia",
            "Austria",
            "Azerbaijan",
            "Bahrain",
            "Belarus",
            "Belgium",
            "Brazil",
            "Cambodia",
            "Canada",
            "Chile",
            "Croatia",
            "Czech Republic",
            "Denmark",
            "Dominican Republic",
            "Ecuador",
            "Egypt",
            "Estonia",
            "Finland",
            "France",
            "Georgia",
            "Germany",
            "Greece",
            "Hong Kong",
            "Iceland",
            "India",
            "Indonesia",
            "Iran",
            "Iraq",
            "Ireland",
            "Israel",
            "Italy",
            "Japan",
            "Jordan",
            "Kuwait",
            "Latvia",
            "Lebanon",
            "Lithuania",
            "Luxembourg",
            "Macau",
            "Mainland China",
            "Malaysia",
            "Mexico",
            "Monaco",
            "Morocco",
            "Nepal",
            "Netherlands",
            "New Zealand",
            "Nigeria",
            "North Macedonia",
            "Norway",
            "Oman",
            "Others",
            "Pakistan",
            "Philippines",
            "Portugal",
            "Qatar",
            "Romania",
            "Russia",
            "San Marino",
            "Saudi Arabia",
            "Senegal",
            "Singapore",
            "South Korea",
            "Spain",
            "Sri Lanka",
            "Sweden",
            "Switzerland",
            "Taiwan",
            "Thailand",
            "UK",
            "US",
            "Ukraine",
            "United Arab Emirates",
            "Vietnam"
           ],
           "name": "",
           "type": "choropleth",
           "z": [
            1,
            5,
            1,
            1,
            1,
            39,
            21,
            3,
            49,
            1,
            13,
            2,
            1,
            30,
            1,
            9,
            5,
            6,
            1,
            7,
            2,
            2,
            6,
            204,
            3,
            196,
            7,
            100,
            11,
            5,
            2,
            2336,
            32,
            2,
            12,
            2502,
            293,
            1,
            56,
            1,
            13,
            1,
            1,
            10,
            80151,
            36,
            5,
            1,
            1,
            1,
            24,
            1,
            1,
            1,
            32,
            12,
            706,
            5,
            3,
            2,
            7,
            3,
            3,
            10,
            1,
            2,
            110,
            5186,
            165,
            1,
            21,
            56,
            42,
            43,
            51,
            122,
            1,
            27,
            16
           ]
          }
         ],
         "name": "03/03/2020"
        },
        {
         "data": [
          {
           "coloraxis": "coloraxis",
           "geo": "geo",
           "hoverlabel": {
            "namelength": 0
           },
           "hovertemplate": "ObservationDate=03/04/2020<br>Country=%{location}<br>Confirmed=%{z}",
           "locationmode": "country names",
           "locations": [
            "Afghanistan",
            "Algeria",
            "Andorra",
            "Argentina",
            "Armenia",
            "Australia",
            "Austria",
            "Azerbaijan",
            "Bahrain",
            "Belarus",
            "Belgium",
            "Brazil",
            "Cambodia",
            "Canada",
            "Chile",
            "Croatia",
            "Czech Republic",
            "Denmark",
            "Dominican Republic",
            "Ecuador",
            "Egypt",
            "Estonia",
            "Faroe Islands",
            "Finland",
            "France",
            "Georgia",
            "Germany",
            "Gibraltar",
            "Greece",
            "Hong Kong",
            "Hungary",
            "Iceland",
            "India",
            "Indonesia",
            "Iran",
            "Iraq",
            "Ireland",
            "Israel",
            "Italy",
            "Japan",
            "Jordan",
            "Kuwait",
            "Latvia",
            "Lebanon",
            "Liechtenstein",
            "Lithuania",
            "Luxembourg",
            "Macau",
            "Mainland China",
            "Malaysia",
            "Mexico",
            "Monaco",
            "Morocco",
            "Nepal",
            "Netherlands",
            "New Zealand",
            "Nigeria",
            "North Macedonia",
            "Norway",
            "Oman",
            "Others",
            "Pakistan",
            "Philippines",
            "Poland",
            "Portugal",
            "Qatar",
            "Romania",
            "Russia",
            "Saint Barthelemy",
            "San Marino",
            "Saudi Arabia",
            "Senegal",
            "Singapore",
            "South Korea",
            "Spain",
            "Sri Lanka",
            "Sweden",
            "Switzerland",
            "Taiwan",
            "Thailand",
            "Tunisia",
            "UK",
            "US",
            "Ukraine",
            "United Arab Emirates",
            "Vietnam"
           ],
           "name": "",
           "type": "choropleth",
           "z": [
            1,
            12,
            1,
            1,
            1,
            52,
            29,
            3,
            52,
            6,
            23,
            4,
            1,
            33,
            1,
            10,
            8,
            10,
            1,
            10,
            2,
            2,
            1,
            6,
            285,
            3,
            262,
            1,
            9,
            105,
            2,
            26,
            28,
            2,
            2922,
            35,
            6,
            15,
            3089,
            331,
            1,
            56,
            1,
            13,
            1,
            1,
            1,
            10,
            80271,
            50,
            5,
            1,
            1,
            1,
            38,
            3,
            1,
            1,
            56,
            15,
            706,
            5,
            3,
            1,
            5,
            8,
            4,
            3,
            3,
            16,
            1,
            4,
            110,
            5621,
            222,
            1,
            35,
            90,
            42,
            43,
            1,
            85,
            153,
            1,
            27,
            16
           ]
          }
         ],
         "name": "03/04/2020"
        }
       ],
       "layout": {
        "coloraxis": {
         "colorbar": {
          "title": {
           "text": "Confirmed"
          }
         },
         "colorscale": [
          [
           0,
           "#0d0887"
          ],
          [
           0.1111111111111111,
           "#46039f"
          ],
          [
           0.2222222222222222,
           "#7201a8"
          ],
          [
           0.3333333333333333,
           "#9c179e"
          ],
          [
           0.4444444444444444,
           "#bd3786"
          ],
          [
           0.5555555555555556,
           "#d8576b"
          ],
          [
           0.6666666666666666,
           "#ed7953"
          ],
          [
           0.7777777777777778,
           "#fb9f3a"
          ],
          [
           0.8888888888888888,
           "#fdca26"
          ],
          [
           1,
           "#f0f921"
          ]
         ]
        },
        "geo": {
         "center": {},
         "domain": {
          "x": [
           0,
           1
          ],
          "y": [
           0,
           1
          ]
         }
        },
        "legend": {
         "tracegroupgap": 0
        },
        "margin": {
         "t": 60
        },
        "sliders": [
         {
          "active": 0,
          "currentvalue": {
           "prefix": "ObservationDate="
          },
          "len": 0.9,
          "pad": {
           "b": 10,
           "t": 60
          },
          "steps": [
           {
            "args": [
             [
              "01/22/2020"
             ],
             {
              "frame": {
               "duration": 0,
               "redraw": true
              },
              "fromcurrent": true,
              "mode": "immediate",
              "transition": {
               "duration": 0,
               "easing": "linear"
              }
             }
            ],
            "label": "01/22/2020",
            "method": "animate"
           },
           {
            "args": [
             [
              "01/23/2020"
             ],
             {
              "frame": {
               "duration": 0,
               "redraw": true
              },
              "fromcurrent": true,
              "mode": "immediate",
              "transition": {
               "duration": 0,
               "easing": "linear"
              }
             }
            ],
            "label": "01/23/2020",
            "method": "animate"
           },
           {
            "args": [
             [
              "01/24/2020"
             ],
             {
              "frame": {
               "duration": 0,
               "redraw": true
              },
              "fromcurrent": true,
              "mode": "immediate",
              "transition": {
               "duration": 0,
               "easing": "linear"
              }
             }
            ],
            "label": "01/24/2020",
            "method": "animate"
           },
           {
            "args": [
             [
              "01/25/2020"
             ],
             {
              "frame": {
               "duration": 0,
               "redraw": true
              },
              "fromcurrent": true,
              "mode": "immediate",
              "transition": {
               "duration": 0,
               "easing": "linear"
              }
             }
            ],
            "label": "01/25/2020",
            "method": "animate"
           },
           {
            "args": [
             [
              "01/26/2020"
             ],
             {
              "frame": {
               "duration": 0,
               "redraw": true
              },
              "fromcurrent": true,
              "mode": "immediate",
              "transition": {
               "duration": 0,
               "easing": "linear"
              }
             }
            ],
            "label": "01/26/2020",
            "method": "animate"
           },
           {
            "args": [
             [
              "01/27/2020"
             ],
             {
              "frame": {
               "duration": 0,
               "redraw": true
              },
              "fromcurrent": true,
              "mode": "immediate",
              "transition": {
               "duration": 0,
               "easing": "linear"
              }
             }
            ],
            "label": "01/27/2020",
            "method": "animate"
           },
           {
            "args": [
             [
              "01/28/2020"
             ],
             {
              "frame": {
               "duration": 0,
               "redraw": true
              },
              "fromcurrent": true,
              "mode": "immediate",
              "transition": {
               "duration": 0,
               "easing": "linear"
              }
             }
            ],
            "label": "01/28/2020",
            "method": "animate"
           },
           {
            "args": [
             [
              "01/29/2020"
             ],
             {
              "frame": {
               "duration": 0,
               "redraw": true
              },
              "fromcurrent": true,
              "mode": "immediate",
              "transition": {
               "duration": 0,
               "easing": "linear"
              }
             }
            ],
            "label": "01/29/2020",
            "method": "animate"
           },
           {
            "args": [
             [
              "01/30/2020"
             ],
             {
              "frame": {
               "duration": 0,
               "redraw": true
              },
              "fromcurrent": true,
              "mode": "immediate",
              "transition": {
               "duration": 0,
               "easing": "linear"
              }
             }
            ],
            "label": "01/30/2020",
            "method": "animate"
           },
           {
            "args": [
             [
              "01/31/2020"
             ],
             {
              "frame": {
               "duration": 0,
               "redraw": true
              },
              "fromcurrent": true,
              "mode": "immediate",
              "transition": {
               "duration": 0,
               "easing": "linear"
              }
             }
            ],
            "label": "01/31/2020",
            "method": "animate"
           },
           {
            "args": [
             [
              "02/01/2020"
             ],
             {
              "frame": {
               "duration": 0,
               "redraw": true
              },
              "fromcurrent": true,
              "mode": "immediate",
              "transition": {
               "duration": 0,
               "easing": "linear"
              }
             }
            ],
            "label": "02/01/2020",
            "method": "animate"
           },
           {
            "args": [
             [
              "02/02/2020"
             ],
             {
              "frame": {
               "duration": 0,
               "redraw": true
              },
              "fromcurrent": true,
              "mode": "immediate",
              "transition": {
               "duration": 0,
               "easing": "linear"
              }
             }
            ],
            "label": "02/02/2020",
            "method": "animate"
           },
           {
            "args": [
             [
              "02/03/2020"
             ],
             {
              "frame": {
               "duration": 0,
               "redraw": true
              },
              "fromcurrent": true,
              "mode": "immediate",
              "transition": {
               "duration": 0,
               "easing": "linear"
              }
             }
            ],
            "label": "02/03/2020",
            "method": "animate"
           },
           {
            "args": [
             [
              "02/04/2020"
             ],
             {
              "frame": {
               "duration": 0,
               "redraw": true
              },
              "fromcurrent": true,
              "mode": "immediate",
              "transition": {
               "duration": 0,
               "easing": "linear"
              }
             }
            ],
            "label": "02/04/2020",
            "method": "animate"
           },
           {
            "args": [
             [
              "02/05/2020"
             ],
             {
              "frame": {
               "duration": 0,
               "redraw": true
              },
              "fromcurrent": true,
              "mode": "immediate",
              "transition": {
               "duration": 0,
               "easing": "linear"
              }
             }
            ],
            "label": "02/05/2020",
            "method": "animate"
           },
           {
            "args": [
             [
              "02/06/2020"
             ],
             {
              "frame": {
               "duration": 0,
               "redraw": true
              },
              "fromcurrent": true,
              "mode": "immediate",
              "transition": {
               "duration": 0,
               "easing": "linear"
              }
             }
            ],
            "label": "02/06/2020",
            "method": "animate"
           },
           {
            "args": [
             [
              "02/07/2020"
             ],
             {
              "frame": {
               "duration": 0,
               "redraw": true
              },
              "fromcurrent": true,
              "mode": "immediate",
              "transition": {
               "duration": 0,
               "easing": "linear"
              }
             }
            ],
            "label": "02/07/2020",
            "method": "animate"
           },
           {
            "args": [
             [
              "02/08/2020"
             ],
             {
              "frame": {
               "duration": 0,
               "redraw": true
              },
              "fromcurrent": true,
              "mode": "immediate",
              "transition": {
               "duration": 0,
               "easing": "linear"
              }
             }
            ],
            "label": "02/08/2020",
            "method": "animate"
           },
           {
            "args": [
             [
              "02/09/2020"
             ],
             {
              "frame": {
               "duration": 0,
               "redraw": true
              },
              "fromcurrent": true,
              "mode": "immediate",
              "transition": {
               "duration": 0,
               "easing": "linear"
              }
             }
            ],
            "label": "02/09/2020",
            "method": "animate"
           },
           {
            "args": [
             [
              "02/10/2020"
             ],
             {
              "frame": {
               "duration": 0,
               "redraw": true
              },
              "fromcurrent": true,
              "mode": "immediate",
              "transition": {
               "duration": 0,
               "easing": "linear"
              }
             }
            ],
            "label": "02/10/2020",
            "method": "animate"
           },
           {
            "args": [
             [
              "02/11/2020"
             ],
             {
              "frame": {
               "duration": 0,
               "redraw": true
              },
              "fromcurrent": true,
              "mode": "immediate",
              "transition": {
               "duration": 0,
               "easing": "linear"
              }
             }
            ],
            "label": "02/11/2020",
            "method": "animate"
           },
           {
            "args": [
             [
              "02/12/2020"
             ],
             {
              "frame": {
               "duration": 0,
               "redraw": true
              },
              "fromcurrent": true,
              "mode": "immediate",
              "transition": {
               "duration": 0,
               "easing": "linear"
              }
             }
            ],
            "label": "02/12/2020",
            "method": "animate"
           },
           {
            "args": [
             [
              "02/13/2020"
             ],
             {
              "frame": {
               "duration": 0,
               "redraw": true
              },
              "fromcurrent": true,
              "mode": "immediate",
              "transition": {
               "duration": 0,
               "easing": "linear"
              }
             }
            ],
            "label": "02/13/2020",
            "method": "animate"
           },
           {
            "args": [
             [
              "02/14/2020"
             ],
             {
              "frame": {
               "duration": 0,
               "redraw": true
              },
              "fromcurrent": true,
              "mode": "immediate",
              "transition": {
               "duration": 0,
               "easing": "linear"
              }
             }
            ],
            "label": "02/14/2020",
            "method": "animate"
           },
           {
            "args": [
             [
              "02/15/2020"
             ],
             {
              "frame": {
               "duration": 0,
               "redraw": true
              },
              "fromcurrent": true,
              "mode": "immediate",
              "transition": {
               "duration": 0,
               "easing": "linear"
              }
             }
            ],
            "label": "02/15/2020",
            "method": "animate"
           },
           {
            "args": [
             [
              "02/16/2020"
             ],
             {
              "frame": {
               "duration": 0,
               "redraw": true
              },
              "fromcurrent": true,
              "mode": "immediate",
              "transition": {
               "duration": 0,
               "easing": "linear"
              }
             }
            ],
            "label": "02/16/2020",
            "method": "animate"
           },
           {
            "args": [
             [
              "02/17/2020"
             ],
             {
              "frame": {
               "duration": 0,
               "redraw": true
              },
              "fromcurrent": true,
              "mode": "immediate",
              "transition": {
               "duration": 0,
               "easing": "linear"
              }
             }
            ],
            "label": "02/17/2020",
            "method": "animate"
           },
           {
            "args": [
             [
              "02/18/2020"
             ],
             {
              "frame": {
               "duration": 0,
               "redraw": true
              },
              "fromcurrent": true,
              "mode": "immediate",
              "transition": {
               "duration": 0,
               "easing": "linear"
              }
             }
            ],
            "label": "02/18/2020",
            "method": "animate"
           },
           {
            "args": [
             [
              "02/19/2020"
             ],
             {
              "frame": {
               "duration": 0,
               "redraw": true
              },
              "fromcurrent": true,
              "mode": "immediate",
              "transition": {
               "duration": 0,
               "easing": "linear"
              }
             }
            ],
            "label": "02/19/2020",
            "method": "animate"
           },
           {
            "args": [
             [
              "02/20/2020"
             ],
             {
              "frame": {
               "duration": 0,
               "redraw": true
              },
              "fromcurrent": true,
              "mode": "immediate",
              "transition": {
               "duration": 0,
               "easing": "linear"
              }
             }
            ],
            "label": "02/20/2020",
            "method": "animate"
           },
           {
            "args": [
             [
              "02/21/2020"
             ],
             {
              "frame": {
               "duration": 0,
               "redraw": true
              },
              "fromcurrent": true,
              "mode": "immediate",
              "transition": {
               "duration": 0,
               "easing": "linear"
              }
             }
            ],
            "label": "02/21/2020",
            "method": "animate"
           },
           {
            "args": [
             [
              "02/22/2020"
             ],
             {
              "frame": {
               "duration": 0,
               "redraw": true
              },
              "fromcurrent": true,
              "mode": "immediate",
              "transition": {
               "duration": 0,
               "easing": "linear"
              }
             }
            ],
            "label": "02/22/2020",
            "method": "animate"
           },
           {
            "args": [
             [
              "02/23/2020"
             ],
             {
              "frame": {
               "duration": 0,
               "redraw": true
              },
              "fromcurrent": true,
              "mode": "immediate",
              "transition": {
               "duration": 0,
               "easing": "linear"
              }
             }
            ],
            "label": "02/23/2020",
            "method": "animate"
           },
           {
            "args": [
             [
              "02/24/2020"
             ],
             {
              "frame": {
               "duration": 0,
               "redraw": true
              },
              "fromcurrent": true,
              "mode": "immediate",
              "transition": {
               "duration": 0,
               "easing": "linear"
              }
             }
            ],
            "label": "02/24/2020",
            "method": "animate"
           },
           {
            "args": [
             [
              "02/25/2020"
             ],
             {
              "frame": {
               "duration": 0,
               "redraw": true
              },
              "fromcurrent": true,
              "mode": "immediate",
              "transition": {
               "duration": 0,
               "easing": "linear"
              }
             }
            ],
            "label": "02/25/2020",
            "method": "animate"
           },
           {
            "args": [
             [
              "02/26/2020"
             ],
             {
              "frame": {
               "duration": 0,
               "redraw": true
              },
              "fromcurrent": true,
              "mode": "immediate",
              "transition": {
               "duration": 0,
               "easing": "linear"
              }
             }
            ],
            "label": "02/26/2020",
            "method": "animate"
           },
           {
            "args": [
             [
              "02/27/2020"
             ],
             {
              "frame": {
               "duration": 0,
               "redraw": true
              },
              "fromcurrent": true,
              "mode": "immediate",
              "transition": {
               "duration": 0,
               "easing": "linear"
              }
             }
            ],
            "label": "02/27/2020",
            "method": "animate"
           },
           {
            "args": [
             [
              "02/28/2020"
             ],
             {
              "frame": {
               "duration": 0,
               "redraw": true
              },
              "fromcurrent": true,
              "mode": "immediate",
              "transition": {
               "duration": 0,
               "easing": "linear"
              }
             }
            ],
            "label": "02/28/2020",
            "method": "animate"
           },
           {
            "args": [
             [
              "02/29/2020"
             ],
             {
              "frame": {
               "duration": 0,
               "redraw": true
              },
              "fromcurrent": true,
              "mode": "immediate",
              "transition": {
               "duration": 0,
               "easing": "linear"
              }
             }
            ],
            "label": "02/29/2020",
            "method": "animate"
           },
           {
            "args": [
             [
              "03/01/2020"
             ],
             {
              "frame": {
               "duration": 0,
               "redraw": true
              },
              "fromcurrent": true,
              "mode": "immediate",
              "transition": {
               "duration": 0,
               "easing": "linear"
              }
             }
            ],
            "label": "03/01/2020",
            "method": "animate"
           },
           {
            "args": [
             [
              "03/02/2020"
             ],
             {
              "frame": {
               "duration": 0,
               "redraw": true
              },
              "fromcurrent": true,
              "mode": "immediate",
              "transition": {
               "duration": 0,
               "easing": "linear"
              }
             }
            ],
            "label": "03/02/2020",
            "method": "animate"
           },
           {
            "args": [
             [
              "03/03/2020"
             ],
             {
              "frame": {
               "duration": 0,
               "redraw": true
              },
              "fromcurrent": true,
              "mode": "immediate",
              "transition": {
               "duration": 0,
               "easing": "linear"
              }
             }
            ],
            "label": "03/03/2020",
            "method": "animate"
           },
           {
            "args": [
             [
              "03/04/2020"
             ],
             {
              "frame": {
               "duration": 0,
               "redraw": true
              },
              "fromcurrent": true,
              "mode": "immediate",
              "transition": {
               "duration": 0,
               "easing": "linear"
              }
             }
            ],
            "label": "03/04/2020",
            "method": "animate"
           }
          ],
          "x": 0.1,
          "xanchor": "left",
          "y": 0,
          "yanchor": "top"
         }
        ],
        "template": {
         "data": {
          "bar": [
           {
            "error_x": {
             "color": "#2a3f5f"
            },
            "error_y": {
             "color": "#2a3f5f"
            },
            "marker": {
             "line": {
              "color": "#E5ECF6",
              "width": 0.5
             }
            },
            "type": "bar"
           }
          ],
          "barpolar": [
           {
            "marker": {
             "line": {
              "color": "#E5ECF6",
              "width": 0.5
             }
            },
            "type": "barpolar"
           }
          ],
          "carpet": [
           {
            "aaxis": {
             "endlinecolor": "#2a3f5f",
             "gridcolor": "white",
             "linecolor": "white",
             "minorgridcolor": "white",
             "startlinecolor": "#2a3f5f"
            },
            "baxis": {
             "endlinecolor": "#2a3f5f",
             "gridcolor": "white",
             "linecolor": "white",
             "minorgridcolor": "white",
             "startlinecolor": "#2a3f5f"
            },
            "type": "carpet"
           }
          ],
          "choropleth": [
           {
            "colorbar": {
             "outlinewidth": 0,
             "ticks": ""
            },
            "type": "choropleth"
           }
          ],
          "contour": [
           {
            "colorbar": {
             "outlinewidth": 0,
             "ticks": ""
            },
            "colorscale": [
             [
              0,
              "#0d0887"
             ],
             [
              0.1111111111111111,
              "#46039f"
             ],
             [
              0.2222222222222222,
              "#7201a8"
             ],
             [
              0.3333333333333333,
              "#9c179e"
             ],
             [
              0.4444444444444444,
              "#bd3786"
             ],
             [
              0.5555555555555556,
              "#d8576b"
             ],
             [
              0.6666666666666666,
              "#ed7953"
             ],
             [
              0.7777777777777778,
              "#fb9f3a"
             ],
             [
              0.8888888888888888,
              "#fdca26"
             ],
             [
              1,
              "#f0f921"
             ]
            ],
            "type": "contour"
           }
          ],
          "contourcarpet": [
           {
            "colorbar": {
             "outlinewidth": 0,
             "ticks": ""
            },
            "type": "contourcarpet"
           }
          ],
          "heatmap": [
           {
            "colorbar": {
             "outlinewidth": 0,
             "ticks": ""
            },
            "colorscale": [
             [
              0,
              "#0d0887"
             ],
             [
              0.1111111111111111,
              "#46039f"
             ],
             [
              0.2222222222222222,
              "#7201a8"
             ],
             [
              0.3333333333333333,
              "#9c179e"
             ],
             [
              0.4444444444444444,
              "#bd3786"
             ],
             [
              0.5555555555555556,
              "#d8576b"
             ],
             [
              0.6666666666666666,
              "#ed7953"
             ],
             [
              0.7777777777777778,
              "#fb9f3a"
             ],
             [
              0.8888888888888888,
              "#fdca26"
             ],
             [
              1,
              "#f0f921"
             ]
            ],
            "type": "heatmap"
           }
          ],
          "heatmapgl": [
           {
            "colorbar": {
             "outlinewidth": 0,
             "ticks": ""
            },
            "colorscale": [
             [
              0,
              "#0d0887"
             ],
             [
              0.1111111111111111,
              "#46039f"
             ],
             [
              0.2222222222222222,
              "#7201a8"
             ],
             [
              0.3333333333333333,
              "#9c179e"
             ],
             [
              0.4444444444444444,
              "#bd3786"
             ],
             [
              0.5555555555555556,
              "#d8576b"
             ],
             [
              0.6666666666666666,
              "#ed7953"
             ],
             [
              0.7777777777777778,
              "#fb9f3a"
             ],
             [
              0.8888888888888888,
              "#fdca26"
             ],
             [
              1,
              "#f0f921"
             ]
            ],
            "type": "heatmapgl"
           }
          ],
          "histogram": [
           {
            "marker": {
             "colorbar": {
              "outlinewidth": 0,
              "ticks": ""
             }
            },
            "type": "histogram"
           }
          ],
          "histogram2d": [
           {
            "colorbar": {
             "outlinewidth": 0,
             "ticks": ""
            },
            "colorscale": [
             [
              0,
              "#0d0887"
             ],
             [
              0.1111111111111111,
              "#46039f"
             ],
             [
              0.2222222222222222,
              "#7201a8"
             ],
             [
              0.3333333333333333,
              "#9c179e"
             ],
             [
              0.4444444444444444,
              "#bd3786"
             ],
             [
              0.5555555555555556,
              "#d8576b"
             ],
             [
              0.6666666666666666,
              "#ed7953"
             ],
             [
              0.7777777777777778,
              "#fb9f3a"
             ],
             [
              0.8888888888888888,
              "#fdca26"
             ],
             [
              1,
              "#f0f921"
             ]
            ],
            "type": "histogram2d"
           }
          ],
          "histogram2dcontour": [
           {
            "colorbar": {
             "outlinewidth": 0,
             "ticks": ""
            },
            "colorscale": [
             [
              0,
              "#0d0887"
             ],
             [
              0.1111111111111111,
              "#46039f"
             ],
             [
              0.2222222222222222,
              "#7201a8"
             ],
             [
              0.3333333333333333,
              "#9c179e"
             ],
             [
              0.4444444444444444,
              "#bd3786"
             ],
             [
              0.5555555555555556,
              "#d8576b"
             ],
             [
              0.6666666666666666,
              "#ed7953"
             ],
             [
              0.7777777777777778,
              "#fb9f3a"
             ],
             [
              0.8888888888888888,
              "#fdca26"
             ],
             [
              1,
              "#f0f921"
             ]
            ],
            "type": "histogram2dcontour"
           }
          ],
          "mesh3d": [
           {
            "colorbar": {
             "outlinewidth": 0,
             "ticks": ""
            },
            "type": "mesh3d"
           }
          ],
          "parcoords": [
           {
            "line": {
             "colorbar": {
              "outlinewidth": 0,
              "ticks": ""
             }
            },
            "type": "parcoords"
           }
          ],
          "pie": [
           {
            "automargin": true,
            "type": "pie"
           }
          ],
          "scatter": [
           {
            "marker": {
             "colorbar": {
              "outlinewidth": 0,
              "ticks": ""
             }
            },
            "type": "scatter"
           }
          ],
          "scatter3d": [
           {
            "line": {
             "colorbar": {
              "outlinewidth": 0,
              "ticks": ""
             }
            },
            "marker": {
             "colorbar": {
              "outlinewidth": 0,
              "ticks": ""
             }
            },
            "type": "scatter3d"
           }
          ],
          "scattercarpet": [
           {
            "marker": {
             "colorbar": {
              "outlinewidth": 0,
              "ticks": ""
             }
            },
            "type": "scattercarpet"
           }
          ],
          "scattergeo": [
           {
            "marker": {
             "colorbar": {
              "outlinewidth": 0,
              "ticks": ""
             }
            },
            "type": "scattergeo"
           }
          ],
          "scattergl": [
           {
            "marker": {
             "colorbar": {
              "outlinewidth": 0,
              "ticks": ""
             }
            },
            "type": "scattergl"
           }
          ],
          "scattermapbox": [
           {
            "marker": {
             "colorbar": {
              "outlinewidth": 0,
              "ticks": ""
             }
            },
            "type": "scattermapbox"
           }
          ],
          "scatterpolar": [
           {
            "marker": {
             "colorbar": {
              "outlinewidth": 0,
              "ticks": ""
             }
            },
            "type": "scatterpolar"
           }
          ],
          "scatterpolargl": [
           {
            "marker": {
             "colorbar": {
              "outlinewidth": 0,
              "ticks": ""
             }
            },
            "type": "scatterpolargl"
           }
          ],
          "scatterternary": [
           {
            "marker": {
             "colorbar": {
              "outlinewidth": 0,
              "ticks": ""
             }
            },
            "type": "scatterternary"
           }
          ],
          "surface": [
           {
            "colorbar": {
             "outlinewidth": 0,
             "ticks": ""
            },
            "colorscale": [
             [
              0,
              "#0d0887"
             ],
             [
              0.1111111111111111,
              "#46039f"
             ],
             [
              0.2222222222222222,
              "#7201a8"
             ],
             [
              0.3333333333333333,
              "#9c179e"
             ],
             [
              0.4444444444444444,
              "#bd3786"
             ],
             [
              0.5555555555555556,
              "#d8576b"
             ],
             [
              0.6666666666666666,
              "#ed7953"
             ],
             [
              0.7777777777777778,
              "#fb9f3a"
             ],
             [
              0.8888888888888888,
              "#fdca26"
             ],
             [
              1,
              "#f0f921"
             ]
            ],
            "type": "surface"
           }
          ],
          "table": [
           {
            "cells": {
             "fill": {
              "color": "#EBF0F8"
             },
             "line": {
              "color": "white"
             }
            },
            "header": {
             "fill": {
              "color": "#C8D4E3"
             },
             "line": {
              "color": "white"
             }
            },
            "type": "table"
           }
          ]
         },
         "layout": {
          "annotationdefaults": {
           "arrowcolor": "#2a3f5f",
           "arrowhead": 0,
           "arrowwidth": 1
          },
          "coloraxis": {
           "colorbar": {
            "outlinewidth": 0,
            "ticks": ""
           }
          },
          "colorscale": {
           "diverging": [
            [
             0,
             "#8e0152"
            ],
            [
             0.1,
             "#c51b7d"
            ],
            [
             0.2,
             "#de77ae"
            ],
            [
             0.3,
             "#f1b6da"
            ],
            [
             0.4,
             "#fde0ef"
            ],
            [
             0.5,
             "#f7f7f7"
            ],
            [
             0.6,
             "#e6f5d0"
            ],
            [
             0.7,
             "#b8e186"
            ],
            [
             0.8,
             "#7fbc41"
            ],
            [
             0.9,
             "#4d9221"
            ],
            [
             1,
             "#276419"
            ]
           ],
           "sequential": [
            [
             0,
             "#0d0887"
            ],
            [
             0.1111111111111111,
             "#46039f"
            ],
            [
             0.2222222222222222,
             "#7201a8"
            ],
            [
             0.3333333333333333,
             "#9c179e"
            ],
            [
             0.4444444444444444,
             "#bd3786"
            ],
            [
             0.5555555555555556,
             "#d8576b"
            ],
            [
             0.6666666666666666,
             "#ed7953"
            ],
            [
             0.7777777777777778,
             "#fb9f3a"
            ],
            [
             0.8888888888888888,
             "#fdca26"
            ],
            [
             1,
             "#f0f921"
            ]
           ],
           "sequentialminus": [
            [
             0,
             "#0d0887"
            ],
            [
             0.1111111111111111,
             "#46039f"
            ],
            [
             0.2222222222222222,
             "#7201a8"
            ],
            [
             0.3333333333333333,
             "#9c179e"
            ],
            [
             0.4444444444444444,
             "#bd3786"
            ],
            [
             0.5555555555555556,
             "#d8576b"
            ],
            [
             0.6666666666666666,
             "#ed7953"
            ],
            [
             0.7777777777777778,
             "#fb9f3a"
            ],
            [
             0.8888888888888888,
             "#fdca26"
            ],
            [
             1,
             "#f0f921"
            ]
           ]
          },
          "colorway": [
           "#636efa",
           "#EF553B",
           "#00cc96",
           "#ab63fa",
           "#FFA15A",
           "#19d3f3",
           "#FF6692",
           "#B6E880",
           "#FF97FF",
           "#FECB52"
          ],
          "font": {
           "color": "#2a3f5f"
          },
          "geo": {
           "bgcolor": "white",
           "lakecolor": "white",
           "landcolor": "#E5ECF6",
           "showlakes": true,
           "showland": true,
           "subunitcolor": "white"
          },
          "hoverlabel": {
           "align": "left"
          },
          "hovermode": "closest",
          "mapbox": {
           "style": "light"
          },
          "paper_bgcolor": "white",
          "plot_bgcolor": "#E5ECF6",
          "polar": {
           "angularaxis": {
            "gridcolor": "white",
            "linecolor": "white",
            "ticks": ""
           },
           "bgcolor": "#E5ECF6",
           "radialaxis": {
            "gridcolor": "white",
            "linecolor": "white",
            "ticks": ""
           }
          },
          "scene": {
           "xaxis": {
            "backgroundcolor": "#E5ECF6",
            "gridcolor": "white",
            "gridwidth": 2,
            "linecolor": "white",
            "showbackground": true,
            "ticks": "",
            "zerolinecolor": "white"
           },
           "yaxis": {
            "backgroundcolor": "#E5ECF6",
            "gridcolor": "white",
            "gridwidth": 2,
            "linecolor": "white",
            "showbackground": true,
            "ticks": "",
            "zerolinecolor": "white"
           },
           "zaxis": {
            "backgroundcolor": "#E5ECF6",
            "gridcolor": "white",
            "gridwidth": 2,
            "linecolor": "white",
            "showbackground": true,
            "ticks": "",
            "zerolinecolor": "white"
           }
          },
          "shapedefaults": {
           "line": {
            "color": "#2a3f5f"
           }
          },
          "ternary": {
           "aaxis": {
            "gridcolor": "white",
            "linecolor": "white",
            "ticks": ""
           },
           "baxis": {
            "gridcolor": "white",
            "linecolor": "white",
            "ticks": ""
           },
           "bgcolor": "#E5ECF6",
           "caxis": {
            "gridcolor": "white",
            "linecolor": "white",
            "ticks": ""
           }
          },
          "title": {
           "x": 0.05
          },
          "xaxis": {
           "automargin": true,
           "gridcolor": "white",
           "linecolor": "white",
           "ticks": "",
           "title": {
            "standoff": 15
           },
           "zerolinecolor": "white",
           "zerolinewidth": 2
          },
          "yaxis": {
           "automargin": true,
           "gridcolor": "white",
           "linecolor": "white",
           "ticks": "",
           "title": {
            "standoff": 15
           },
           "zerolinecolor": "white",
           "zerolinewidth": 2
          }
         }
        },
        "updatemenus": [
         {
          "buttons": [
           {
            "args": [
             null,
             {
              "frame": {
               "duration": 500,
               "redraw": true
              },
              "fromcurrent": true,
              "mode": "immediate",
              "transition": {
               "duration": 500,
               "easing": "linear"
              }
             }
            ],
            "label": "&#9654;",
            "method": "animate"
           },
           {
            "args": [
             [
              null
             ],
             {
              "frame": {
               "duration": 0,
               "redraw": true
              },
              "fromcurrent": true,
              "mode": "immediate",
              "transition": {
               "duration": 0,
               "easing": "linear"
              }
             }
            ],
            "label": "&#9724;",
            "method": "animate"
           }
          ],
          "direction": "left",
          "pad": {
           "r": 10,
           "t": 70
          },
          "showactive": false,
          "type": "buttons",
          "x": 0.1,
          "xanchor": "right",
          "y": 0,
          "yanchor": "top"
         }
        ]
       }
      },
      "text/html": [
       "<div>\n",
       "        \n",
       "        \n",
       "            <div id=\"42baae4b-74d7-4301-96bc-4912e7d70daf\" class=\"plotly-graph-div\" style=\"height:525px; width:100%;\"></div>\n",
       "            <script type=\"text/javascript\">\n",
       "                require([\"plotly\"], function(Plotly) {\n",
       "                    window.PLOTLYENV=window.PLOTLYENV || {};\n",
       "                    \n",
       "                if (document.getElementById(\"42baae4b-74d7-4301-96bc-4912e7d70daf\")) {\n",
       "                    Plotly.newPlot(\n",
       "                        '42baae4b-74d7-4301-96bc-4912e7d70daf',\n",
       "                        [{\"coloraxis\": \"coloraxis\", \"geo\": \"geo\", \"hoverlabel\": {\"namelength\": 0}, \"hovertemplate\": \"ObservationDate=01/22/2020<br>Country=%{location}<br>Confirmed=%{z}\", \"locationmode\": \"country names\", \"locations\": [\"Japan\", \"Macau\", \"Mainland China\", \"South Korea\", \"Taiwan\", \"Thailand\", \"US\"], \"name\": \"\", \"type\": \"choropleth\", \"z\": [2.0, 1.0, 547.0, 1.0, 1.0, 2.0, 1.0]}],\n",
       "                        {\"coloraxis\": {\"colorbar\": {\"title\": {\"text\": \"Confirmed\"}}, \"colorscale\": [[0.0, \"#0d0887\"], [0.1111111111111111, \"#46039f\"], [0.2222222222222222, \"#7201a8\"], [0.3333333333333333, \"#9c179e\"], [0.4444444444444444, \"#bd3786\"], [0.5555555555555556, \"#d8576b\"], [0.6666666666666666, \"#ed7953\"], [0.7777777777777778, \"#fb9f3a\"], [0.8888888888888888, \"#fdca26\"], [1.0, \"#f0f921\"]]}, \"geo\": {\"center\": {}, \"domain\": {\"x\": [0.0, 1.0], \"y\": [0.0, 1.0]}}, \"legend\": {\"tracegroupgap\": 0}, \"margin\": {\"t\": 60}, \"sliders\": [{\"active\": 0, \"currentvalue\": {\"prefix\": \"ObservationDate=\"}, \"len\": 0.9, \"pad\": {\"b\": 10, \"t\": 60}, \"steps\": [{\"args\": [[\"01/22/2020\"], {\"frame\": {\"duration\": 0, \"redraw\": true}, \"fromcurrent\": true, \"mode\": \"immediate\", \"transition\": {\"duration\": 0, \"easing\": \"linear\"}}], \"label\": \"01/22/2020\", \"method\": \"animate\"}, {\"args\": [[\"01/23/2020\"], {\"frame\": {\"duration\": 0, \"redraw\": true}, \"fromcurrent\": true, \"mode\": \"immediate\", \"transition\": {\"duration\": 0, \"easing\": \"linear\"}}], \"label\": \"01/23/2020\", \"method\": \"animate\"}, {\"args\": [[\"01/24/2020\"], {\"frame\": {\"duration\": 0, \"redraw\": true}, \"fromcurrent\": true, \"mode\": \"immediate\", \"transition\": {\"duration\": 0, \"easing\": \"linear\"}}], \"label\": \"01/24/2020\", \"method\": \"animate\"}, {\"args\": [[\"01/25/2020\"], {\"frame\": {\"duration\": 0, \"redraw\": true}, \"fromcurrent\": true, \"mode\": \"immediate\", \"transition\": {\"duration\": 0, \"easing\": \"linear\"}}], \"label\": \"01/25/2020\", \"method\": \"animate\"}, {\"args\": [[\"01/26/2020\"], {\"frame\": {\"duration\": 0, \"redraw\": true}, \"fromcurrent\": true, \"mode\": \"immediate\", \"transition\": {\"duration\": 0, \"easing\": \"linear\"}}], \"label\": \"01/26/2020\", \"method\": \"animate\"}, {\"args\": [[\"01/27/2020\"], {\"frame\": {\"duration\": 0, \"redraw\": true}, \"fromcurrent\": true, \"mode\": \"immediate\", \"transition\": {\"duration\": 0, \"easing\": \"linear\"}}], \"label\": \"01/27/2020\", \"method\": \"animate\"}, {\"args\": [[\"01/28/2020\"], {\"frame\": {\"duration\": 0, \"redraw\": true}, \"fromcurrent\": true, \"mode\": \"immediate\", \"transition\": {\"duration\": 0, \"easing\": \"linear\"}}], \"label\": \"01/28/2020\", \"method\": \"animate\"}, {\"args\": [[\"01/29/2020\"], {\"frame\": {\"duration\": 0, \"redraw\": true}, \"fromcurrent\": true, \"mode\": \"immediate\", \"transition\": {\"duration\": 0, \"easing\": \"linear\"}}], \"label\": \"01/29/2020\", \"method\": \"animate\"}, {\"args\": [[\"01/30/2020\"], {\"frame\": {\"duration\": 0, \"redraw\": true}, \"fromcurrent\": true, \"mode\": \"immediate\", \"transition\": {\"duration\": 0, \"easing\": \"linear\"}}], \"label\": \"01/30/2020\", \"method\": \"animate\"}, {\"args\": [[\"01/31/2020\"], {\"frame\": {\"duration\": 0, \"redraw\": true}, \"fromcurrent\": true, \"mode\": \"immediate\", \"transition\": {\"duration\": 0, \"easing\": \"linear\"}}], \"label\": \"01/31/2020\", \"method\": \"animate\"}, {\"args\": [[\"02/01/2020\"], {\"frame\": {\"duration\": 0, \"redraw\": true}, \"fromcurrent\": true, \"mode\": \"immediate\", \"transition\": {\"duration\": 0, \"easing\": \"linear\"}}], \"label\": \"02/01/2020\", \"method\": \"animate\"}, {\"args\": [[\"02/02/2020\"], {\"frame\": {\"duration\": 0, \"redraw\": true}, \"fromcurrent\": true, \"mode\": \"immediate\", \"transition\": {\"duration\": 0, \"easing\": \"linear\"}}], \"label\": \"02/02/2020\", \"method\": \"animate\"}, {\"args\": [[\"02/03/2020\"], {\"frame\": {\"duration\": 0, \"redraw\": true}, \"fromcurrent\": true, \"mode\": \"immediate\", \"transition\": {\"duration\": 0, \"easing\": \"linear\"}}], \"label\": \"02/03/2020\", \"method\": \"animate\"}, {\"args\": [[\"02/04/2020\"], {\"frame\": {\"duration\": 0, \"redraw\": true}, \"fromcurrent\": true, \"mode\": \"immediate\", \"transition\": {\"duration\": 0, \"easing\": \"linear\"}}], \"label\": \"02/04/2020\", \"method\": \"animate\"}, {\"args\": [[\"02/05/2020\"], {\"frame\": {\"duration\": 0, \"redraw\": true}, \"fromcurrent\": true, \"mode\": \"immediate\", \"transition\": {\"duration\": 0, \"easing\": \"linear\"}}], \"label\": \"02/05/2020\", \"method\": \"animate\"}, {\"args\": [[\"02/06/2020\"], {\"frame\": {\"duration\": 0, \"redraw\": true}, \"fromcurrent\": true, \"mode\": \"immediate\", \"transition\": {\"duration\": 0, \"easing\": \"linear\"}}], \"label\": \"02/06/2020\", \"method\": \"animate\"}, {\"args\": [[\"02/07/2020\"], {\"frame\": {\"duration\": 0, \"redraw\": true}, \"fromcurrent\": true, \"mode\": \"immediate\", \"transition\": {\"duration\": 0, \"easing\": \"linear\"}}], \"label\": \"02/07/2020\", \"method\": \"animate\"}, {\"args\": [[\"02/08/2020\"], {\"frame\": {\"duration\": 0, \"redraw\": true}, \"fromcurrent\": true, \"mode\": \"immediate\", \"transition\": {\"duration\": 0, \"easing\": \"linear\"}}], \"label\": \"02/08/2020\", \"method\": \"animate\"}, {\"args\": [[\"02/09/2020\"], {\"frame\": {\"duration\": 0, \"redraw\": true}, \"fromcurrent\": true, \"mode\": \"immediate\", \"transition\": {\"duration\": 0, \"easing\": \"linear\"}}], \"label\": \"02/09/2020\", \"method\": \"animate\"}, {\"args\": [[\"02/10/2020\"], {\"frame\": {\"duration\": 0, \"redraw\": true}, \"fromcurrent\": true, \"mode\": \"immediate\", \"transition\": {\"duration\": 0, \"easing\": \"linear\"}}], \"label\": \"02/10/2020\", \"method\": \"animate\"}, {\"args\": [[\"02/11/2020\"], {\"frame\": {\"duration\": 0, \"redraw\": true}, \"fromcurrent\": true, \"mode\": \"immediate\", \"transition\": {\"duration\": 0, \"easing\": \"linear\"}}], \"label\": \"02/11/2020\", \"method\": \"animate\"}, {\"args\": [[\"02/12/2020\"], {\"frame\": {\"duration\": 0, \"redraw\": true}, \"fromcurrent\": true, \"mode\": \"immediate\", \"transition\": {\"duration\": 0, \"easing\": \"linear\"}}], \"label\": \"02/12/2020\", \"method\": \"animate\"}, {\"args\": [[\"02/13/2020\"], {\"frame\": {\"duration\": 0, \"redraw\": true}, \"fromcurrent\": true, \"mode\": \"immediate\", \"transition\": {\"duration\": 0, \"easing\": \"linear\"}}], \"label\": \"02/13/2020\", \"method\": \"animate\"}, {\"args\": [[\"02/14/2020\"], {\"frame\": {\"duration\": 0, \"redraw\": true}, \"fromcurrent\": true, \"mode\": \"immediate\", \"transition\": {\"duration\": 0, \"easing\": \"linear\"}}], \"label\": \"02/14/2020\", \"method\": \"animate\"}, {\"args\": [[\"02/15/2020\"], {\"frame\": {\"duration\": 0, \"redraw\": true}, \"fromcurrent\": true, \"mode\": \"immediate\", \"transition\": {\"duration\": 0, \"easing\": \"linear\"}}], \"label\": \"02/15/2020\", \"method\": \"animate\"}, {\"args\": [[\"02/16/2020\"], {\"frame\": {\"duration\": 0, \"redraw\": true}, \"fromcurrent\": true, \"mode\": \"immediate\", \"transition\": {\"duration\": 0, \"easing\": \"linear\"}}], \"label\": \"02/16/2020\", \"method\": \"animate\"}, {\"args\": [[\"02/17/2020\"], {\"frame\": {\"duration\": 0, \"redraw\": true}, \"fromcurrent\": true, \"mode\": \"immediate\", \"transition\": {\"duration\": 0, \"easing\": \"linear\"}}], \"label\": \"02/17/2020\", \"method\": \"animate\"}, {\"args\": [[\"02/18/2020\"], {\"frame\": {\"duration\": 0, \"redraw\": true}, \"fromcurrent\": true, \"mode\": \"immediate\", \"transition\": {\"duration\": 0, \"easing\": \"linear\"}}], \"label\": \"02/18/2020\", \"method\": \"animate\"}, {\"args\": [[\"02/19/2020\"], {\"frame\": {\"duration\": 0, \"redraw\": true}, \"fromcurrent\": true, \"mode\": \"immediate\", \"transition\": {\"duration\": 0, \"easing\": \"linear\"}}], \"label\": \"02/19/2020\", \"method\": \"animate\"}, {\"args\": [[\"02/20/2020\"], {\"frame\": {\"duration\": 0, \"redraw\": true}, \"fromcurrent\": true, \"mode\": \"immediate\", \"transition\": {\"duration\": 0, \"easing\": \"linear\"}}], \"label\": \"02/20/2020\", \"method\": \"animate\"}, {\"args\": [[\"02/21/2020\"], {\"frame\": {\"duration\": 0, \"redraw\": true}, \"fromcurrent\": true, \"mode\": \"immediate\", \"transition\": {\"duration\": 0, \"easing\": \"linear\"}}], \"label\": \"02/21/2020\", \"method\": \"animate\"}, {\"args\": [[\"02/22/2020\"], {\"frame\": {\"duration\": 0, \"redraw\": true}, \"fromcurrent\": true, \"mode\": \"immediate\", \"transition\": {\"duration\": 0, \"easing\": \"linear\"}}], \"label\": \"02/22/2020\", \"method\": \"animate\"}, {\"args\": [[\"02/23/2020\"], {\"frame\": {\"duration\": 0, \"redraw\": true}, \"fromcurrent\": true, \"mode\": \"immediate\", \"transition\": {\"duration\": 0, \"easing\": \"linear\"}}], \"label\": \"02/23/2020\", \"method\": \"animate\"}, {\"args\": [[\"02/24/2020\"], {\"frame\": {\"duration\": 0, \"redraw\": true}, \"fromcurrent\": true, \"mode\": \"immediate\", \"transition\": {\"duration\": 0, \"easing\": \"linear\"}}], \"label\": \"02/24/2020\", \"method\": \"animate\"}, {\"args\": [[\"02/25/2020\"], {\"frame\": {\"duration\": 0, \"redraw\": true}, \"fromcurrent\": true, \"mode\": \"immediate\", \"transition\": {\"duration\": 0, \"easing\": \"linear\"}}], \"label\": \"02/25/2020\", \"method\": \"animate\"}, {\"args\": [[\"02/26/2020\"], {\"frame\": {\"duration\": 0, \"redraw\": true}, \"fromcurrent\": true, \"mode\": \"immediate\", \"transition\": {\"duration\": 0, \"easing\": \"linear\"}}], \"label\": \"02/26/2020\", \"method\": \"animate\"}, {\"args\": [[\"02/27/2020\"], {\"frame\": {\"duration\": 0, \"redraw\": true}, \"fromcurrent\": true, \"mode\": \"immediate\", \"transition\": {\"duration\": 0, \"easing\": \"linear\"}}], \"label\": \"02/27/2020\", \"method\": \"animate\"}, {\"args\": [[\"02/28/2020\"], {\"frame\": {\"duration\": 0, \"redraw\": true}, \"fromcurrent\": true, \"mode\": \"immediate\", \"transition\": {\"duration\": 0, \"easing\": \"linear\"}}], \"label\": \"02/28/2020\", \"method\": \"animate\"}, {\"args\": [[\"02/29/2020\"], {\"frame\": {\"duration\": 0, \"redraw\": true}, \"fromcurrent\": true, \"mode\": \"immediate\", \"transition\": {\"duration\": 0, \"easing\": \"linear\"}}], \"label\": \"02/29/2020\", \"method\": \"animate\"}, {\"args\": [[\"03/01/2020\"], {\"frame\": {\"duration\": 0, \"redraw\": true}, \"fromcurrent\": true, \"mode\": \"immediate\", \"transition\": {\"duration\": 0, \"easing\": \"linear\"}}], \"label\": \"03/01/2020\", \"method\": \"animate\"}, {\"args\": [[\"03/02/2020\"], {\"frame\": {\"duration\": 0, \"redraw\": true}, \"fromcurrent\": true, \"mode\": \"immediate\", \"transition\": {\"duration\": 0, \"easing\": \"linear\"}}], \"label\": \"03/02/2020\", \"method\": \"animate\"}, {\"args\": [[\"03/03/2020\"], {\"frame\": {\"duration\": 0, \"redraw\": true}, \"fromcurrent\": true, \"mode\": \"immediate\", \"transition\": {\"duration\": 0, \"easing\": \"linear\"}}], \"label\": \"03/03/2020\", \"method\": \"animate\"}, {\"args\": [[\"03/04/2020\"], {\"frame\": {\"duration\": 0, \"redraw\": true}, \"fromcurrent\": true, \"mode\": \"immediate\", \"transition\": {\"duration\": 0, \"easing\": \"linear\"}}], \"label\": \"03/04/2020\", \"method\": \"animate\"}], \"x\": 0.1, \"xanchor\": \"left\", \"y\": 0, \"yanchor\": \"top\"}], \"template\": {\"data\": {\"bar\": [{\"error_x\": {\"color\": \"#2a3f5f\"}, \"error_y\": {\"color\": \"#2a3f5f\"}, \"marker\": {\"line\": {\"color\": \"#E5ECF6\", \"width\": 0.5}}, \"type\": \"bar\"}], \"barpolar\": [{\"marker\": {\"line\": {\"color\": \"#E5ECF6\", \"width\": 0.5}}, \"type\": \"barpolar\"}], \"carpet\": [{\"aaxis\": {\"endlinecolor\": \"#2a3f5f\", \"gridcolor\": \"white\", \"linecolor\": \"white\", \"minorgridcolor\": \"white\", \"startlinecolor\": \"#2a3f5f\"}, \"baxis\": {\"endlinecolor\": \"#2a3f5f\", \"gridcolor\": \"white\", \"linecolor\": \"white\", \"minorgridcolor\": \"white\", \"startlinecolor\": \"#2a3f5f\"}, \"type\": \"carpet\"}], \"choropleth\": [{\"colorbar\": {\"outlinewidth\": 0, \"ticks\": \"\"}, \"type\": \"choropleth\"}], \"contour\": [{\"colorbar\": {\"outlinewidth\": 0, \"ticks\": \"\"}, \"colorscale\": [[0.0, \"#0d0887\"], [0.1111111111111111, \"#46039f\"], [0.2222222222222222, \"#7201a8\"], [0.3333333333333333, \"#9c179e\"], [0.4444444444444444, \"#bd3786\"], [0.5555555555555556, \"#d8576b\"], [0.6666666666666666, \"#ed7953\"], [0.7777777777777778, \"#fb9f3a\"], [0.8888888888888888, \"#fdca26\"], [1.0, \"#f0f921\"]], \"type\": \"contour\"}], \"contourcarpet\": [{\"colorbar\": {\"outlinewidth\": 0, \"ticks\": \"\"}, \"type\": \"contourcarpet\"}], \"heatmap\": [{\"colorbar\": {\"outlinewidth\": 0, \"ticks\": \"\"}, \"colorscale\": [[0.0, \"#0d0887\"], [0.1111111111111111, \"#46039f\"], [0.2222222222222222, \"#7201a8\"], [0.3333333333333333, \"#9c179e\"], [0.4444444444444444, \"#bd3786\"], [0.5555555555555556, \"#d8576b\"], [0.6666666666666666, \"#ed7953\"], [0.7777777777777778, \"#fb9f3a\"], [0.8888888888888888, \"#fdca26\"], [1.0, \"#f0f921\"]], \"type\": \"heatmap\"}], \"heatmapgl\": [{\"colorbar\": {\"outlinewidth\": 0, \"ticks\": \"\"}, \"colorscale\": [[0.0, \"#0d0887\"], [0.1111111111111111, \"#46039f\"], [0.2222222222222222, \"#7201a8\"], [0.3333333333333333, \"#9c179e\"], [0.4444444444444444, \"#bd3786\"], [0.5555555555555556, \"#d8576b\"], [0.6666666666666666, \"#ed7953\"], [0.7777777777777778, \"#fb9f3a\"], [0.8888888888888888, \"#fdca26\"], [1.0, \"#f0f921\"]], \"type\": \"heatmapgl\"}], \"histogram\": [{\"marker\": {\"colorbar\": {\"outlinewidth\": 0, \"ticks\": \"\"}}, \"type\": \"histogram\"}], \"histogram2d\": [{\"colorbar\": {\"outlinewidth\": 0, \"ticks\": \"\"}, \"colorscale\": [[0.0, \"#0d0887\"], [0.1111111111111111, \"#46039f\"], [0.2222222222222222, \"#7201a8\"], [0.3333333333333333, \"#9c179e\"], [0.4444444444444444, \"#bd3786\"], [0.5555555555555556, \"#d8576b\"], [0.6666666666666666, \"#ed7953\"], [0.7777777777777778, \"#fb9f3a\"], [0.8888888888888888, \"#fdca26\"], [1.0, \"#f0f921\"]], \"type\": \"histogram2d\"}], \"histogram2dcontour\": [{\"colorbar\": {\"outlinewidth\": 0, \"ticks\": \"\"}, \"colorscale\": [[0.0, \"#0d0887\"], [0.1111111111111111, \"#46039f\"], [0.2222222222222222, \"#7201a8\"], [0.3333333333333333, \"#9c179e\"], [0.4444444444444444, \"#bd3786\"], [0.5555555555555556, \"#d8576b\"], [0.6666666666666666, \"#ed7953\"], [0.7777777777777778, \"#fb9f3a\"], [0.8888888888888888, \"#fdca26\"], [1.0, \"#f0f921\"]], \"type\": \"histogram2dcontour\"}], \"mesh3d\": [{\"colorbar\": {\"outlinewidth\": 0, \"ticks\": \"\"}, \"type\": \"mesh3d\"}], \"parcoords\": [{\"line\": {\"colorbar\": {\"outlinewidth\": 0, \"ticks\": \"\"}}, \"type\": \"parcoords\"}], \"pie\": [{\"automargin\": true, \"type\": \"pie\"}], \"scatter\": [{\"marker\": {\"colorbar\": {\"outlinewidth\": 0, \"ticks\": \"\"}}, \"type\": \"scatter\"}], \"scatter3d\": [{\"line\": {\"colorbar\": {\"outlinewidth\": 0, \"ticks\": \"\"}}, \"marker\": {\"colorbar\": {\"outlinewidth\": 0, \"ticks\": \"\"}}, \"type\": \"scatter3d\"}], \"scattercarpet\": [{\"marker\": {\"colorbar\": {\"outlinewidth\": 0, \"ticks\": \"\"}}, \"type\": \"scattercarpet\"}], \"scattergeo\": [{\"marker\": {\"colorbar\": {\"outlinewidth\": 0, \"ticks\": \"\"}}, \"type\": \"scattergeo\"}], \"scattergl\": [{\"marker\": {\"colorbar\": {\"outlinewidth\": 0, \"ticks\": \"\"}}, \"type\": \"scattergl\"}], \"scattermapbox\": [{\"marker\": {\"colorbar\": {\"outlinewidth\": 0, \"ticks\": \"\"}}, \"type\": \"scattermapbox\"}], \"scatterpolar\": [{\"marker\": {\"colorbar\": {\"outlinewidth\": 0, \"ticks\": \"\"}}, \"type\": \"scatterpolar\"}], \"scatterpolargl\": [{\"marker\": {\"colorbar\": {\"outlinewidth\": 0, \"ticks\": \"\"}}, \"type\": \"scatterpolargl\"}], \"scatterternary\": [{\"marker\": {\"colorbar\": {\"outlinewidth\": 0, \"ticks\": \"\"}}, \"type\": \"scatterternary\"}], \"surface\": [{\"colorbar\": {\"outlinewidth\": 0, \"ticks\": \"\"}, \"colorscale\": [[0.0, \"#0d0887\"], [0.1111111111111111, \"#46039f\"], [0.2222222222222222, \"#7201a8\"], [0.3333333333333333, \"#9c179e\"], [0.4444444444444444, \"#bd3786\"], [0.5555555555555556, \"#d8576b\"], [0.6666666666666666, \"#ed7953\"], [0.7777777777777778, \"#fb9f3a\"], [0.8888888888888888, \"#fdca26\"], [1.0, \"#f0f921\"]], \"type\": \"surface\"}], \"table\": [{\"cells\": {\"fill\": {\"color\": \"#EBF0F8\"}, \"line\": {\"color\": \"white\"}}, \"header\": {\"fill\": {\"color\": \"#C8D4E3\"}, \"line\": {\"color\": \"white\"}}, \"type\": \"table\"}]}, \"layout\": {\"annotationdefaults\": {\"arrowcolor\": \"#2a3f5f\", \"arrowhead\": 0, \"arrowwidth\": 1}, \"coloraxis\": {\"colorbar\": {\"outlinewidth\": 0, \"ticks\": \"\"}}, \"colorscale\": {\"diverging\": [[0, \"#8e0152\"], [0.1, \"#c51b7d\"], [0.2, \"#de77ae\"], [0.3, \"#f1b6da\"], [0.4, \"#fde0ef\"], [0.5, \"#f7f7f7\"], [0.6, \"#e6f5d0\"], [0.7, \"#b8e186\"], [0.8, \"#7fbc41\"], [0.9, \"#4d9221\"], [1, \"#276419\"]], \"sequential\": [[0.0, \"#0d0887\"], [0.1111111111111111, \"#46039f\"], [0.2222222222222222, \"#7201a8\"], [0.3333333333333333, \"#9c179e\"], [0.4444444444444444, \"#bd3786\"], [0.5555555555555556, \"#d8576b\"], [0.6666666666666666, \"#ed7953\"], [0.7777777777777778, \"#fb9f3a\"], [0.8888888888888888, \"#fdca26\"], [1.0, \"#f0f921\"]], \"sequentialminus\": [[0.0, \"#0d0887\"], [0.1111111111111111, \"#46039f\"], [0.2222222222222222, \"#7201a8\"], [0.3333333333333333, \"#9c179e\"], [0.4444444444444444, \"#bd3786\"], [0.5555555555555556, \"#d8576b\"], [0.6666666666666666, \"#ed7953\"], [0.7777777777777778, \"#fb9f3a\"], [0.8888888888888888, \"#fdca26\"], [1.0, \"#f0f921\"]]}, \"colorway\": [\"#636efa\", \"#EF553B\", \"#00cc96\", \"#ab63fa\", \"#FFA15A\", \"#19d3f3\", \"#FF6692\", \"#B6E880\", \"#FF97FF\", \"#FECB52\"], \"font\": {\"color\": \"#2a3f5f\"}, \"geo\": {\"bgcolor\": \"white\", \"lakecolor\": \"white\", \"landcolor\": \"#E5ECF6\", \"showlakes\": true, \"showland\": true, \"subunitcolor\": \"white\"}, \"hoverlabel\": {\"align\": \"left\"}, \"hovermode\": \"closest\", \"mapbox\": {\"style\": \"light\"}, \"paper_bgcolor\": \"white\", \"plot_bgcolor\": \"#E5ECF6\", \"polar\": {\"angularaxis\": {\"gridcolor\": \"white\", \"linecolor\": \"white\", \"ticks\": \"\"}, \"bgcolor\": \"#E5ECF6\", \"radialaxis\": {\"gridcolor\": \"white\", \"linecolor\": \"white\", \"ticks\": \"\"}}, \"scene\": {\"xaxis\": {\"backgroundcolor\": \"#E5ECF6\", \"gridcolor\": \"white\", \"gridwidth\": 2, \"linecolor\": \"white\", \"showbackground\": true, \"ticks\": \"\", \"zerolinecolor\": \"white\"}, \"yaxis\": {\"backgroundcolor\": \"#E5ECF6\", \"gridcolor\": \"white\", \"gridwidth\": 2, \"linecolor\": \"white\", \"showbackground\": true, \"ticks\": \"\", \"zerolinecolor\": \"white\"}, \"zaxis\": {\"backgroundcolor\": \"#E5ECF6\", \"gridcolor\": \"white\", \"gridwidth\": 2, \"linecolor\": \"white\", \"showbackground\": true, \"ticks\": \"\", \"zerolinecolor\": \"white\"}}, \"shapedefaults\": {\"line\": {\"color\": \"#2a3f5f\"}}, \"ternary\": {\"aaxis\": {\"gridcolor\": \"white\", \"linecolor\": \"white\", \"ticks\": \"\"}, \"baxis\": {\"gridcolor\": \"white\", \"linecolor\": \"white\", \"ticks\": \"\"}, \"bgcolor\": \"#E5ECF6\", \"caxis\": {\"gridcolor\": \"white\", \"linecolor\": \"white\", \"ticks\": \"\"}}, \"title\": {\"x\": 0.05}, \"xaxis\": {\"automargin\": true, \"gridcolor\": \"white\", \"linecolor\": \"white\", \"ticks\": \"\", \"title\": {\"standoff\": 15}, \"zerolinecolor\": \"white\", \"zerolinewidth\": 2}, \"yaxis\": {\"automargin\": true, \"gridcolor\": \"white\", \"linecolor\": \"white\", \"ticks\": \"\", \"title\": {\"standoff\": 15}, \"zerolinecolor\": \"white\", \"zerolinewidth\": 2}}}, \"updatemenus\": [{\"buttons\": [{\"args\": [null, {\"frame\": {\"duration\": 500, \"redraw\": true}, \"fromcurrent\": true, \"mode\": \"immediate\", \"transition\": {\"duration\": 500, \"easing\": \"linear\"}}], \"label\": \"&#9654;\", \"method\": \"animate\"}, {\"args\": [[null], {\"frame\": {\"duration\": 0, \"redraw\": true}, \"fromcurrent\": true, \"mode\": \"immediate\", \"transition\": {\"duration\": 0, \"easing\": \"linear\"}}], \"label\": \"&#9724;\", \"method\": \"animate\"}], \"direction\": \"left\", \"pad\": {\"r\": 10, \"t\": 70}, \"showactive\": false, \"type\": \"buttons\", \"x\": 0.1, \"xanchor\": \"right\", \"y\": 0, \"yanchor\": \"top\"}]},\n",
       "                        {\"responsive\": true}\n",
       "                    ).then(function(){\n",
       "                            Plotly.addFrames('42baae4b-74d7-4301-96bc-4912e7d70daf', [{\"data\": [{\"coloraxis\": \"coloraxis\", \"geo\": \"geo\", \"hoverlabel\": {\"namelength\": 0}, \"hovertemplate\": \"ObservationDate=01/22/2020<br>Country=%{location}<br>Confirmed=%{z}\", \"locationmode\": \"country names\", \"locations\": [\"Japan\", \"Macau\", \"Mainland China\", \"South Korea\", \"Taiwan\", \"Thailand\", \"US\"], \"name\": \"\", \"z\": [2.0, 1.0, 547.0, 1.0, 1.0, 2.0, 1.0], \"type\": \"choropleth\"}], \"name\": \"01/22/2020\"}, {\"data\": [{\"coloraxis\": \"coloraxis\", \"geo\": \"geo\", \"hoverlabel\": {\"namelength\": 0}, \"hovertemplate\": \"ObservationDate=01/23/2020<br>Country=%{location}<br>Confirmed=%{z}\", \"locationmode\": \"country names\", \"locations\": [\"Hong Kong\", \"Japan\", \"Macau\", \"Mainland China\", \"Singapore\", \"South Korea\", \"Taiwan\", \"Thailand\", \"US\", \"Vietnam\"], \"name\": \"\", \"z\": [2.0, 1.0, 2.0, 639.0, 1.0, 1.0, 1.0, 3.0, 1.0, 2.0], \"type\": \"choropleth\"}], \"name\": \"01/23/2020\"}, {\"data\": [{\"coloraxis\": \"coloraxis\", \"geo\": \"geo\", \"hoverlabel\": {\"namelength\": 0}, \"hovertemplate\": \"ObservationDate=01/24/2020<br>Country=%{location}<br>Confirmed=%{z}\", \"locationmode\": \"country names\", \"locations\": [\"France\", \"Hong Kong\", \"Japan\", \"Macau\", \"Mainland China\", \"Singapore\", \"South Korea\", \"Taiwan\", \"Thailand\", \"US\", \"Vietnam\"], \"name\": \"\", \"z\": [2.0, 2.0, 2.0, 2.0, 916.0, 3.0, 2.0, 3.0, 5.0, 2.0, 2.0], \"type\": \"choropleth\"}], \"name\": \"01/24/2020\"}, {\"data\": [{\"coloraxis\": \"coloraxis\", \"geo\": \"geo\", \"hoverlabel\": {\"namelength\": 0}, \"hovertemplate\": \"ObservationDate=01/25/2020<br>Country=%{location}<br>Confirmed=%{z}\", \"locationmode\": \"country names\", \"locations\": [\"Australia\", \"France\", \"Hong Kong\", \"Japan\", \"Macau\", \"Mainland China\", \"Malaysia\", \"Nepal\", \"Singapore\", \"South Korea\", \"Taiwan\", \"Thailand\", \"US\", \"Vietnam\"], \"name\": \"\", \"z\": [4.0, 3.0, 5.0, 2.0, 2.0, 1399.0, 3.0, 1.0, 3.0, 2.0, 3.0, 7.0, 2.0, 2.0], \"type\": \"choropleth\"}], \"name\": \"01/25/2020\"}, {\"data\": [{\"coloraxis\": \"coloraxis\", \"geo\": \"geo\", \"hoverlabel\": {\"namelength\": 0}, \"hovertemplate\": \"ObservationDate=01/26/2020<br>Country=%{location}<br>Confirmed=%{z}\", \"locationmode\": \"country names\", \"locations\": [\"Australia\", \"Canada\", \"France\", \"Hong Kong\", \"Japan\", \"Macau\", \"Mainland China\", \"Malaysia\", \"Nepal\", \"Singapore\", \"South Korea\", \"Taiwan\", \"Thailand\", \"US\", \"Vietnam\"], \"name\": \"\", \"z\": [4.0, 1.0, 3.0, 8.0, 4.0, 5.0, 2062.0, 4.0, 1.0, 4.0, 3.0, 4.0, 8.0, 5.0, 2.0], \"type\": \"choropleth\"}], \"name\": \"01/26/2020\"}, {\"data\": [{\"coloraxis\": \"coloraxis\", \"geo\": \"geo\", \"hoverlabel\": {\"namelength\": 0}, \"hovertemplate\": \"ObservationDate=01/27/2020<br>Country=%{location}<br>Confirmed=%{z}\", \"locationmode\": \"country names\", \"locations\": [\"Australia\", \"Cambodia\", \"Canada\", \"France\", \"Hong Kong\", \"Ivory Coast\", \"Japan\", \"Macau\", \"Mainland China\", \"Malaysia\", \"Nepal\", \"Singapore\", \"South Korea\", \"Sri Lanka\", \"Taiwan\", \"Thailand\", \"US\", \"Vietnam\"], \"name\": \"\", \"z\": [5.0, 1.0, 1.0, 3.0, 8.0, 1.0, 4.0, 6.0, 2863.0, 4.0, 1.0, 5.0, 4.0, 1.0, 5.0, 8.0, 5.0, 2.0], \"type\": \"choropleth\"}], \"name\": \"01/27/2020\"}, {\"data\": [{\"coloraxis\": \"coloraxis\", \"geo\": \"geo\", \"hoverlabel\": {\"namelength\": 0}, \"hovertemplate\": \"ObservationDate=01/28/2020<br>Country=%{location}<br>Confirmed=%{z}\", \"locationmode\": \"country names\", \"locations\": [\"Australia\", \"Cambodia\", \"Canada\", \"France\", \"Germany\", \"Hong Kong\", \"Japan\", \"Macau\", \"Mainland China\", \"Malaysia\", \"Nepal\", \"Singapore\", \"South Korea\", \"Sri Lanka\", \"Taiwan\", \"Thailand\", \"US\", \"Vietnam\"], \"name\": \"\", \"z\": [5.0, 1.0, 2.0, 4.0, 4.0, 8.0, 7.0, 7.0, 5494.0, 4.0, 1.0, 7.0, 4.0, 1.0, 8.0, 14.0, 5.0, 2.0], \"type\": \"choropleth\"}], \"name\": \"01/28/2020\"}, {\"data\": [{\"coloraxis\": \"coloraxis\", \"geo\": \"geo\", \"hoverlabel\": {\"namelength\": 0}, \"hovertemplate\": \"ObservationDate=01/29/2020<br>Country=%{location}<br>Confirmed=%{z}\", \"locationmode\": \"country names\", \"locations\": [\"Australia\", \"Cambodia\", \"Canada\", \"Finland\", \"France\", \"Germany\", \"Hong Kong\", \"Japan\", \"Macau\", \"Mainland China\", \"Malaysia\", \"Nepal\", \"Singapore\", \"South Korea\", \"Sri Lanka\", \"Taiwan\", \"Thailand\", \"US\", \"United Arab Emirates\", \"Vietnam\"], \"name\": \"\", \"z\": [5.0, 1.0, 2.0, 1.0, 5.0, 4.0, 10.0, 7.0, 7.0, 6070.0, 7.0, 1.0, 7.0, 4.0, 1.0, 8.0, 14.0, 5.0, 4.0, 2.0], \"type\": \"choropleth\"}], \"name\": \"01/29/2020\"}, {\"data\": [{\"coloraxis\": \"coloraxis\", \"geo\": \"geo\", \"hoverlabel\": {\"namelength\": 0}, \"hovertemplate\": \"ObservationDate=01/30/2020<br>Country=%{location}<br>Confirmed=%{z}\", \"locationmode\": \"country names\", \"locations\": [\"Australia\", \"Cambodia\", \"Canada\", \"Finland\", \"France\", \"Germany\", \"Hong Kong\", \"India\", \"Japan\", \"Macau\", \"Mainland China\", \"Malaysia\", \"Nepal\", \"Philippines\", \"Singapore\", \"South Korea\", \"Sri Lanka\", \"Taiwan\", \"Thailand\", \"US\", \"United Arab Emirates\", \"Vietnam\"], \"name\": \"\", \"z\": [9.0, 1.0, 3.0, 1.0, 5.0, 4.0, 10.0, 1.0, 11.0, 7.0, 8124.0, 8.0, 1.0, 1.0, 10.0, 4.0, 1.0, 9.0, 14.0, 5.0, 4.0, 2.0], \"type\": \"choropleth\"}], \"name\": \"01/30/2020\"}, {\"data\": [{\"coloraxis\": \"coloraxis\", \"geo\": \"geo\", \"hoverlabel\": {\"namelength\": 0}, \"hovertemplate\": \"ObservationDate=01/31/2020<br>Country=%{location}<br>Confirmed=%{z}\", \"locationmode\": \"country names\", \"locations\": [\"Australia\", \"Cambodia\", \"Canada\", \"Finland\", \"France\", \"Germany\", \"Hong Kong\", \"India\", \"Italy\", \"Japan\", \"Macau\", \"Mainland China\", \"Malaysia\", \"Nepal\", \"Philippines\", \"Russia\", \"Singapore\", \"South Korea\", \"Sri Lanka\", \"Sweden\", \"Taiwan\", \"Thailand\", \"UK\", \"US\", \"United Arab Emirates\", \"Vietnam\"], \"name\": \"\", \"z\": [9.0, 1.0, 3.0, 1.0, 5.0, 5.0, 12.0, 1.0, 2.0, 15.0, 7.0, 9783.0, 8.0, 1.0, 1.0, 2.0, 13.0, 11.0, 1.0, 1.0, 10.0, 19.0, 2.0, 6.0, 4.0, 2.0], \"type\": \"choropleth\"}], \"name\": \"01/31/2020\"}, {\"data\": [{\"coloraxis\": \"coloraxis\", \"geo\": \"geo\", \"hoverlabel\": {\"namelength\": 0}, \"hovertemplate\": \"ObservationDate=02/01/2020<br>Country=%{location}<br>Confirmed=%{z}\", \"locationmode\": \"country names\", \"locations\": [\"Australia\", \"Cambodia\", \"Canada\", \"Finland\", \"France\", \"Germany\", \"Hong Kong\", \"India\", \"Italy\", \"Japan\", \"Macau\", \"Mainland China\", \"Malaysia\", \"Nepal\", \"Philippines\", \"Russia\", \"Singapore\", \"South Korea\", \"Spain\", \"Sri Lanka\", \"Sweden\", \"Taiwan\", \"Thailand\", \"UK\", \"US\", \"United Arab Emirates\", \"Vietnam\"], \"name\": \"\", \"z\": [12.0, 1.0, 4.0, 1.0, 6.0, 8.0, 13.0, 1.0, 2.0, 20.0, 7.0, 11871.0, 8.0, 1.0, 1.0, 2.0, 16.0, 12.0, 1.0, 1.0, 1.0, 10.0, 19.0, 2.0, 8.0, 4.0, 6.0], \"type\": \"choropleth\"}], \"name\": \"02/01/2020\"}, {\"data\": [{\"coloraxis\": \"coloraxis\", \"geo\": \"geo\", \"hoverlabel\": {\"namelength\": 0}, \"hovertemplate\": \"ObservationDate=02/02/2020<br>Country=%{location}<br>Confirmed=%{z}\", \"locationmode\": \"country names\", \"locations\": [\"Australia\", \"Cambodia\", \"Canada\", \"Finland\", \"France\", \"Germany\", \"Hong Kong\", \"India\", \"Italy\", \"Japan\", \"Macau\", \"Mainland China\", \"Malaysia\", \"Nepal\", \"Philippines\", \"Russia\", \"Singapore\", \"South Korea\", \"Spain\", \"Sri Lanka\", \"Sweden\", \"Taiwan\", \"Thailand\", \"UK\", \"US\", \"United Arab Emirates\", \"Vietnam\"], \"name\": \"\", \"z\": [12.0, 1.0, 4.0, 1.0, 6.0, 10.0, 15.0, 2.0, 2.0, 20.0, 8.0, 16607.0, 8.0, 1.0, 2.0, 2.0, 18.0, 15.0, 1.0, 1.0, 1.0, 10.0, 19.0, 2.0, 8.0, 5.0, 6.0], \"type\": \"choropleth\"}], \"name\": \"02/02/2020\"}, {\"data\": [{\"coloraxis\": \"coloraxis\", \"geo\": \"geo\", \"hoverlabel\": {\"namelength\": 0}, \"hovertemplate\": \"ObservationDate=02/03/2020<br>Country=%{location}<br>Confirmed=%{z}\", \"locationmode\": \"country names\", \"locations\": [\"Australia\", \"Cambodia\", \"Canada\", \"Finland\", \"France\", \"Germany\", \"Hong Kong\", \"India\", \"Italy\", \"Japan\", \"Macau\", \"Mainland China\", \"Malaysia\", \"Nepal\", \"Philippines\", \"Russia\", \"Singapore\", \"South Korea\", \"Spain\", \"Sri Lanka\", \"Sweden\", \"Taiwan\", \"Thailand\", \"UK\", \"US\", \"United Arab Emirates\", \"Vietnam\"], \"name\": \"\", \"z\": [12.0, 1.0, 4.0, 1.0, 6.0, 12.0, 15.0, 3.0, 2.0, 20.0, 8.0, 19693.0, 8.0, 1.0, 2.0, 2.0, 18.0, 15.0, 1.0, 1.0, 1.0, 10.0, 19.0, 2.0, 11.0, 5.0, 8.0], \"type\": \"choropleth\"}], \"name\": \"02/03/2020\"}, {\"data\": [{\"coloraxis\": \"coloraxis\", \"geo\": \"geo\", \"hoverlabel\": {\"namelength\": 0}, \"hovertemplate\": \"ObservationDate=02/04/2020<br>Country=%{location}<br>Confirmed=%{z}\", \"locationmode\": \"country names\", \"locations\": [\"Australia\", \"Belgium\", \"Cambodia\", \"Canada\", \"Finland\", \"France\", \"Germany\", \"Hong Kong\", \"India\", \"Italy\", \"Japan\", \"Macau\", \"Mainland China\", \"Malaysia\", \"Nepal\", \"Philippines\", \"Russia\", \"Singapore\", \"South Korea\", \"Spain\", \"Sri Lanka\", \"Sweden\", \"Taiwan\", \"Thailand\", \"UK\", \"US\", \"United Arab Emirates\", \"Vietnam\"], \"name\": \"\", \"z\": [13.0, 1.0, 1.0, 4.0, 1.0, 6.0, 12.0, 17.0, 3.0, 2.0, 22.0, 10.0, 23680.0, 10.0, 1.0, 2.0, 2.0, 24.0, 16.0, 1.0, 1.0, 1.0, 11.0, 25.0, 2.0, 11.0, 5.0, 8.0], \"type\": \"choropleth\"}], \"name\": \"02/04/2020\"}, {\"data\": [{\"coloraxis\": \"coloraxis\", \"geo\": \"geo\", \"hoverlabel\": {\"namelength\": 0}, \"hovertemplate\": \"ObservationDate=02/05/2020<br>Country=%{location}<br>Confirmed=%{z}\", \"locationmode\": \"country names\", \"locations\": [\"Australia\", \"Belgium\", \"Cambodia\", \"Canada\", \"Finland\", \"France\", \"Germany\", \"Hong Kong\", \"India\", \"Italy\", \"Japan\", \"Macau\", \"Mainland China\", \"Malaysia\", \"Nepal\", \"Philippines\", \"Russia\", \"Singapore\", \"South Korea\", \"Spain\", \"Sri Lanka\", \"Sweden\", \"Taiwan\", \"Thailand\", \"UK\", \"US\", \"United Arab Emirates\", \"Vietnam\"], \"name\": \"\", \"z\": [13.0, 1.0, 1.0, 5.0, 1.0, 6.0, 12.0, 21.0, 3.0, 2.0, 22.0, 10.0, 27409.0, 12.0, 1.0, 2.0, 2.0, 28.0, 19.0, 1.0, 1.0, 1.0, 11.0, 25.0, 2.0, 12.0, 5.0, 8.0], \"type\": \"choropleth\"}], \"name\": \"02/05/2020\"}, {\"data\": [{\"coloraxis\": \"coloraxis\", \"geo\": \"geo\", \"hoverlabel\": {\"namelength\": 0}, \"hovertemplate\": \"ObservationDate=02/06/2020<br>Country=%{location}<br>Confirmed=%{z}\", \"locationmode\": \"country names\", \"locations\": [\"Australia\", \"Belgium\", \"Cambodia\", \"Canada\", \"Finland\", \"France\", \"Germany\", \"Hong Kong\", \"India\", \"Italy\", \"Japan\", \"Macau\", \"Mainland China\", \"Malaysia\", \"Nepal\", \"Philippines\", \"Russia\", \"Singapore\", \"South Korea\", \"Spain\", \"Sri Lanka\", \"Sweden\", \"Taiwan\", \"Thailand\", \"UK\", \"US\", \"United Arab Emirates\", \"Vietnam\"], \"name\": \"\", \"z\": [14.0, 1.0, 1.0, 5.0, 1.0, 6.0, 12.0, 24.0, 3.0, 2.0, 45.0, 10.0, 30553.0, 12.0, 1.0, 2.0, 2.0, 28.0, 23.0, 1.0, 1.0, 1.0, 16.0, 25.0, 2.0, 12.0, 5.0, 10.0], \"type\": \"choropleth\"}], \"name\": \"02/06/2020\"}, {\"data\": [{\"coloraxis\": \"coloraxis\", \"geo\": \"geo\", \"hoverlabel\": {\"namelength\": 0}, \"hovertemplate\": \"ObservationDate=02/07/2020<br>Country=%{location}<br>Confirmed=%{z}\", \"locationmode\": \"country names\", \"locations\": [\"Australia\", \"Belgium\", \"Cambodia\", \"Canada\", \"Finland\", \"France\", \"Germany\", \"Hong Kong\", \"India\", \"Italy\", \"Japan\", \"Macau\", \"Mainland China\", \"Malaysia\", \"Nepal\", \"Others\", \"Philippines\", \"Russia\", \"Singapore\", \"South Korea\", \"Spain\", \"Sri Lanka\", \"Sweden\", \"Taiwan\", \"Thailand\", \"UK\", \"US\", \"United Arab Emirates\", \"Vietnam\"], \"name\": \"\", \"z\": [15.0, 1.0, 1.0, 7.0, 1.0, 6.0, 13.0, 25.0, 3.0, 3.0, 25.0, 10.0, 34075.0, 12.0, 1.0, 61.0, 3.0, 2.0, 30.0, 24.0, 1.0, 1.0, 1.0, 16.0, 25.0, 3.0, 12.0, 5.0, 10.0], \"type\": \"choropleth\"}], \"name\": \"02/07/2020\"}, {\"data\": [{\"coloraxis\": \"coloraxis\", \"geo\": \"geo\", \"hoverlabel\": {\"namelength\": 0}, \"hovertemplate\": \"ObservationDate=02/08/2020<br>Country=%{location}<br>Confirmed=%{z}\", \"locationmode\": \"country names\", \"locations\": [\"Australia\", \"Belgium\", \"Cambodia\", \"Canada\", \"Finland\", \"France\", \"Germany\", \"Hong Kong\", \"India\", \"Italy\", \"Japan\", \"Macau\", \"Mainland China\", \"Malaysia\", \"Nepal\", \"Others\", \"Philippines\", \"Russia\", \"Singapore\", \"South Korea\", \"Spain\", \"Sri Lanka\", \"Sweden\", \"Taiwan\", \"Thailand\", \"UK\", \"US\", \"United Arab Emirates\", \"Vietnam\"], \"name\": \"\", \"z\": [15.0, 1.0, 1.0, 7.0, 1.0, 11.0, 13.0, 26.0, 3.0, 3.0, 25.0, 10.0, 36778.0, 16.0, 1.0, 61.0, 3.0, 2.0, 33.0, 24.0, 1.0, 1.0, 1.0, 17.0, 32.0, 3.0, 12.0, 7.0, 13.0], \"type\": \"choropleth\"}], \"name\": \"02/08/2020\"}, {\"data\": [{\"coloraxis\": \"coloraxis\", \"geo\": \"geo\", \"hoverlabel\": {\"namelength\": 0}, \"hovertemplate\": \"ObservationDate=02/09/2020<br>Country=%{location}<br>Confirmed=%{z}\", \"locationmode\": \"country names\", \"locations\": [\"Australia\", \"Belgium\", \"Cambodia\", \"Canada\", \"Finland\", \"France\", \"Germany\", \"Hong Kong\", \"India\", \"Italy\", \"Japan\", \"Macau\", \"Mainland China\", \"Malaysia\", \"Nepal\", \"Others\", \"Philippines\", \"Russia\", \"Singapore\", \"South Korea\", \"Spain\", \"Sri Lanka\", \"Sweden\", \"Taiwan\", \"Thailand\", \"UK\", \"US\", \"United Arab Emirates\", \"Vietnam\"], \"name\": \"\", \"z\": [15.0, 1.0, 1.0, 7.0, 1.0, 11.0, 14.0, 29.0, 3.0, 3.0, 26.0, 10.0, 39790.0, 16.0, 1.0, 64.0, 3.0, 2.0, 40.0, 25.0, 2.0, 1.0, 1.0, 18.0, 32.0, 3.0, 12.0, 7.0, 13.0], \"type\": \"choropleth\"}], \"name\": \"02/09/2020\"}, {\"data\": [{\"coloraxis\": \"coloraxis\", \"geo\": \"geo\", \"hoverlabel\": {\"namelength\": 0}, \"hovertemplate\": \"ObservationDate=02/10/2020<br>Country=%{location}<br>Confirmed=%{z}\", \"locationmode\": \"country names\", \"locations\": [\"Australia\", \"Belgium\", \"Cambodia\", \"Canada\", \"Finland\", \"France\", \"Germany\", \"Hong Kong\", \"India\", \"Italy\", \"Japan\", \"Macau\", \"Mainland China\", \"Malaysia\", \"Nepal\", \"Others\", \"Philippines\", \"Russia\", \"Singapore\", \"South Korea\", \"Spain\", \"Sri Lanka\", \"Sweden\", \"Taiwan\", \"Thailand\", \"UK\", \"US\", \"United Arab Emirates\", \"Vietnam\"], \"name\": \"\", \"z\": [15.0, 1.0, 1.0, 7.0, 1.0, 11.0, 14.0, 38.0, 3.0, 3.0, 26.0, 10.0, 42306.0, 18.0, 1.0, 135.0, 3.0, 2.0, 45.0, 27.0, 2.0, 1.0, 1.0, 18.0, 32.0, 8.0, 12.0, 8.0, 14.0], \"type\": \"choropleth\"}], \"name\": \"02/10/2020\"}, {\"data\": [{\"coloraxis\": \"coloraxis\", \"geo\": \"geo\", \"hoverlabel\": {\"namelength\": 0}, \"hovertemplate\": \"ObservationDate=02/11/2020<br>Country=%{location}<br>Confirmed=%{z}\", \"locationmode\": \"country names\", \"locations\": [\"Australia\", \"Belgium\", \"Cambodia\", \"Canada\", \"Finland\", \"France\", \"Germany\", \"Hong Kong\", \"India\", \"Italy\", \"Japan\", \"Macau\", \"Mainland China\", \"Malaysia\", \"Nepal\", \"Others\", \"Philippines\", \"Russia\", \"Singapore\", \"South Korea\", \"Spain\", \"Sri Lanka\", \"Sweden\", \"Taiwan\", \"Thailand\", \"UK\", \"US\", \"United Arab Emirates\", \"Vietnam\"], \"name\": \"\", \"z\": [15.0, 1.0, 1.0, 7.0, 1.0, 11.0, 16.0, 49.0, 3.0, 3.0, 26.0, 10.0, 44327.0, 18.0, 1.0, 135.0, 3.0, 2.0, 47.0, 28.0, 2.0, 1.0, 1.0, 18.0, 33.0, 8.0, 13.0, 8.0, 15.0], \"type\": \"choropleth\"}], \"name\": \"02/11/2020\"}, {\"data\": [{\"coloraxis\": \"coloraxis\", \"geo\": \"geo\", \"hoverlabel\": {\"namelength\": 0}, \"hovertemplate\": \"ObservationDate=02/12/2020<br>Country=%{location}<br>Confirmed=%{z}\", \"locationmode\": \"country names\", \"locations\": [\"Australia\", \"Belgium\", \"Cambodia\", \"Canada\", \"Finland\", \"France\", \"Germany\", \"Hong Kong\", \"India\", \"Italy\", \"Japan\", \"Macau\", \"Mainland China\", \"Malaysia\", \"Nepal\", \"Others\", \"Philippines\", \"Russia\", \"Singapore\", \"South Korea\", \"Spain\", \"Sri Lanka\", \"Sweden\", \"Taiwan\", \"Thailand\", \"UK\", \"US\", \"United Arab Emirates\", \"Vietnam\"], \"name\": \"\", \"z\": [15.0, 1.0, 1.0, 7.0, 1.0, 11.0, 16.0, 50.0, 3.0, 3.0, 28.0, 10.0, 44699.0, 18.0, 1.0, 175.0, 3.0, 2.0, 50.0, 28.0, 2.0, 1.0, 1.0, 18.0, 33.0, 9.0, 13.0, 8.0, 15.0], \"type\": \"choropleth\"}], \"name\": \"02/12/2020\"}, {\"data\": [{\"coloraxis\": \"coloraxis\", \"geo\": \"geo\", \"hoverlabel\": {\"namelength\": 0}, \"hovertemplate\": \"ObservationDate=02/13/2020<br>Country=%{location}<br>Confirmed=%{z}\", \"locationmode\": \"country names\", \"locations\": [\"Australia\", \"Belgium\", \"Cambodia\", \"Canada\", \"Finland\", \"France\", \"Germany\", \"Hong Kong\", \"India\", \"Italy\", \"Japan\", \"Macau\", \"Mainland China\", \"Malaysia\", \"Nepal\", \"Others\", \"Philippines\", \"Russia\", \"Singapore\", \"South Korea\", \"Spain\", \"Sri Lanka\", \"Sweden\", \"Taiwan\", \"Thailand\", \"UK\", \"US\", \"United Arab Emirates\", \"Vietnam\"], \"name\": \"\", \"z\": [15.0, 1.0, 1.0, 7.0, 1.0, 11.0, 16.0, 53.0, 3.0, 3.0, 28.0, 10.0, 59832.0, 19.0, 1.0, 175.0, 3.0, 2.0, 58.0, 28.0, 2.0, 1.0, 1.0, 18.0, 33.0, 9.0, 15.0, 8.0, 16.0], \"type\": \"choropleth\"}], \"name\": \"02/13/2020\"}, {\"data\": [{\"coloraxis\": \"coloraxis\", \"geo\": \"geo\", \"hoverlabel\": {\"namelength\": 0}, \"hovertemplate\": \"ObservationDate=02/14/2020<br>Country=%{location}<br>Confirmed=%{z}\", \"locationmode\": \"country names\", \"locations\": [\"Australia\", \"Belgium\", \"Cambodia\", \"Canada\", \"Egypt\", \"Finland\", \"France\", \"Germany\", \"Hong Kong\", \"India\", \"Italy\", \"Japan\", \"Macau\", \"Mainland China\", \"Malaysia\", \"Nepal\", \"Others\", \"Philippines\", \"Russia\", \"Singapore\", \"South Korea\", \"Spain\", \"Sri Lanka\", \"Sweden\", \"Taiwan\", \"Thailand\", \"UK\", \"US\", \"United Arab Emirates\", \"Vietnam\"], \"name\": \"\", \"z\": [15.0, 1.0, 1.0, 7.0, 1.0, 1.0, 11.0, 16.0, 56.0, 3.0, 3.0, 29.0, 10.0, 66292.0, 19.0, 1.0, 218.0, 3.0, 2.0, 67.0, 28.0, 2.0, 1.0, 1.0, 18.0, 33.0, 9.0, 15.0, 8.0, 16.0], \"type\": \"choropleth\"}], \"name\": \"02/14/2020\"}, {\"data\": [{\"coloraxis\": \"coloraxis\", \"geo\": \"geo\", \"hoverlabel\": {\"namelength\": 0}, \"hovertemplate\": \"ObservationDate=02/15/2020<br>Country=%{location}<br>Confirmed=%{z}\", \"locationmode\": \"country names\", \"locations\": [\"Australia\", \"Belgium\", \"Cambodia\", \"Canada\", \"Egypt\", \"Finland\", \"France\", \"Germany\", \"Hong Kong\", \"India\", \"Italy\", \"Japan\", \"Macau\", \"Mainland China\", \"Malaysia\", \"Nepal\", \"Others\", \"Philippines\", \"Russia\", \"Singapore\", \"South Korea\", \"Spain\", \"Sri Lanka\", \"Sweden\", \"Taiwan\", \"Thailand\", \"UK\", \"US\", \"United Arab Emirates\", \"Vietnam\"], \"name\": \"\", \"z\": [15.0, 1.0, 1.0, 7.0, 1.0, 1.0, 12.0, 16.0, 56.0, 3.0, 3.0, 43.0, 10.0, 68347.0, 22.0, 1.0, 285.0, 3.0, 2.0, 72.0, 28.0, 2.0, 1.0, 1.0, 18.0, 33.0, 9.0, 15.0, 8.0, 16.0], \"type\": \"choropleth\"}], \"name\": \"02/15/2020\"}, {\"data\": [{\"coloraxis\": \"coloraxis\", \"geo\": \"geo\", \"hoverlabel\": {\"namelength\": 0}, \"hovertemplate\": \"ObservationDate=02/16/2020<br>Country=%{location}<br>Confirmed=%{z}\", \"locationmode\": \"country names\", \"locations\": [\"Australia\", \"Belgium\", \"Cambodia\", \"Canada\", \"Egypt\", \"Finland\", \"France\", \"Germany\", \"Hong Kong\", \"India\", \"Italy\", \"Japan\", \"Macau\", \"Mainland China\", \"Malaysia\", \"Nepal\", \"Others\", \"Philippines\", \"Russia\", \"Singapore\", \"South Korea\", \"Spain\", \"Sri Lanka\", \"Sweden\", \"Taiwan\", \"Thailand\", \"UK\", \"US\", \"United Arab Emirates\", \"Vietnam\"], \"name\": \"\", \"z\": [15.0, 1.0, 1.0, 7.0, 1.0, 1.0, 12.0, 16.0, 57.0, 3.0, 3.0, 59.0, 10.0, 70446.0, 22.0, 1.0, 355.0, 3.0, 2.0, 75.0, 29.0, 2.0, 1.0, 1.0, 20.0, 34.0, 9.0, 15.0, 9.0, 16.0], \"type\": \"choropleth\"}], \"name\": \"02/16/2020\"}, {\"data\": [{\"coloraxis\": \"coloraxis\", \"geo\": \"geo\", \"hoverlabel\": {\"namelength\": 0}, \"hovertemplate\": \"ObservationDate=02/17/2020<br>Country=%{location}<br>Confirmed=%{z}\", \"locationmode\": \"country names\", \"locations\": [\"Australia\", \"Belgium\", \"Cambodia\", \"Canada\", \"Egypt\", \"Finland\", \"France\", \"Germany\", \"Hong Kong\", \"India\", \"Italy\", \"Japan\", \"Macau\", \"Mainland China\", \"Malaysia\", \"Nepal\", \"Others\", \"Philippines\", \"Russia\", \"Singapore\", \"South Korea\", \"Spain\", \"Sri Lanka\", \"Sweden\", \"Taiwan\", \"Thailand\", \"UK\", \"US\", \"United Arab Emirates\", \"Vietnam\"], \"name\": \"\", \"z\": [15.0, 1.0, 1.0, 8.0, 1.0, 1.0, 12.0, 16.0, 60.0, 3.0, 3.0, 66.0, 10.0, 72364.0, 22.0, 1.0, 454.0, 3.0, 2.0, 77.0, 30.0, 2.0, 1.0, 1.0, 22.0, 35.0, 9.0, 15.0, 9.0, 16.0], \"type\": \"choropleth\"}], \"name\": \"02/17/2020\"}, {\"data\": [{\"coloraxis\": \"coloraxis\", \"geo\": \"geo\", \"hoverlabel\": {\"namelength\": 0}, \"hovertemplate\": \"ObservationDate=02/18/2020<br>Country=%{location}<br>Confirmed=%{z}\", \"locationmode\": \"country names\", \"locations\": [\"Australia\", \"Belgium\", \"Cambodia\", \"Canada\", \"Egypt\", \"Finland\", \"France\", \"Germany\", \"Hong Kong\", \"India\", \"Italy\", \"Japan\", \"Macau\", \"Mainland China\", \"Malaysia\", \"Nepal\", \"Others\", \"Philippines\", \"Russia\", \"Singapore\", \"South Korea\", \"Spain\", \"Sri Lanka\", \"Sweden\", \"Taiwan\", \"Thailand\", \"UK\", \"US\", \"United Arab Emirates\", \"Vietnam\"], \"name\": \"\", \"z\": [15.0, 1.0, 1.0, 8.0, 1.0, 1.0, 12.0, 16.0, 62.0, 3.0, 3.0, 74.0, 10.0, 74139.0, 22.0, 1.0, 542.0, 3.0, 2.0, 81.0, 31.0, 2.0, 1.0, 1.0, 22.0, 35.0, 9.0, 15.0, 9.0, 16.0], \"type\": \"choropleth\"}], \"name\": \"02/18/2020\"}, {\"data\": [{\"coloraxis\": \"coloraxis\", \"geo\": \"geo\", \"hoverlabel\": {\"namelength\": 0}, \"hovertemplate\": \"ObservationDate=02/19/2020<br>Country=%{location}<br>Confirmed=%{z}\", \"locationmode\": \"country names\", \"locations\": [\"Australia\", \"Belgium\", \"Cambodia\", \"Canada\", \"Egypt\", \"Finland\", \"France\", \"Germany\", \"Hong Kong\", \"India\", \"Iran\", \"Italy\", \"Japan\", \"Macau\", \"Mainland China\", \"Malaysia\", \"Nepal\", \"Others\", \"Philippines\", \"Russia\", \"Singapore\", \"South Korea\", \"Spain\", \"Sri Lanka\", \"Sweden\", \"Taiwan\", \"Thailand\", \"UK\", \"US\", \"United Arab Emirates\", \"Vietnam\"], \"name\": \"\", \"z\": [15.0, 1.0, 1.0, 8.0, 1.0, 1.0, 12.0, 16.0, 63.0, 3.0, 2.0, 3.0, 84.0, 10.0, 74546.0, 22.0, 1.0, 621.0, 3.0, 2.0, 84.0, 31.0, 2.0, 1.0, 1.0, 23.0, 35.0, 9.0, 15.0, 9.0, 16.0], \"type\": \"choropleth\"}], \"name\": \"02/19/2020\"}, {\"data\": [{\"coloraxis\": \"coloraxis\", \"geo\": \"geo\", \"hoverlabel\": {\"namelength\": 0}, \"hovertemplate\": \"ObservationDate=02/20/2020<br>Country=%{location}<br>Confirmed=%{z}\", \"locationmode\": \"country names\", \"locations\": [\"Australia\", \"Belgium\", \"Cambodia\", \"Canada\", \"Egypt\", \"Finland\", \"France\", \"Germany\", \"Hong Kong\", \"India\", \"Iran\", \"Italy\", \"Japan\", \"Macau\", \"Mainland China\", \"Malaysia\", \"Nepal\", \"Others\", \"Philippines\", \"Russia\", \"Singapore\", \"South Korea\", \"Spain\", \"Sri Lanka\", \"Sweden\", \"Taiwan\", \"Thailand\", \"UK\", \"US\", \"United Arab Emirates\", \"Vietnam\"], \"name\": \"\", \"z\": [15.0, 1.0, 1.0, 8.0, 1.0, 1.0, 12.0, 16.0, 68.0, 3.0, 5.0, 3.0, 94.0, 10.0, 74999.0, 22.0, 1.0, 634.0, 3.0, 2.0, 84.0, 104.0, 2.0, 1.0, 1.0, 24.0, 35.0, 9.0, 15.0, 9.0, 16.0], \"type\": \"choropleth\"}], \"name\": \"02/20/2020\"}, {\"data\": [{\"coloraxis\": \"coloraxis\", \"geo\": \"geo\", \"hoverlabel\": {\"namelength\": 0}, \"hovertemplate\": \"ObservationDate=02/21/2020<br>Country=%{location}<br>Confirmed=%{z}\", \"locationmode\": \"country names\", \"locations\": [\"Australia\", \"Belgium\", \"Cambodia\", \"Canada\", \"Egypt\", \"Finland\", \"France\", \"Germany\", \"Hong Kong\", \"India\", \"Iran\", \"Israel\", \"Italy\", \"Japan\", \"Lebanon\", \"Macau\", \"Mainland China\", \"Malaysia\", \"Nepal\", \"Others\", \"Philippines\", \"Russia\", \"Singapore\", \"South Korea\", \"Spain\", \"Sri Lanka\", \"Sweden\", \"Taiwan\", \"Thailand\", \"UK\", \"US\", \"United Arab Emirates\", \"Vietnam\"], \"name\": \"\", \"z\": [19.0, 1.0, 1.0, 9.0, 1.0, 1.0, 12.0, 16.0, 68.0, 3.0, 18.0, 1.0, 20.0, 105.0, 1.0, 10.0, 75472.0, 22.0, 1.0, 634.0, 3.0, 2.0, 85.0, 204.0, 2.0, 1.0, 1.0, 26.0, 35.0, 9.0, 35.0, 9.0, 16.0], \"type\": \"choropleth\"}], \"name\": \"02/21/2020\"}, {\"data\": [{\"coloraxis\": \"coloraxis\", \"geo\": \"geo\", \"hoverlabel\": {\"namelength\": 0}, \"hovertemplate\": \"ObservationDate=02/22/2020<br>Country=%{location}<br>Confirmed=%{z}\", \"locationmode\": \"country names\", \"locations\": [\"Australia\", \"Belgium\", \"Cambodia\", \"Canada\", \"Egypt\", \"Finland\", \"France\", \"Germany\", \"Hong Kong\", \"India\", \"Iran\", \"Israel\", \"Italy\", \"Japan\", \"Lebanon\", \"Macau\", \"Mainland China\", \"Malaysia\", \"Nepal\", \"Others\", \"Philippines\", \"Russia\", \"Singapore\", \"South Korea\", \"Spain\", \"Sri Lanka\", \"Sweden\", \"Taiwan\", \"Thailand\", \"UK\", \"US\", \"United Arab Emirates\", \"Vietnam\"], \"name\": \"\", \"z\": [22.0, 1.0, 1.0, 9.0, 1.0, 1.0, 12.0, 16.0, 69.0, 3.0, 28.0, 1.0, 62.0, 122.0, 1.0, 10.0, 76922.0, 22.0, 1.0, 634.0, 3.0, 2.0, 85.0, 433.0, 2.0, 1.0, 1.0, 26.0, 35.0, 9.0, 35.0, 13.0, 16.0], \"type\": \"choropleth\"}], \"name\": \"02/22/2020\"}, {\"data\": [{\"coloraxis\": \"coloraxis\", \"geo\": \"geo\", \"hoverlabel\": {\"namelength\": 0}, \"hovertemplate\": \"ObservationDate=02/23/2020<br>Country=%{location}<br>Confirmed=%{z}\", \"locationmode\": \"country names\", \"locations\": [\"Australia\", \"Belgium\", \"Cambodia\", \"Canada\", \"Egypt\", \"Finland\", \"France\", \"Germany\", \"Hong Kong\", \"India\", \"Iran\", \"Israel\", \"Italy\", \"Japan\", \"Lebanon\", \"Macau\", \"Mainland China\", \"Malaysia\", \"Nepal\", \"Others\", \"Philippines\", \"Russia\", \"Singapore\", \"South Korea\", \"Spain\", \"Sri Lanka\", \"Sweden\", \"Taiwan\", \"Thailand\", \"UK\", \"US\", \"United Arab Emirates\", \"Vietnam\"], \"name\": \"\", \"z\": [22.0, 1.0, 1.0, 9.0, 1.0, 1.0, 12.0, 16.0, 74.0, 3.0, 43.0, 1.0, 155.0, 147.0, 1.0, 10.0, 76938.0, 22.0, 1.0, 691.0, 3.0, 2.0, 89.0, 602.0, 2.0, 1.0, 1.0, 28.0, 35.0, 9.0, 35.0, 13.0, 16.0], \"type\": \"choropleth\"}], \"name\": \"02/23/2020\"}, {\"data\": [{\"coloraxis\": \"coloraxis\", \"geo\": \"geo\", \"hoverlabel\": {\"namelength\": 0}, \"hovertemplate\": \"ObservationDate=02/24/2020<br>Country=%{location}<br>Confirmed=%{z}\", \"locationmode\": \"country names\", \"locations\": [\"Afghanistan\", \"Australia\", \"Bahrain\", \"Belgium\", \"Cambodia\", \"Canada\", \"Egypt\", \"Finland\", \"France\", \"Germany\", \"Hong Kong\", \"India\", \"Iran\", \"Iraq\", \"Israel\", \"Italy\", \"Japan\", \"Kuwait\", \"Lebanon\", \"Macau\", \"Mainland China\", \"Malaysia\", \"Nepal\", \"Oman\", \"Others\", \"Philippines\", \"Russia\", \"Singapore\", \"South Korea\", \"Spain\", \"Sri Lanka\", \"Sweden\", \"Taiwan\", \"Thailand\", \"UK\", \"US\", \"United Arab Emirates\", \"Vietnam\"], \"name\": \"\", \"z\": [1.0, 22.0, 1.0, 1.0, 1.0, 10.0, 1.0, 1.0, 12.0, 16.0, 79.0, 3.0, 61.0, 1.0, 1.0, 229.0, 159.0, 1.0, 1.0, 10.0, 77152.0, 22.0, 1.0, 2.0, 691.0, 3.0, 2.0, 89.0, 833.0, 2.0, 1.0, 1.0, 30.0, 35.0, 13.0, 53.0, 13.0, 16.0], \"type\": \"choropleth\"}], \"name\": \"02/24/2020\"}, {\"data\": [{\"coloraxis\": \"coloraxis\", \"geo\": \"geo\", \"hoverlabel\": {\"namelength\": 0}, \"hovertemplate\": \"ObservationDate=02/25/2020<br>Country=%{location}<br>Confirmed=%{z}\", \"locationmode\": \"country names\", \"locations\": [\"Afghanistan\", \"Algeria\", \"Australia\", \"Austria\", \"Bahrain\", \"Belgium\", \"Cambodia\", \"Canada\", \"Croatia\", \"Egypt\", \"Finland\", \"France\", \"Germany\", \"Hong Kong\", \"India\", \"Iran\", \"Iraq\", \"Israel\", \"Italy\", \"Japan\", \"Kuwait\", \"Lebanon\", \"Macau\", \"Mainland China\", \"Malaysia\", \"Nepal\", \"Oman\", \"Others\", \"Philippines\", \"Russia\", \"Singapore\", \"South Korea\", \"Spain\", \"Sri Lanka\", \"Sweden\", \"Switzerland\", \"Taiwan\", \"Thailand\", \"UK\", \"US\", \"United Arab Emirates\", \"Vietnam\"], \"name\": \"\", \"z\": [1.0, 1.0, 22.0, 2.0, 23.0, 1.0, 1.0, 11.0, 1.0, 1.0, 1.0, 14.0, 17.0, 84.0, 3.0, 95.0, 1.0, 1.0, 322.0, 170.0, 11.0, 1.0, 10.0, 77660.0, 22.0, 1.0, 2.0, 691.0, 3.0, 2.0, 91.0, 977.0, 6.0, 1.0, 1.0, 1.0, 31.0, 37.0, 13.0, 53.0, 13.0, 16.0], \"type\": \"choropleth\"}], \"name\": \"02/25/2020\"}, {\"data\": [{\"coloraxis\": \"coloraxis\", \"geo\": \"geo\", \"hoverlabel\": {\"namelength\": 0}, \"hovertemplate\": \"ObservationDate=02/26/2020<br>Country=%{location}<br>Confirmed=%{z}\", \"locationmode\": \"country names\", \"locations\": [\"Afghanistan\", \"Algeria\", \"Australia\", \"Austria\", \"Bahrain\", \"Belgium\", \"Brazil\", \"Cambodia\", \"Canada\", \"Croatia\", \"Egypt\", \"Finland\", \"France\", \"Georgia\", \"Germany\", \"Greece\", \"Hong Kong\", \"India\", \"Iran\", \"Iraq\", \"Israel\", \"Italy\", \"Japan\", \"Kuwait\", \"Lebanon\", \"Macau\", \"Mainland China\", \"Malaysia\", \"Nepal\", \"North Macedonia\", \"Norway\", \"Oman\", \"Others\", \"Pakistan\", \"Philippines\", \"Romania\", \"Russia\", \"Singapore\", \"South Korea\", \"Spain\", \"Sri Lanka\", \"Sweden\", \"Switzerland\", \"Taiwan\", \"Thailand\", \"UK\", \"US\", \"United Arab Emirates\", \"Vietnam\"], \"name\": \"\", \"z\": [1.0, 1.0, 22.0, 2.0, 33.0, 1.0, 1.0, 1.0, 11.0, 3.0, 1.0, 2.0, 18.0, 1.0, 27.0, 1.0, 91.0, 3.0, 139.0, 5.0, 2.0, 453.0, 189.0, 26.0, 2.0, 10.0, 78065.0, 22.0, 1.0, 1.0, 1.0, 4.0, 705.0, 2.0, 3.0, 1.0, 2.0, 93.0, 1261.0, 13.0, 1.0, 2.0, 1.0, 32.0, 40.0, 13.0, 59.0, 13.0, 16.0], \"type\": \"choropleth\"}], \"name\": \"02/26/2020\"}, {\"data\": [{\"coloraxis\": \"coloraxis\", \"geo\": \"geo\", \"hoverlabel\": {\"namelength\": 0}, \"hovertemplate\": \"ObservationDate=02/27/2020<br>Country=%{location}<br>Confirmed=%{z}\", \"locationmode\": \"country names\", \"locations\": [\"Afghanistan\", \"Algeria\", \"Australia\", \"Austria\", \"Bahrain\", \"Belgium\", \"Brazil\", \"Cambodia\", \"Canada\", \"Croatia\", \"Denmark\", \"Egypt\", \"Estonia\", \"Finland\", \"France\", \"Georgia\", \"Germany\", \"Greece\", \"Hong Kong\", \"India\", \"Iran\", \"Iraq\", \"Israel\", \"Italy\", \"Japan\", \"Kuwait\", \"Lebanon\", \"Macau\", \"Mainland China\", \"Malaysia\", \"Nepal\", \"Netherlands\", \"North Macedonia\", \"Norway\", \"Oman\", \"Others\", \"Pakistan\", \"Philippines\", \"Romania\", \"Russia\", \"San Marino\", \"Singapore\", \"South Korea\", \"Spain\", \"Sri Lanka\", \"Sweden\", \"Switzerland\", \"Taiwan\", \"Thailand\", \"UK\", \"US\", \"United Arab Emirates\", \"Vietnam\"], \"name\": \"\", \"z\": [1.0, 1.0, 23.0, 3.0, 33.0, 1.0, 1.0, 1.0, 13.0, 3.0, 1.0, 1.0, 1.0, 2.0, 38.0, 1.0, 46.0, 3.0, 92.0, 3.0, 245.0, 7.0, 3.0, 655.0, 214.0, 43.0, 2.0, 10.0, 78498.0, 23.0, 1.0, 1.0, 1.0, 1.0, 4.0, 705.0, 2.0, 3.0, 1.0, 2.0, 1.0, 93.0, 1766.0, 15.0, 1.0, 7.0, 8.0, 32.0, 40.0, 15.0, 60.0, 13.0, 16.0], \"type\": \"choropleth\"}], \"name\": \"02/27/2020\"}, {\"data\": [{\"coloraxis\": \"coloraxis\", \"geo\": \"geo\", \"hoverlabel\": {\"namelength\": 0}, \"hovertemplate\": \"ObservationDate=02/28/2020<br>Country=%{location}<br>Confirmed=%{z}\", \"locationmode\": \"country names\", \"locations\": [\" Azerbaijan\", \"Afghanistan\", \"Algeria\", \"Australia\", \"Austria\", \"Bahrain\", \"Belarus\", \"Belgium\", \"Brazil\", \"Cambodia\", \"Canada\", \"Croatia\", \"Denmark\", \"Egypt\", \"Estonia\", \"Finland\", \"France\", \"Georgia\", \"Germany\", \"Greece\", \"Hong Kong\", \"Iceland\", \"India\", \"Iran\", \"Iraq\", \"Israel\", \"Italy\", \"Japan\", \"Kuwait\", \"Lebanon\", \"Lithuania\", \"Macau\", \"Mainland China\", \"Malaysia\", \"Mexico\", \"Nepal\", \"Netherlands\", \"New Zealand\", \"Nigeria\", \"North Ireland\", \"North Macedonia\", \"Norway\", \"Oman\", \"Others\", \"Pakistan\", \"Philippines\", \"Romania\", \"Russia\", \"San Marino\", \"Singapore\", \"South Korea\", \"Spain\", \"Sri Lanka\", \"Sweden\", \"Switzerland\", \"Taiwan\", \"Thailand\", \"UK\", \"US\", \"United Arab Emirates\", \"Vietnam\"], \"name\": \"\", \"z\": [1.0, 1.0, 1.0, 23.0, 3.0, 36.0, 1.0, 1.0, 1.0, 1.0, 14.0, 5.0, 1.0, 1.0, 1.0, 2.0, 57.0, 1.0, 48.0, 4.0, 94.0, 1.0, 3.0, 388.0, 7.0, 4.0, 888.0, 228.0, 45.0, 2.0, 1.0, 10.0, 78824.0, 23.0, 1.0, 1.0, 1.0, 1.0, 1.0, 1.0, 1.0, 6.0, 4.0, 705.0, 2.0, 3.0, 3.0, 2.0, 1.0, 93.0, 2337.0, 32.0, 1.0, 7.0, 8.0, 34.0, 41.0, 20.0, 62.0, 19.0, 16.0], \"type\": \"choropleth\"}], \"name\": \"02/28/2020\"}, {\"data\": [{\"coloraxis\": \"coloraxis\", \"geo\": \"geo\", \"hoverlabel\": {\"namelength\": 0}, \"hovertemplate\": \"ObservationDate=02/29/2020<br>Country=%{location}<br>Confirmed=%{z}\", \"locationmode\": \"country names\", \"locations\": [\"Afghanistan\", \"Algeria\", \"Australia\", \"Austria\", \"Bahrain\", \"Belarus\", \"Belgium\", \"Brazil\", \"Cambodia\", \"Canada\", \"Croatia\", \"Denmark\", \"Egypt\", \"Estonia\", \"Finland\", \"France\", \"Georgia\", \"Germany\", \"Greece\", \"Hong Kong\", \"Iceland\", \"India\", \"Iran\", \"Iraq\", \"Ireland\", \"Israel\", \"Italy\", \"Japan\", \"Kuwait\", \"Lebanon\", \"Lithuania\", \"Luxembourg\", \"Macau\", \"Mainland China\", \"Malaysia\", \"Mexico\", \"Monaco\", \"Nepal\", \"Netherlands\", \"New Zealand\", \"Nigeria\", \"North Macedonia\", \"Norway\", \"Oman\", \"Others\", \"Pakistan\", \"Philippines\", \"Qatar\", \"Romania\", \"Russia\", \"San Marino\", \"Singapore\", \"South Korea\", \"Spain\", \"Sri Lanka\", \"Sweden\", \"Switzerland\", \"Taiwan\", \"Thailand\", \"UK\", \"US\", \"United Arab Emirates\", \"Vietnam\"], \"name\": \"\", \"z\": [1.0, 1.0, 25.0, 9.0, 41.0, 1.0, 1.0, 2.0, 1.0, 20.0, 6.0, 3.0, 1.0, 1.0, 3.0, 100.0, 1.0, 79.0, 4.0, 95.0, 1.0, 3.0, 593.0, 13.0, 1.0, 7.0, 1128.0, 241.0, 45.0, 4.0, 1.0, 1.0, 10.0, 79251.0, 25.0, 4.0, 1.0, 1.0, 6.0, 1.0, 1.0, 1.0, 15.0, 6.0, 705.0, 4.0, 3.0, 1.0, 3.0, 2.0, 1.0, 102.0, 3150.0, 45.0, 1.0, 12.0, 18.0, 39.0, 42.0, 23.0, 70.0, 21.0, 16.0], \"type\": \"choropleth\"}], \"name\": \"02/29/2020\"}, {\"data\": [{\"coloraxis\": \"coloraxis\", \"geo\": \"geo\", \"hoverlabel\": {\"namelength\": 0}, \"hovertemplate\": \"ObservationDate=03/01/2020<br>Country=%{location}<br>Confirmed=%{z}\", \"locationmode\": \"country names\", \"locations\": [\"Afghanistan\", \"Algeria\", \"Armenia\", \"Australia\", \"Austria\", \"Azerbaijan\", \"Bahrain\", \"Belarus\", \"Belgium\", \"Brazil\", \"Cambodia\", \"Canada\", \"Croatia\", \"Czech Republic\", \"Denmark\", \"Dominican Republic\", \"Ecuador\", \"Egypt\", \"Estonia\", \"Finland\", \"France\", \"Georgia\", \"Germany\", \"Greece\", \"Hong Kong\", \"Iceland\", \"India\", \"Iran\", \"Iraq\", \"Ireland\", \"Israel\", \"Italy\", \"Japan\", \"Kuwait\", \"Lebanon\", \"Lithuania\", \"Luxembourg\", \"Macau\", \"Mainland China\", \"Malaysia\", \"Mexico\", \"Monaco\", \"Nepal\", \"Netherlands\", \"New Zealand\", \"Nigeria\", \"North Macedonia\", \"Norway\", \"Oman\", \"Others\", \"Pakistan\", \"Philippines\", \"Qatar\", \"Romania\", \"Russia\", \"San Marino\", \"Singapore\", \"South Korea\", \"Spain\", \"Sri Lanka\", \"Sweden\", \"Switzerland\", \"Taiwan\", \"Thailand\", \"UK\", \"US\", \"United Arab Emirates\", \"Vietnam\"], \"name\": \"\", \"z\": [1.0, 1.0, 1.0, 27.0, 14.0, 3.0, 47.0, 1.0, 2.0, 2.0, 1.0, 24.0, 7.0, 3.0, 4.0, 1.0, 6.0, 2.0, 1.0, 6.0, 130.0, 3.0, 130.0, 7.0, 96.0, 3.0, 3.0, 978.0, 19.0, 1.0, 10.0, 1694.0, 256.0, 45.0, 10.0, 1.0, 1.0, 10.0, 79826.0, 29.0, 5.0, 1.0, 1.0, 10.0, 1.0, 1.0, 1.0, 19.0, 6.0, 705.0, 4.0, 3.0, 3.0, 3.0, 2.0, 1.0, 106.0, 3736.0, 84.0, 1.0, 14.0, 27.0, 40.0, 42.0, 36.0, 76.0, 21.0, 16.0], \"type\": \"choropleth\"}], \"name\": \"03/01/2020\"}, {\"data\": [{\"coloraxis\": \"coloraxis\", \"geo\": \"geo\", \"hoverlabel\": {\"namelength\": 0}, \"hovertemplate\": \"ObservationDate=03/02/2020<br>Country=%{location}<br>Confirmed=%{z}\", \"locationmode\": \"country names\", \"locations\": [\"Afghanistan\", \"Algeria\", \"Andorra\", \"Armenia\", \"Australia\", \"Austria\", \"Azerbaijan\", \"Bahrain\", \"Belarus\", \"Belgium\", \"Brazil\", \"Cambodia\", \"Canada\", \"Croatia\", \"Czech Republic\", \"Denmark\", \"Dominican Republic\", \"Ecuador\", \"Egypt\", \"Estonia\", \"Finland\", \"France\", \"Georgia\", \"Germany\", \"Greece\", \"Hong Kong\", \"Iceland\", \"India\", \"Indonesia\", \"Iran\", \"Iraq\", \"Ireland\", \"Israel\", \"Italy\", \"Japan\", \"Kuwait\", \"Latvia\", \"Lebanon\", \"Lithuania\", \"Luxembourg\", \"Macau\", \"Mainland China\", \"Malaysia\", \"Mexico\", \"Monaco\", \"Morocco\", \"Nepal\", \"Netherlands\", \"New Zealand\", \"Nigeria\", \"North Macedonia\", \"Norway\", \"Oman\", \"Others\", \"Pakistan\", \"Philippines\", \"Portugal\", \"Qatar\", \"Romania\", \"Russia\", \"San Marino\", \"Saudi Arabia\", \"Senegal\", \"Singapore\", \"South Korea\", \"Spain\", \"Sri Lanka\", \"Sweden\", \"Switzerland\", \"Taiwan\", \"Thailand\", \"UK\", \"US\", \"United Arab Emirates\", \"Vietnam\"], \"name\": \"\", \"z\": [1.0, 3.0, 1.0, 1.0, 30.0, 18.0, 3.0, 49.0, 1.0, 8.0, 2.0, 1.0, 27.0, 7.0, 3.0, 4.0, 1.0, 6.0, 2.0, 1.0, 6.0, 191.0, 3.0, 159.0, 7.0, 100.0, 6.0, 5.0, 2.0, 1501.0, 26.0, 1.0, 10.0, 2036.0, 274.0, 56.0, 1.0, 13.0, 1.0, 1.0, 10.0, 80026.0, 29.0, 5.0, 1.0, 1.0, 1.0, 18.0, 1.0, 1.0, 1.0, 25.0, 6.0, 705.0, 4.0, 3.0, 2.0, 3.0, 3.0, 3.0, 8.0, 1.0, 1.0, 108.0, 4335.0, 120.0, 1.0, 15.0, 42.0, 41.0, 43.0, 40.0, 101.0, 21.0, 16.0], \"type\": \"choropleth\"}], \"name\": \"03/02/2020\"}, {\"data\": [{\"coloraxis\": \"coloraxis\", \"geo\": \"geo\", \"hoverlabel\": {\"namelength\": 0}, \"hovertemplate\": \"ObservationDate=03/03/2020<br>Country=%{location}<br>Confirmed=%{z}\", \"locationmode\": \"country names\", \"locations\": [\"Afghanistan\", \"Algeria\", \"Andorra\", \"Argentina\", \"Armenia\", \"Australia\", \"Austria\", \"Azerbaijan\", \"Bahrain\", \"Belarus\", \"Belgium\", \"Brazil\", \"Cambodia\", \"Canada\", \"Chile\", \"Croatia\", \"Czech Republic\", \"Denmark\", \"Dominican Republic\", \"Ecuador\", \"Egypt\", \"Estonia\", \"Finland\", \"France\", \"Georgia\", \"Germany\", \"Greece\", \"Hong Kong\", \"Iceland\", \"India\", \"Indonesia\", \"Iran\", \"Iraq\", \"Ireland\", \"Israel\", \"Italy\", \"Japan\", \"Jordan\", \"Kuwait\", \"Latvia\", \"Lebanon\", \"Lithuania\", \"Luxembourg\", \"Macau\", \"Mainland China\", \"Malaysia\", \"Mexico\", \"Monaco\", \"Morocco\", \"Nepal\", \"Netherlands\", \"New Zealand\", \"Nigeria\", \"North Macedonia\", \"Norway\", \"Oman\", \"Others\", \"Pakistan\", \"Philippines\", \"Portugal\", \"Qatar\", \"Romania\", \"Russia\", \"San Marino\", \"Saudi Arabia\", \"Senegal\", \"Singapore\", \"South Korea\", \"Spain\", \"Sri Lanka\", \"Sweden\", \"Switzerland\", \"Taiwan\", \"Thailand\", \"UK\", \"US\", \"Ukraine\", \"United Arab Emirates\", \"Vietnam\"], \"name\": \"\", \"z\": [1.0, 5.0, 1.0, 1.0, 1.0, 39.0, 21.0, 3.0, 49.0, 1.0, 13.0, 2.0, 1.0, 30.0, 1.0, 9.0, 5.0, 6.0, 1.0, 7.0, 2.0, 2.0, 6.0, 204.0, 3.0, 196.0, 7.0, 100.0, 11.0, 5.0, 2.0, 2336.0, 32.0, 2.0, 12.0, 2502.0, 293.0, 1.0, 56.0, 1.0, 13.0, 1.0, 1.0, 10.0, 80151.0, 36.0, 5.0, 1.0, 1.0, 1.0, 24.0, 1.0, 1.0, 1.0, 32.0, 12.0, 706.0, 5.0, 3.0, 2.0, 7.0, 3.0, 3.0, 10.0, 1.0, 2.0, 110.0, 5186.0, 165.0, 1.0, 21.0, 56.0, 42.0, 43.0, 51.0, 122.0, 1.0, 27.0, 16.0], \"type\": \"choropleth\"}], \"name\": \"03/03/2020\"}, {\"data\": [{\"coloraxis\": \"coloraxis\", \"geo\": \"geo\", \"hoverlabel\": {\"namelength\": 0}, \"hovertemplate\": \"ObservationDate=03/04/2020<br>Country=%{location}<br>Confirmed=%{z}\", \"locationmode\": \"country names\", \"locations\": [\"Afghanistan\", \"Algeria\", \"Andorra\", \"Argentina\", \"Armenia\", \"Australia\", \"Austria\", \"Azerbaijan\", \"Bahrain\", \"Belarus\", \"Belgium\", \"Brazil\", \"Cambodia\", \"Canada\", \"Chile\", \"Croatia\", \"Czech Republic\", \"Denmark\", \"Dominican Republic\", \"Ecuador\", \"Egypt\", \"Estonia\", \"Faroe Islands\", \"Finland\", \"France\", \"Georgia\", \"Germany\", \"Gibraltar\", \"Greece\", \"Hong Kong\", \"Hungary\", \"Iceland\", \"India\", \"Indonesia\", \"Iran\", \"Iraq\", \"Ireland\", \"Israel\", \"Italy\", \"Japan\", \"Jordan\", \"Kuwait\", \"Latvia\", \"Lebanon\", \"Liechtenstein\", \"Lithuania\", \"Luxembourg\", \"Macau\", \"Mainland China\", \"Malaysia\", \"Mexico\", \"Monaco\", \"Morocco\", \"Nepal\", \"Netherlands\", \"New Zealand\", \"Nigeria\", \"North Macedonia\", \"Norway\", \"Oman\", \"Others\", \"Pakistan\", \"Philippines\", \"Poland\", \"Portugal\", \"Qatar\", \"Romania\", \"Russia\", \"Saint Barthelemy\", \"San Marino\", \"Saudi Arabia\", \"Senegal\", \"Singapore\", \"South Korea\", \"Spain\", \"Sri Lanka\", \"Sweden\", \"Switzerland\", \"Taiwan\", \"Thailand\", \"Tunisia\", \"UK\", \"US\", \"Ukraine\", \"United Arab Emirates\", \"Vietnam\"], \"name\": \"\", \"z\": [1.0, 12.0, 1.0, 1.0, 1.0, 52.0, 29.0, 3.0, 52.0, 6.0, 23.0, 4.0, 1.0, 33.0, 1.0, 10.0, 8.0, 10.0, 1.0, 10.0, 2.0, 2.0, 1.0, 6.0, 285.0, 3.0, 262.0, 1.0, 9.0, 105.0, 2.0, 26.0, 28.0, 2.0, 2922.0, 35.0, 6.0, 15.0, 3089.0, 331.0, 1.0, 56.0, 1.0, 13.0, 1.0, 1.0, 1.0, 10.0, 80271.0, 50.0, 5.0, 1.0, 1.0, 1.0, 38.0, 3.0, 1.0, 1.0, 56.0, 15.0, 706.0, 5.0, 3.0, 1.0, 5.0, 8.0, 4.0, 3.0, 3.0, 16.0, 1.0, 4.0, 110.0, 5621.0, 222.0, 1.0, 35.0, 90.0, 42.0, 43.0, 1.0, 85.0, 153.0, 1.0, 27.0, 16.0], \"type\": \"choropleth\"}], \"name\": \"03/04/2020\"}]);\n",
       "                        }).then(function(){\n",
       "                            \n",
       "var gd = document.getElementById('42baae4b-74d7-4301-96bc-4912e7d70daf');\n",
       "var x = new MutationObserver(function (mutations, observer) {{\n",
       "        var display = window.getComputedStyle(gd).display;\n",
       "        if (!display || display === 'none') {{\n",
       "            console.log([gd, 'removed!']);\n",
       "            Plotly.purge(gd);\n",
       "            observer.disconnect();\n",
       "        }}\n",
       "}});\n",
       "\n",
       "// Listen for the removal of the full notebook cells\n",
       "var notebookContainer = gd.closest('#notebook-container');\n",
       "if (notebookContainer) {{\n",
       "    x.observe(notebookContainer, {childList: true});\n",
       "}}\n",
       "\n",
       "// Listen for the clearing of the current output cell\n",
       "var outputEl = gd.closest('.output');\n",
       "if (outputEl) {{\n",
       "    x.observe(outputEl, {childList: true});\n",
       "}}\n",
       "\n",
       "                        })\n",
       "                };\n",
       "                });\n",
       "            </script>\n",
       "        </div>"
      ]
     },
     "metadata": {},
     "output_type": "display_data"
    }
   ],
   "source": [
    "import plotly.express as px\n",
    "\n",
    "\n",
    "fig = px.choropleth(df_country_date,\n",
    "                    locations='Country',\n",
    "                    locationmode = 'country names',\n",
    "                    color='Confirmed',\n",
    "                    animation_frame='ObservationDate'\n",
    "                          )\n",
    "#fig.update_layout(margin={\"r\":0,\"t\":0,\"l\":0,\"b\":0})\n",
    "fig.show()"
   ]
  },
  {
   "cell_type": "code",
   "execution_count": null,
   "metadata": {},
   "outputs": [],
   "source": [
    "Follow instructions to make plotly work here:\n",
    "    \n",
    "    https://plot.ly/python/getting-started/#jupyterlab-support-python-35"
   ]
  }
 ],
 "metadata": {
  "kernelspec": {
   "display_name": "Python 3",
   "language": "python",
   "name": "python3"
  },
  "language_info": {
   "codemirror_mode": {
    "name": "ipython",
    "version": 3
   },
   "file_extension": ".py",
   "mimetype": "text/x-python",
   "name": "python",
   "nbconvert_exporter": "python",
   "pygments_lexer": "ipython3",
   "version": "3.7.5"
  }
 },
 "nbformat": 4,
 "nbformat_minor": 4
}
